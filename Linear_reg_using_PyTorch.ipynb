{
  "nbformat": 4,
  "nbformat_minor": 0,
  "metadata": {
    "colab": {
      "name": "Linear_reg using PyTorch.ipynb",
      "provenance": [],
      "collapsed_sections": []
    },
    "kernelspec": {
      "name": "python3",
      "display_name": "Python 3"
    }
  },
  "cells": [
    {
      "cell_type": "markdown",
      "metadata": {
        "id": "XcaBqZf8e7n6",
        "colab_type": "text"
      },
      "source": [
        "# LINEAR REGRESSION USING PYTORCH BUILT-INS\n",
        "\n"
      ]
    },
    {
      "cell_type": "markdown",
      "metadata": {
        "id": "XpaGS8iWfIhi",
        "colab_type": "text"
      },
      "source": [
        "Let's begin by importing the torch.nn package from PyTorch, which contains utility classes for building neural networks."
      ]
    },
    {
      "cell_type": "code",
      "metadata": {
        "id": "XouKhv87exfp",
        "colab_type": "code",
        "colab": {}
      },
      "source": [
        "import torch\n",
        "import numpy as np\n",
        "import torch.nn as nn\n"
      ],
      "execution_count": 0,
      "outputs": []
    },
    {
      "cell_type": "code",
      "metadata": {
        "id": "K8XJXiRvfN2Q",
        "colab_type": "code",
        "colab": {}
      },
      "source": [
        "# Input (temp, rainfall, humidity)\n",
        "inputs = np.array([[73, 67, 43], [91, 88, 64], [87, 134, 58], \n",
        "                   [102, 43, 37], [69, 96, 70], [73, 67, 43], \n",
        "                   [91, 88, 64], [87, 134, 58], [102, 43, 37], \n",
        "                   [69, 96, 70], [73, 67, 43], [91, 88, 64], \n",
        "                   [87, 134, 58], [102, 43, 37], [69, 96, 70]], \n",
        "                  dtype='float32')\n",
        "\n",
        "# Targets (mango, pomegranates)\n",
        "targets = np.array([[56, 70], [81, 101], [119, 133], \n",
        "                    [22, 37], [103, 119], [56, 70], \n",
        "                    [81, 101], [119, 133], [22, 37], \n",
        "                    [103, 119], [56, 70], [81, 101], \n",
        "                    [119, 133], [22, 37], [103, 119]], \n",
        "                   dtype='float32')\n",
        "\n",
        "inputs = torch.from_numpy(inputs) \n",
        "targets = torch.from_numpy(targets)"
      ],
      "execution_count": 0,
      "outputs": []
    },
    {
      "cell_type": "markdown",
      "metadata": {
        "id": "rRI36EBAfxpY",
        "colab_type": "text"
      },
      "source": [
        "## dataset and dataloader"
      ]
    },
    {
      "cell_type": "markdown",
      "metadata": {
        "id": "BFetK97ei8_M",
        "colab_type": "text"
      },
      "source": [
        "we'll create `TensorDataset`, which allows access to rows from inputs and targets as tuples"
      ]
    },
    {
      "cell_type": "code",
      "metadata": {
        "id": "ND2v0uxBfhmJ",
        "colab_type": "code",
        "colab": {}
      },
      "source": [
        "from torch.utils.data import TensorDataset"
      ],
      "execution_count": 0,
      "outputs": []
    },
    {
      "cell_type": "code",
      "metadata": {
        "id": "SAz-wj6Hf3V-",
        "colab_type": "code",
        "colab": {}
      },
      "source": [
        "#define dataset\n",
        "train_ds = TensorDataset(inputs, targets)\n"
      ],
      "execution_count": 0,
      "outputs": []
    },
    {
      "cell_type": "code",
      "metadata": {
        "id": "00HbwPQegBOC",
        "colab_type": "code",
        "outputId": "8dddac95-c2ef-48aa-b8c1-7dda0a6369d7",
        "colab": {
          "base_uri": "https://localhost:8080/",
          "height": 102
        }
      },
      "source": [
        "train_ds[0:3]"
      ],
      "execution_count": 0,
      "outputs": [
        {
          "output_type": "execute_result",
          "data": {
            "text/plain": [
              "(tensor([[ 73.,  67.,  43.],\n",
              "         [ 91.,  88.,  64.],\n",
              "         [ 87., 134.,  58.]]), tensor([[ 56.,  70.],\n",
              "         [ 81., 101.],\n",
              "         [119., 133.]]))"
            ]
          },
          "metadata": {
            "tags": []
          },
          "execution_count": 10
        }
      ]
    },
    {
      "cell_type": "markdown",
      "metadata": {
        "id": "zca8ehhEjXhg",
        "colab_type": "text"
      },
      "source": [
        "we'll also create a DataLoader which can split the data into batches of a predefined size while training. It also provides other functionalities like shuffling and random sampling of data."
      ]
    },
    {
      "cell_type": "code",
      "metadata": {
        "id": "hyH_Xa-NgDo_",
        "colab_type": "code",
        "colab": {}
      },
      "source": [
        "from torch.utils.data import DataLoader"
      ],
      "execution_count": 0,
      "outputs": []
    },
    {
      "cell_type": "code",
      "metadata": {
        "id": "kjpKZJYzgPP0",
        "colab_type": "code",
        "colab": {}
      },
      "source": [
        "#define dataloader\n",
        "batch_size = 5\n",
        "train_dl = DataLoader(train_ds,batch_size,shuffle=True)"
      ],
      "execution_count": 0,
      "outputs": []
    },
    {
      "cell_type": "code",
      "metadata": {
        "id": "aGlwrHIpgX6D",
        "colab_type": "code",
        "outputId": "b7a54158-47b3-458a-e370-b67d9d38e7fe",
        "colab": {
          "base_uri": "https://localhost:8080/",
          "height": 34
        }
      },
      "source": [
        "train_dl"
      ],
      "execution_count": 0,
      "outputs": [
        {
          "output_type": "execute_result",
          "data": {
            "text/plain": [
              "<torch.utils.data.dataloader.DataLoader at 0x7fad9f3cc5f8>"
            ]
          },
          "metadata": {
            "tags": []
          },
          "execution_count": 13
        }
      ]
    },
    {
      "cell_type": "code",
      "metadata": {
        "id": "ZHdQDPdega95",
        "colab_type": "code",
        "outputId": "e45d382d-6699-4142-fb26-18769e8f8712",
        "colab": {
          "base_uri": "https://localhost:8080/",
          "height": 187
        }
      },
      "source": [
        "for xb, yb in train_dl:\n",
        "  print(xb)\n",
        "  print(yb)\n",
        "  break"
      ],
      "execution_count": 0,
      "outputs": [
        {
          "output_type": "stream",
          "text": [
            "tensor([[ 87., 134.,  58.],\n",
            "        [ 87., 134.,  58.],\n",
            "        [ 91.,  88.,  64.],\n",
            "        [102.,  43.,  37.],\n",
            "        [102.,  43.,  37.]])\n",
            "tensor([[119., 133.],\n",
            "        [119., 133.],\n",
            "        [ 81., 101.],\n",
            "        [ 22.,  37.],\n",
            "        [ 22.,  37.]])\n"
          ],
          "name": "stdout"
        }
      ]
    },
    {
      "cell_type": "markdown",
      "metadata": {
        "id": "Hygg5k0wj637",
        "colab_type": "text"
      },
      "source": [
        "The data loader is used in `for-each`loop. In each iteration, the data loader returns one batch of data,with the given batch size.\n",
        "if `shuffle=True` it shuffles training data before creating batches."
      ]
    },
    {
      "cell_type": "markdown",
      "metadata": {
        "id": "Jj4iVtbbkZjQ",
        "colab_type": "text"
      },
      "source": [
        "## nn.linear\n",
        "\n",
        "we can define model using `nn.linear` class from PyTorch which automatically initialises the weights and biases"
      ]
    },
    {
      "cell_type": "code",
      "metadata": {
        "id": "hikc2f56ghbU",
        "colab_type": "code",
        "outputId": "f0f95895-b073-4210-a01b-f6d8d8edd9ab",
        "colab": {
          "base_uri": "https://localhost:8080/",
          "height": 102
        }
      },
      "source": [
        "#define model\n",
        "model = nn.Linear(3,2)\n",
        "print(model.weight)\n",
        "print(model.bias)"
      ],
      "execution_count": 0,
      "outputs": [
        {
          "output_type": "stream",
          "text": [
            "Parameter containing:\n",
            "tensor([[-0.2829,  0.3215, -0.1864],\n",
            "        [-0.3682, -0.4042,  0.5458]], requires_grad=True)\n",
            "Parameter containing:\n",
            "tensor([0.4707, 0.1875], requires_grad=True)\n"
          ],
          "name": "stdout"
        }
      ]
    },
    {
      "cell_type": "markdown",
      "metadata": {
        "id": "4ILgigOAkxbK",
        "colab_type": "text"
      },
      "source": [
        "`.parameters` method of PyTorch returns a list containing all the weights and bias matrices present in the model."
      ]
    },
    {
      "cell_type": "code",
      "metadata": {
        "id": "VFMcvekWg8iw",
        "colab_type": "code",
        "outputId": "6ed0079b-f192-42a5-cc6d-51e812501211",
        "colab": {
          "base_uri": "https://localhost:8080/",
          "height": 102
        }
      },
      "source": [
        "#parameters\n",
        "list(model.parameters())"
      ],
      "execution_count": 0,
      "outputs": [
        {
          "output_type": "execute_result",
          "data": {
            "text/plain": [
              "[Parameter containing:\n",
              " tensor([[-0.2829,  0.3215, -0.1864],\n",
              "         [-0.3682, -0.4042,  0.5458]], requires_grad=True),\n",
              " Parameter containing:\n",
              " tensor([0.4707, 0.1875], requires_grad=True)]"
            ]
          },
          "metadata": {
            "tags": []
          },
          "execution_count": 19
        }
      ]
    },
    {
      "cell_type": "markdown",
      "metadata": {
        "id": "IDXR2oSBlRgN",
        "colab_type": "text"
      },
      "source": [
        "we can use the model to generate predictions "
      ]
    },
    {
      "cell_type": "code",
      "metadata": {
        "id": "4O1o9f8chT7t",
        "colab_type": "code",
        "colab": {}
      },
      "source": [
        "#generate predictions\n",
        "preds = model(inputs)\n"
      ],
      "execution_count": 0,
      "outputs": []
    },
    {
      "cell_type": "code",
      "metadata": {
        "id": "Nb7FxxMihaBa",
        "colab_type": "code",
        "outputId": "6b35abaf-de2e-409c-c157-78e23ddc8915",
        "colab": {
          "base_uri": "https://localhost:8080/",
          "height": 272
        }
      },
      "source": [
        "preds"
      ],
      "execution_count": 0,
      "outputs": [
        {
          "output_type": "execute_result",
          "data": {
            "text/plain": [
              "tensor([[ -6.6603, -30.3033],\n",
              "        [ -8.9171, -33.9570],\n",
              "        [  8.1205, -54.3548],\n",
              "        [-21.4610, -34.5538],\n",
              "        [ -1.2401, -25.8158],\n",
              "        [ -6.6603, -30.3033],\n",
              "        [ -8.9171, -33.9570],\n",
              "        [  8.1205, -54.3548],\n",
              "        [-21.4610, -34.5538],\n",
              "        [ -1.2401, -25.8158],\n",
              "        [ -6.6603, -30.3033],\n",
              "        [ -8.9171, -33.9570],\n",
              "        [  8.1205, -54.3548],\n",
              "        [-21.4610, -34.5538],\n",
              "        [ -1.2401, -25.8158]], grad_fn=<AddmmBackward>)"
            ]
          },
          "metadata": {
            "tags": []
          },
          "execution_count": 22
        }
      ]
    },
    {
      "cell_type": "markdown",
      "metadata": {
        "id": "5QrQRX_slfUs",
        "colab_type": "text"
      },
      "source": [
        "## Loss Function\n",
        "\n",
        "we can use the built in loss function `mse_loss`"
      ]
    },
    {
      "cell_type": "code",
      "metadata": {
        "id": "SFLJFuASheyO",
        "colab_type": "code",
        "colab": {}
      },
      "source": [
        "#the nn.functional package contains many useful loss functions \n",
        "import torch.nn.functional as F"
      ],
      "execution_count": 0,
      "outputs": []
    },
    {
      "cell_type": "code",
      "metadata": {
        "id": "I6p9mOrkhkNV",
        "colab_type": "code",
        "colab": {}
      },
      "source": [
        "#define loss function\n",
        "loss_fn = F.mse_loss"
      ],
      "execution_count": 0,
      "outputs": []
    },
    {
      "cell_type": "code",
      "metadata": {
        "id": "7RtLjhbvhn64",
        "colab_type": "code",
        "colab": {}
      },
      "source": [
        "#compute loss for our model\n",
        "loss = loss_fn(model(inputs), targets)\n"
      ],
      "execution_count": 0,
      "outputs": []
    },
    {
      "cell_type": "code",
      "metadata": {
        "id": "lqaKy-mHhtTp",
        "colab_type": "code",
        "outputId": "60a918c3-350c-437f-cf7b-508b9f227172",
        "colab": {
          "base_uri": "https://localhost:8080/",
          "height": 34
        }
      },
      "source": [
        "loss"
      ],
      "execution_count": 0,
      "outputs": [
        {
          "output_type": "execute_result",
          "data": {
            "text/plain": [
              "tensor(12652.8066, grad_fn=<MseLossBackward>)"
            ]
          },
          "metadata": {
            "tags": []
          },
          "execution_count": 26
        }
      ]
    },
    {
      "cell_type": "markdown",
      "metadata": {
        "id": "FakxFWa5mAEE",
        "colab_type": "text"
      },
      "source": [
        "## Optimizer\n",
        "\n",
        "we can use the optimizer `optim.SGD`"
      ]
    },
    {
      "cell_type": "code",
      "metadata": {
        "id": "FLYh-_Boht-S",
        "colab_type": "code",
        "colab": {}
      },
      "source": [
        "opt = torch.optim.SGD(model.parameters(), lr = 1e-5)"
      ],
      "execution_count": 0,
      "outputs": []
    },
    {
      "cell_type": "markdown",
      "metadata": {
        "id": "byEetqsPmQHe",
        "colab_type": "text"
      },
      "source": [
        "`model.parameters` is passed as an argument to `optim.SGD` so that the optimizer knows which matrices should be modified during the update step."
      ]
    },
    {
      "cell_type": "markdown",
      "metadata": {
        "id": "H6BSw970meci",
        "colab_type": "text"
      },
      "source": [
        "## Train the model"
      ]
    },
    {
      "cell_type": "markdown",
      "metadata": {
        "id": "WvVYRF49mjYZ",
        "colab_type": "text"
      },
      "source": [
        "We will follow 5 steps - \n",
        "1. Generate predictions\n",
        "2. Calculate the loss\n",
        "3. Compute gradients with respect to the weights and biases\n",
        "4. Adjust the weights by subtracting a small quantity proportional to the gradient\n",
        "5. reset the gradients to zero"
      ]
    },
    {
      "cell_type": "code",
      "metadata": {
        "id": "XhoY3IU2h6Zp",
        "colab_type": "code",
        "colab": {}
      },
      "source": [
        "# Utility function to train the model\n",
        "def fit(num_epochs, model, loss_fn, opt):\n",
        "    \n",
        "    # Repeat for given number of epochs\n",
        "    for epoch in range(num_epochs):\n",
        "        \n",
        "        # Train with batches of data\n",
        "        for xb,yb in train_dl:\n",
        "            \n",
        "            # 1. Generate predictions\n",
        "            pred = model(xb)\n",
        "            \n",
        "            # 2. Calculate loss\n",
        "            loss = loss_fn(pred, yb)\n",
        "            \n",
        "            # 3. Compute gradients\n",
        "            loss.backward()\n",
        "            \n",
        "            # 4. Update parameters using gradients\n",
        "            opt.step()\n",
        "            \n",
        "            # 5. Reset the gradients to zero\n",
        "            opt.zero_grad()\n",
        "        \n",
        "        # Print the progress\n",
        "        if (epoch+1) % 10 == 0:\n",
        "            print('Epoch [{}/{}], Loss: {:.4f}'.format(epoch+1, num_epochs, loss.item()))"
      ],
      "execution_count": 0,
      "outputs": []
    },
    {
      "cell_type": "markdown",
      "metadata": {
        "id": "Weo1VGjcnDYs",
        "colab_type": "text"
      },
      "source": [
        "* we use `opt.step` to perform the update and `opt_zero.grad` to reset the gradients to zero\n",
        "\n",
        "* `loss.item` returns the actual value stored in the loss tensor "
      ]
    },
    {
      "cell_type": "markdown",
      "metadata": {
        "id": "w_6jiAd2ngGh",
        "colab_type": "text"
      },
      "source": [
        "Lets train the model now for 100 epochs"
      ]
    },
    {
      "cell_type": "code",
      "metadata": {
        "id": "dMZ0BkruiF9Y",
        "colab_type": "code",
        "outputId": "8e822c9a-e02a-405b-8934-fdd45a7e7561",
        "colab": {
          "base_uri": "https://localhost:8080/",
          "height": 187
        }
      },
      "source": [
        "fit(100, model, loss_fn, opt)"
      ],
      "execution_count": 0,
      "outputs": [
        {
          "output_type": "stream",
          "text": [
            "Epoch [10/100], Loss: 172.3027\n",
            "Epoch [20/100], Loss: 138.3775\n",
            "Epoch [30/100], Loss: 69.2832\n",
            "Epoch [40/100], Loss: 35.3044\n",
            "Epoch [50/100], Loss: 75.0550\n",
            "Epoch [60/100], Loss: 53.5310\n",
            "Epoch [70/100], Loss: 19.9410\n",
            "Epoch [80/100], Loss: 19.8258\n",
            "Epoch [90/100], Loss: 17.1958\n",
            "Epoch [100/100], Loss: 6.5585\n"
          ],
          "name": "stdout"
        }
      ]
    },
    {
      "cell_type": "code",
      "metadata": {
        "id": "YBncwg1iiJns",
        "colab_type": "code",
        "outputId": "2a0ea759-3053-4ddd-d74a-2a00102cfab8",
        "colab": {
          "base_uri": "https://localhost:8080/",
          "height": 272
        }
      },
      "source": [
        "# Generate predictions\n",
        "preds = model(inputs)\n",
        "preds"
      ],
      "execution_count": 0,
      "outputs": [
        {
          "output_type": "execute_result",
          "data": {
            "text/plain": [
              "tensor([[ 58.2242,  71.0804],\n",
              "        [ 79.4001, 101.8216],\n",
              "        [123.5077, 128.7396],\n",
              "        [ 26.3170,  41.6629],\n",
              "        [ 94.0659, 118.4926],\n",
              "        [ 58.2242,  71.0804],\n",
              "        [ 79.4001, 101.8216],\n",
              "        [123.5077, 128.7396],\n",
              "        [ 26.3170,  41.6629],\n",
              "        [ 94.0659, 118.4926],\n",
              "        [ 58.2242,  71.0804],\n",
              "        [ 79.4001, 101.8216],\n",
              "        [123.5077, 128.7396],\n",
              "        [ 26.3170,  41.6629],\n",
              "        [ 94.0659, 118.4926]], grad_fn=<AddmmBackward>)"
            ]
          },
          "metadata": {
            "tags": []
          },
          "execution_count": 30
        }
      ]
    },
    {
      "cell_type": "code",
      "metadata": {
        "id": "3K9QCnsQiPMX",
        "colab_type": "code",
        "outputId": "9cc6fc9c-3f3a-45c3-ae56-d280f98c570e",
        "colab": {
          "base_uri": "https://localhost:8080/",
          "height": 272
        }
      },
      "source": [
        "# Compare with targets\n",
        "targets"
      ],
      "execution_count": 0,
      "outputs": [
        {
          "output_type": "execute_result",
          "data": {
            "text/plain": [
              "tensor([[ 56.,  70.],\n",
              "        [ 81., 101.],\n",
              "        [119., 133.],\n",
              "        [ 22.,  37.],\n",
              "        [103., 119.],\n",
              "        [ 56.,  70.],\n",
              "        [ 81., 101.],\n",
              "        [119., 133.],\n",
              "        [ 22.,  37.],\n",
              "        [103., 119.],\n",
              "        [ 56.,  70.],\n",
              "        [ 81., 101.],\n",
              "        [119., 133.],\n",
              "        [ 22.,  37.],\n",
              "        [103., 119.]])"
            ]
          },
          "metadata": {
            "tags": []
          },
          "execution_count": 31
        }
      ]
    },
    {
      "cell_type": "markdown",
      "metadata": {
        "id": "B8yLLWhant-J",
        "colab_type": "text"
      },
      "source": [
        "# Outcome\n",
        "\n",
        "The predictions are quite close to our targets, and now we have a good model to predict yields for our crop!"
      ]
    },
    {
      "cell_type": "code",
      "metadata": {
        "id": "m0a1PgYiiTW2",
        "colab_type": "code",
        "colab": {}
      },
      "source": [
        ""
      ],
      "execution_count": 0,
      "outputs": []
    }
  ]
}