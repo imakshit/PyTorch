{
 "cells": [
  {
   "cell_type": "markdown",
   "metadata": {
    "_cell_guid": "b1076dfc-b9ad-4769-8c92-a6c4dae69d19",
    "_uuid": "8f2839f25d086af736a60e9eeb907d3b93b6e0e5"
   },
   "source": [
    "# Insurance cost prediction using linear regression\n",
    "\n",
    "In this assignment we're going to use information like a person's age, sex, BMI, no. of children and smoking habit to predict the price of yearly medical bills. This kind of model is useful for insurance companies to determine the yearly insurance premium for a person. The dataset for this problem is taken from: https://www.kaggle.com/mirichoi0218/insurance\n",
    "\n",
    "\n",
    "We will create a model with the following steps:\n",
    "1. Download and explore the dataset\n",
    "2. Prepare the dataset for training\n",
    "3. Create a linear regression model\n",
    "4. Train the model to fit the data\n",
    "5. Make predictions using the trained model\n",
    "\n",
    "\n",
    "This assignment builds upon the concepts from the first 2 lectures. It will help to review these Jupyter notebooks:\n",
    "- PyTorch basics: https://jovian.ml/aakashns/01-pytorch-basics\n",
    "- Linear Regression: https://jovian.ml/aakashns/02-linear-regression\n",
    "- Logistic Regression: https://jovian.ml/aakashns/03-logistic-regression\n",
    "- Linear regression (minimal): https://jovian.ml/aakashns/housing-linear-minimal\n",
    "- Logistic regression (minimal): https://jovian.ml/aakashns/mnist-logistic-minimal\n",
    "\n",
    "As you go through this notebook, you will find a **???** in certain places. Your job is to replace the **???** with appropriate code or values, to ensure that the notebook runs properly end-to-end . In some cases, you'll be required to choose some hyperparameters (learning rate, batch size etc.). Try to experiment with the hypeparameters to get the lowest loss.\n"
   ]
  },
  {
   "cell_type": "code",
   "execution_count": 1,
   "metadata": {},
   "outputs": [
    {
     "name": "stdout",
     "output_type": "stream",
     "text": [
      "\u001b[33mWARNING: You are using pip version 20.1; however, version 20.1.1 is available.\r\n",
      "You should consider upgrading via the '/opt/conda/bin/python3.7 -m pip install --upgrade pip' command.\u001b[0m\r\n"
     ]
    }
   ],
   "source": [
    "# Uncomment and run the commands below if imports fail\n",
    "# !conda install numpy pytorch torchvision cpuonly -c pytorch -y\n",
    "# !pip install matplotlib --upgrade --quiet\n",
    "!pip install jovian --upgrade --quiet"
   ]
  },
  {
   "cell_type": "code",
   "execution_count": 2,
   "metadata": {},
   "outputs": [
    {
     "data": {
      "application/javascript": [
       "if (window.IPython && IPython.notebook.kernel) IPython.notebook.kernel.execute('jovian.utils.jupyter.get_notebook_name_saved = lambda: \"' + IPython.notebook.notebook_name + '\"')"
      ],
      "text/plain": [
       "<IPython.core.display.Javascript object>"
      ]
     },
     "metadata": {},
     "output_type": "display_data"
    }
   ],
   "source": [
    "import torch\n",
    "import jovian\n",
    "import torchvision\n",
    "import torch.nn as nn\n",
    "import pandas as pd\n",
    "import matplotlib.pyplot as plt\n",
    "import torch.nn.functional as F\n",
    "from torchvision.datasets.utils import download_url\n",
    "from torch.utils.data import DataLoader, TensorDataset, random_split"
   ]
  },
  {
   "cell_type": "code",
   "execution_count": 3,
   "metadata": {},
   "outputs": [],
   "source": [
    "project_name='02-insurance-linear-regression' # will be used by jovian.commit"
   ]
  },
  {
   "cell_type": "markdown",
   "metadata": {},
   "source": [
    "## Step 1: Download and explore the data\n",
    "\n",
    "Let us begin by downloading the data. We'll use the `download_url` function from PyTorch to get the data as a CSV (comma-separated values) file. "
   ]
  },
  {
   "cell_type": "code",
   "execution_count": 4,
   "metadata": {
    "_cell_guid": "79c7e3d0-c299-4dcb-8224-4455121ee9b0",
    "_uuid": "d629ff2d2480ee46fbb7e2d37f6b5fab8052498a"
   },
   "outputs": [
    {
     "name": "stdout",
     "output_type": "stream",
     "text": [
      "Downloading https://hub.jovian.ml/wp-content/uploads/2020/05/insurance.csv to ./insurance.csv\n"
     ]
    },
    {
     "data": {
      "application/vnd.jupyter.widget-view+json": {
       "model_id": "bb3164e42a8444b9912fa081e4309f9b",
       "version_major": 2,
       "version_minor": 0
      },
      "text/plain": [
       "HBox(children=(FloatProgress(value=1.0, bar_style='info', max=1.0), HTML(value='')))"
      ]
     },
     "metadata": {},
     "output_type": "display_data"
    }
   ],
   "source": [
    "DATASET_URL = \"https://hub.jovian.ml/wp-content/uploads/2020/05/insurance.csv\"\n",
    "DATA_FILENAME = \"insurance.csv\"\n",
    "download_url(DATASET_URL, '.')"
   ]
  },
  {
   "cell_type": "markdown",
   "metadata": {},
   "source": [
    "To load the dataset into memory, we'll use the `read_csv` function from the `pandas` library. The data will be loaded as a Pandas dataframe. See this short tutorial to learn more: https://data36.com/pandas-tutorial-1-basics-reading-data-files-dataframes-data-selection/"
   ]
  },
  {
   "cell_type": "code",
   "execution_count": 5,
   "metadata": {},
   "outputs": [
    {
     "data": {
      "text/html": [
       "<div>\n",
       "<style scoped>\n",
       "    .dataframe tbody tr th:only-of-type {\n",
       "        vertical-align: middle;\n",
       "    }\n",
       "\n",
       "    .dataframe tbody tr th {\n",
       "        vertical-align: top;\n",
       "    }\n",
       "\n",
       "    .dataframe thead th {\n",
       "        text-align: right;\n",
       "    }\n",
       "</style>\n",
       "<table border=\"1\" class=\"dataframe\">\n",
       "  <thead>\n",
       "    <tr style=\"text-align: right;\">\n",
       "      <th></th>\n",
       "      <th>age</th>\n",
       "      <th>sex</th>\n",
       "      <th>bmi</th>\n",
       "      <th>children</th>\n",
       "      <th>smoker</th>\n",
       "      <th>region</th>\n",
       "      <th>charges</th>\n",
       "    </tr>\n",
       "  </thead>\n",
       "  <tbody>\n",
       "    <tr>\n",
       "      <th>0</th>\n",
       "      <td>19</td>\n",
       "      <td>female</td>\n",
       "      <td>27.900</td>\n",
       "      <td>0</td>\n",
       "      <td>yes</td>\n",
       "      <td>southwest</td>\n",
       "      <td>16884.92400</td>\n",
       "    </tr>\n",
       "    <tr>\n",
       "      <th>1</th>\n",
       "      <td>18</td>\n",
       "      <td>male</td>\n",
       "      <td>33.770</td>\n",
       "      <td>1</td>\n",
       "      <td>no</td>\n",
       "      <td>southeast</td>\n",
       "      <td>1725.55230</td>\n",
       "    </tr>\n",
       "    <tr>\n",
       "      <th>2</th>\n",
       "      <td>28</td>\n",
       "      <td>male</td>\n",
       "      <td>33.000</td>\n",
       "      <td>3</td>\n",
       "      <td>no</td>\n",
       "      <td>southeast</td>\n",
       "      <td>4449.46200</td>\n",
       "    </tr>\n",
       "    <tr>\n",
       "      <th>3</th>\n",
       "      <td>33</td>\n",
       "      <td>male</td>\n",
       "      <td>22.705</td>\n",
       "      <td>0</td>\n",
       "      <td>no</td>\n",
       "      <td>northwest</td>\n",
       "      <td>21984.47061</td>\n",
       "    </tr>\n",
       "    <tr>\n",
       "      <th>4</th>\n",
       "      <td>32</td>\n",
       "      <td>male</td>\n",
       "      <td>28.880</td>\n",
       "      <td>0</td>\n",
       "      <td>no</td>\n",
       "      <td>northwest</td>\n",
       "      <td>3866.85520</td>\n",
       "    </tr>\n",
       "  </tbody>\n",
       "</table>\n",
       "</div>"
      ],
      "text/plain": [
       "   age     sex     bmi  children smoker     region      charges\n",
       "0   19  female  27.900         0    yes  southwest  16884.92400\n",
       "1   18    male  33.770         1     no  southeast   1725.55230\n",
       "2   28    male  33.000         3     no  southeast   4449.46200\n",
       "3   33    male  22.705         0     no  northwest  21984.47061\n",
       "4   32    male  28.880         0     no  northwest   3866.85520"
      ]
     },
     "execution_count": 5,
     "metadata": {},
     "output_type": "execute_result"
    }
   ],
   "source": [
    "dataframe_raw = pd.read_csv(DATA_FILENAME)\n",
    "dataframe_raw.head()"
   ]
  },
  {
   "cell_type": "markdown",
   "metadata": {},
   "source": [
    "We're going to do a slight customization of the data, so that you every participant receives a slightly different version of the dataset. Fill in your name below as a string (enter at least 5 characters)"
   ]
  },
  {
   "cell_type": "code",
   "execution_count": 6,
   "metadata": {},
   "outputs": [],
   "source": [
    "your_name = \"akshit\" # at least 5 characters"
   ]
  },
  {
   "cell_type": "markdown",
   "metadata": {},
   "source": [
    "The `customize_dataset` function will customize the dataset slightly using your name as a source of random numbers."
   ]
  },
  {
   "cell_type": "code",
   "execution_count": 7,
   "metadata": {},
   "outputs": [],
   "source": [
    "def customize_dataset(dataframe_raw, rand_str):\n",
    "    dataframe = dataframe_raw.copy(deep=True)\n",
    "    # drop some rows\n",
    "    dataframe = dataframe.sample(int(0.95*len(dataframe)), random_state=int(ord(rand_str[0])))\n",
    "    # scale input\n",
    "    dataframe.bmi = dataframe.bmi * ord(rand_str[1])/100.\n",
    "    # scale target\n",
    "    dataframe.charges = dataframe.charges * ord(rand_str[2])/100.\n",
    "    # drop column\n",
    "    if ord(rand_str[3]) % 2 == 1:\n",
    "        dataframe = dataframe.drop(['region'], axis=1)\n",
    "    return dataframe"
   ]
  },
  {
   "cell_type": "code",
   "execution_count": 8,
   "metadata": {},
   "outputs": [
    {
     "data": {
      "text/html": [
       "<div>\n",
       "<style scoped>\n",
       "    .dataframe tbody tr th:only-of-type {\n",
       "        vertical-align: middle;\n",
       "    }\n",
       "\n",
       "    .dataframe tbody tr th {\n",
       "        vertical-align: top;\n",
       "    }\n",
       "\n",
       "    .dataframe thead th {\n",
       "        text-align: right;\n",
       "    }\n",
       "</style>\n",
       "<table border=\"1\" class=\"dataframe\">\n",
       "  <thead>\n",
       "    <tr style=\"text-align: right;\">\n",
       "      <th></th>\n",
       "      <th>age</th>\n",
       "      <th>sex</th>\n",
       "      <th>bmi</th>\n",
       "      <th>children</th>\n",
       "      <th>smoker</th>\n",
       "      <th>region</th>\n",
       "      <th>charges</th>\n",
       "    </tr>\n",
       "  </thead>\n",
       "  <tbody>\n",
       "    <tr>\n",
       "      <th>27</th>\n",
       "      <td>55</td>\n",
       "      <td>female</td>\n",
       "      <td>35.06925</td>\n",
       "      <td>2</td>\n",
       "      <td>no</td>\n",
       "      <td>northwest</td>\n",
       "      <td>14108.927088</td>\n",
       "    </tr>\n",
       "    <tr>\n",
       "      <th>997</th>\n",
       "      <td>63</td>\n",
       "      <td>female</td>\n",
       "      <td>39.42950</td>\n",
       "      <td>0</td>\n",
       "      <td>no</td>\n",
       "      <td>southeast</td>\n",
       "      <td>15971.163775</td>\n",
       "    </tr>\n",
       "    <tr>\n",
       "      <th>162</th>\n",
       "      <td>54</td>\n",
       "      <td>male</td>\n",
       "      <td>42.37200</td>\n",
       "      <td>1</td>\n",
       "      <td>no</td>\n",
       "      <td>southwest</td>\n",
       "      <td>12018.134800</td>\n",
       "    </tr>\n",
       "    <tr>\n",
       "      <th>824</th>\n",
       "      <td>60</td>\n",
       "      <td>male</td>\n",
       "      <td>26.02240</td>\n",
       "      <td>0</td>\n",
       "      <td>no</td>\n",
       "      <td>northwest</td>\n",
       "      <td>14402.145520</td>\n",
       "    </tr>\n",
       "    <tr>\n",
       "      <th>392</th>\n",
       "      <td>48</td>\n",
       "      <td>male</td>\n",
       "      <td>33.64615</td>\n",
       "      <td>1</td>\n",
       "      <td>no</td>\n",
       "      <td>northeast</td>\n",
       "      <td>10308.669633</td>\n",
       "    </tr>\n",
       "  </tbody>\n",
       "</table>\n",
       "</div>"
      ],
      "text/plain": [
       "     age     sex       bmi  children smoker     region       charges\n",
       "27    55  female  35.06925         2     no  northwest  14108.927088\n",
       "997   63  female  39.42950         0     no  southeast  15971.163775\n",
       "162   54    male  42.37200         1     no  southwest  12018.134800\n",
       "824   60    male  26.02240         0     no  northwest  14402.145520\n",
       "392   48    male  33.64615         1     no  northeast  10308.669633"
      ]
     },
     "execution_count": 8,
     "metadata": {},
     "output_type": "execute_result"
    }
   ],
   "source": [
    "dataframe = customize_dataset(dataframe_raw, your_name)\n",
    "dataframe.head()"
   ]
  },
  {
   "cell_type": "markdown",
   "metadata": {},
   "source": [
    "Let us answer some basic questions about the dataset. \n",
    "\n",
    "\n",
    "**Q: How many rows does the dataset have?**"
   ]
  },
  {
   "cell_type": "code",
   "execution_count": 9,
   "metadata": {},
   "outputs": [
    {
     "data": {
      "text/plain": [
       "(1271, 7)"
      ]
     },
     "execution_count": 9,
     "metadata": {},
     "output_type": "execute_result"
    }
   ],
   "source": [
    "dataframe.shape"
   ]
  },
  {
   "cell_type": "code",
   "execution_count": 13,
   "metadata": {},
   "outputs": [
    {
     "name": "stdout",
     "output_type": "stream",
     "text": [
      "<class 'pandas.core.frame.DataFrame'>\n",
      "Int64Index: 1271 entries, 27 to 1205\n",
      "Data columns (total 7 columns):\n",
      " #   Column    Non-Null Count  Dtype  \n",
      "---  ------    --------------  -----  \n",
      " 0   age       1271 non-null   int64  \n",
      " 1   sex       1271 non-null   object \n",
      " 2   bmi       1271 non-null   float64\n",
      " 3   children  1271 non-null   int64  \n",
      " 4   smoker    1271 non-null   object \n",
      " 5   region    1271 non-null   object \n",
      " 6   charges   1271 non-null   float64\n",
      "dtypes: float64(2), int64(2), object(3)\n",
      "memory usage: 79.4+ KB\n"
     ]
    }
   ],
   "source": [
    "dataframe.info()"
   ]
  },
  {
   "cell_type": "code",
   "execution_count": 14,
   "metadata": {},
   "outputs": [
    {
     "name": "stdout",
     "output_type": "stream",
     "text": [
      "1271\n"
     ]
    }
   ],
   "source": [
    "num_rows = len(dataframe)\n",
    "print(num_rows)"
   ]
  },
  {
   "cell_type": "markdown",
   "metadata": {},
   "source": [
    "**Q: How many columns doe the dataset have**"
   ]
  },
  {
   "cell_type": "code",
   "execution_count": 15,
   "metadata": {},
   "outputs": [
    {
     "name": "stdout",
     "output_type": "stream",
     "text": [
      "7\n"
     ]
    }
   ],
   "source": [
    "num_cols = len(dataframe.columns)\n",
    "print(num_cols)"
   ]
  },
  {
   "cell_type": "markdown",
   "metadata": {},
   "source": [
    "**Q: What are the column titles of the input variables?**"
   ]
  },
  {
   "cell_type": "code",
   "execution_count": 16,
   "metadata": {},
   "outputs": [
    {
     "data": {
      "text/plain": [
       "Index(['age', 'sex', 'bmi', 'children', 'smoker', 'region'], dtype='object')"
      ]
     },
     "execution_count": 16,
     "metadata": {},
     "output_type": "execute_result"
    }
   ],
   "source": [
    "input_cols = dataframe.columns[:-1]\n",
    "input_cols"
   ]
  },
  {
   "cell_type": "markdown",
   "metadata": {},
   "source": [
    "**Q: Which of the input columns are non-numeric or categorial variables ?**\n",
    "\n",
    "Hint: `sex` is one of them. List the columns that are not numbers."
   ]
  },
  {
   "cell_type": "code",
   "execution_count": 17,
   "metadata": {},
   "outputs": [
    {
     "data": {
      "text/plain": [
       "Index(['sex', 'smoker', 'region'], dtype='object')"
      ]
     },
     "execution_count": 17,
     "metadata": {},
     "output_type": "execute_result"
    }
   ],
   "source": [
    "categorical_cols = dataframe.select_dtypes(include=['object']).columns\n",
    "categorical_cols"
   ]
  },
  {
   "cell_type": "markdown",
   "metadata": {},
   "source": [
    "**Q: What are the column titles of output/target variable(s)?**"
   ]
  },
  {
   "cell_type": "code",
   "execution_count": 18,
   "metadata": {},
   "outputs": [
    {
     "data": {
      "text/plain": [
       "['charges']"
      ]
     },
     "execution_count": 18,
     "metadata": {},
     "output_type": "execute_result"
    }
   ],
   "source": [
    "output_cols = ['charges']\n",
    "output_cols"
   ]
  },
  {
   "cell_type": "markdown",
   "metadata": {},
   "source": [
    "**Q: (Optional) What is the minimum, maximum and average value of the `charges` column? Can you show the distribution of values in a graph?**\n",
    "Use this data visualization cheatsheet for referece: https://jovian.ml/aakashns/dataviz-cheatsheet"
   ]
  },
  {
   "cell_type": "code",
   "execution_count": 19,
   "metadata": {},
   "outputs": [
    {
     "name": "stdout",
     "output_type": "stream",
     "text": [
      "minimum: 1290.1549850000001 \n",
      "maximum: 73335.99221150001 \n",
      "mean: 15311.324601604136 \n"
     ]
    }
   ],
   "source": [
    "# Write your answer here\n",
    "minimum = dataframe.charges.min()\n",
    "maximum = dataframe.charges.max()\n",
    "mean = dataframe.charges.mean()\n",
    "print(\"minimum: {} \".format(minimum))\n",
    "print(\"maximum: {} \".format(maximum))\n",
    "print(\"mean: {} \".format(mean))"
   ]
  },
  {
   "cell_type": "code",
   "execution_count": 21,
   "metadata": {},
   "outputs": [
    {
     "data": {
      "text/html": [
       "<div>\n",
       "<style scoped>\n",
       "    .dataframe tbody tr th:only-of-type {\n",
       "        vertical-align: middle;\n",
       "    }\n",
       "\n",
       "    .dataframe tbody tr th {\n",
       "        vertical-align: top;\n",
       "    }\n",
       "\n",
       "    .dataframe thead th {\n",
       "        text-align: right;\n",
       "    }\n",
       "</style>\n",
       "<table border=\"1\" class=\"dataframe\">\n",
       "  <thead>\n",
       "    <tr style=\"text-align: right;\">\n",
       "      <th></th>\n",
       "      <th>charges</th>\n",
       "    </tr>\n",
       "  </thead>\n",
       "  <tbody>\n",
       "    <tr>\n",
       "      <th>count</th>\n",
       "      <td>1271.000000</td>\n",
       "    </tr>\n",
       "    <tr>\n",
       "      <th>mean</th>\n",
       "      <td>15311.324602</td>\n",
       "    </tr>\n",
       "    <tr>\n",
       "      <th>std</th>\n",
       "      <td>13994.965032</td>\n",
       "    </tr>\n",
       "    <tr>\n",
       "      <th>min</th>\n",
       "      <td>1290.154985</td>\n",
       "    </tr>\n",
       "    <tr>\n",
       "      <th>25%</th>\n",
       "      <td>5465.206410</td>\n",
       "    </tr>\n",
       "    <tr>\n",
       "      <th>50%</th>\n",
       "      <td>10800.047900</td>\n",
       "    </tr>\n",
       "    <tr>\n",
       "      <th>75%</th>\n",
       "      <td>18921.296466</td>\n",
       "    </tr>\n",
       "    <tr>\n",
       "      <th>max</th>\n",
       "      <td>73335.992212</td>\n",
       "    </tr>\n",
       "  </tbody>\n",
       "</table>\n",
       "</div>"
      ],
      "text/plain": [
       "            charges\n",
       "count   1271.000000\n",
       "mean   15311.324602\n",
       "std    13994.965032\n",
       "min     1290.154985\n",
       "25%     5465.206410\n",
       "50%    10800.047900\n",
       "75%    18921.296466\n",
       "max    73335.992212"
      ]
     },
     "execution_count": 21,
     "metadata": {},
     "output_type": "execute_result"
    }
   ],
   "source": [
    "#second method\n",
    "dataframe[output_cols].describe()"
   ]
  },
  {
   "cell_type": "code",
   "execution_count": 22,
   "metadata": {},
   "outputs": [
    {
     "data": {
      "text/plain": [
       "array([[<matplotlib.axes._subplots.AxesSubplot object at 0x7f674828ef50>,\n",
       "        <matplotlib.axes._subplots.AxesSubplot object at 0x7f67481c01d0>],\n",
       "       [<matplotlib.axes._subplots.AxesSubplot object at 0x7f6748174850>,\n",
       "        <matplotlib.axes._subplots.AxesSubplot object at 0x7f67481a7ed0>]],\n",
       "      dtype=object)"
      ]
     },
     "execution_count": 22,
     "metadata": {},
     "output_type": "execute_result"
    },
    {
     "data": {
      "image/png": "[encoded data removed]",
      "text/plain": [
       "<Figure size 720x720 with 4 Axes>"
      ]
     },
     "metadata": {
      "needs_background": "light"
     },
     "output_type": "display_data"
    }
   ],
   "source": [
    "#Plotting graphs\n",
    "dataframe.hist(figsize=(10,10), grid=True) "
   ]
  },
  {
   "cell_type": "markdown",
   "metadata": {},
   "source": [
    "Remember to commit your notebook to Jovian after every step, so that you don't lose your work."
   ]
  },
  {
   "cell_type": "code",
   "execution_count": 23,
   "metadata": {},
   "outputs": [
    {
     "data": {
      "application/javascript": [
       "window.require && require([\"base/js/namespace\"],function(Jupyter){Jupyter.notebook.save_checkpoint()})"
      ],
      "text/plain": [
       "<IPython.core.display.Javascript object>"
      ]
     },
     "metadata": {},
     "output_type": "display_data"
    },
    {
     "name": "stdout",
     "output_type": "stream",
     "text": [
      "[jovian] Attempting to save notebook..\u001b[0m\n",
      "[jovian] Please enter your API key ( from https://jovian.ml/ ):\u001b[0m\n",
      "API KEY: ········\n",
      "[jovian] Updating notebook \"imakshit/02-insurance-linear-regression\" on https://jovian.ml/\u001b[0m\n",
      "[jovian] Uploading notebook..\u001b[0m\n",
      "[jovian] Committed successfully! https://jovian.ml/imakshit/02-insurance-linear-regression\u001b[0m\n"
     ]
    },
    {
     "data": {
      "text/plain": [
       "'https://jovian.ml/imakshit/02-insurance-linear-regression'"
      ]
     },
     "execution_count": 23,
     "metadata": {},
     "output_type": "execute_result"
    }
   ],
   "source": [
    "jovian.commit(project=project_name, environment=None)"
   ]
  },
  {
   "cell_type": "markdown",
   "metadata": {},
   "source": [
    "## Step 2: Prepare the dataset for training\n",
    "\n",
    "We need to convert the data from the Pandas dataframe into a PyTorch tensors for training. To do this, the first step is to convert it numpy arrays. If you've filled out `input_cols`, `categorial_cols` and `output_cols` correctly, this following function will perform the conversion to numpy arrays."
   ]
  },
  {
   "cell_type": "code",
   "execution_count": 24,
   "metadata": {},
   "outputs": [],
   "source": [
    "def dataframe_to_arrays(dataframe):\n",
    "    # Make a copy of the original dataframe\n",
    "    dataframe1 = dataframe.copy(deep=True)\n",
    "    # Convert non-numeric categorical columns to numbers\n",
    "    for col in categorical_cols:\n",
    "        dataframe1[col] = dataframe1[col].astype('category').cat.codes\n",
    "    # Extract input & outupts as numpy arrays\n",
    "    inputs_array = dataframe1[input_cols].to_numpy()\n",
    "    targets_array = dataframe1[output_cols].to_numpy()\n",
    "    return inputs_array, targets_array"
   ]
  },
  {
   "cell_type": "markdown",
   "metadata": {},
   "source": [
    "Read through the [Pandas documentation](https://pandas.pydata.org/pandas-docs/stable/user_guide/categorical.html) to understand how we're converting categorical variables into numbers."
   ]
  },
  {
   "cell_type": "code",
   "execution_count": 25,
   "metadata": {},
   "outputs": [
    {
     "data": {
      "text/plain": [
       "(array([[55.     ,  0.     , 35.06925,  2.     ,  0.     ,  1.     ],\n",
       "        [63.     ,  0.     , 39.4295 ,  0.     ,  0.     ,  2.     ],\n",
       "        [54.     ,  1.     , 42.372  ,  1.     ,  0.     ,  3.     ],\n",
       "        ...,\n",
       "        [58.     ,  1.     , 34.2507 ,  1.     ,  0.     ,  2.     ],\n",
       "        [32.     ,  0.     , 47.3154 ,  0.     ,  0.     ,  2.     ],\n",
       "        [35.     ,  1.     , 19.1102 ,  1.     ,  0.     ,  1.     ]]),\n",
       " array([[14108.9270875],\n",
       "        [15971.163775 ],\n",
       "        [12018.1348   ],\n",
       "        ...,\n",
       "        [13738.619785 ],\n",
       "        [ 4593.30447  ],\n",
       "        [ 5883.97546  ]]))"
      ]
     },
     "execution_count": 25,
     "metadata": {},
     "output_type": "execute_result"
    }
   ],
   "source": [
    "inputs_array, targets_array = dataframe_to_arrays(dataframe)\n",
    "inputs_array, targets_array"
   ]
  },
  {
   "cell_type": "markdown",
   "metadata": {},
   "source": [
    "**Q: Convert the numpy arrays `inputs_array` and `targets_array` into PyTorch tensors. Make sure that the data type is `torch.float32`.**"
   ]
  },
  {
   "cell_type": "code",
   "execution_count": 26,
   "metadata": {},
   "outputs": [],
   "source": [
    "inputs = torch.from_numpy(inputs_array).type(torch.float32)\n",
    "targets = torch.from_numpy(targets_array).type(torch.float32)"
   ]
  },
  {
   "cell_type": "code",
   "execution_count": 27,
   "metadata": {},
   "outputs": [
    {
     "data": {
      "text/plain": [
       "(torch.float32, torch.float32)"
      ]
     },
     "execution_count": 27,
     "metadata": {},
     "output_type": "execute_result"
    }
   ],
   "source": [
    "inputs.dtype, targets.dtype"
   ]
  },
  {
   "cell_type": "markdown",
   "metadata": {},
   "source": [
    "Next, we need to create PyTorch datasets & data loaders for training & validation. We'll start by creating a `TensorDataset`."
   ]
  },
  {
   "cell_type": "code",
   "execution_count": 28,
   "metadata": {},
   "outputs": [],
   "source": [
    "dataset = TensorDataset(inputs, targets)"
   ]
  },
  {
   "cell_type": "markdown",
   "metadata": {},
   "source": [
    "**Q: Pick a number between `0.1` and `0.2` to determine the fraction of data that will be used for creating the validation set. Then use `random_split` to create training & validation datasets. **"
   ]
  },
  {
   "cell_type": "code",
   "execution_count": 29,
   "metadata": {},
   "outputs": [],
   "source": [
    "val_percent = 0.12 # between 0.1 and 0.2\n",
    "val_size = int(num_rows * val_percent)\n",
    "train_size = num_rows - val_size\n",
    "\n",
    "\n",
    "train_ds, val_ds = random_split(dataset, [train_size, val_size]) # Use the random_split function to split dataset into 2 parts of the desired length"
   ]
  },
  {
   "cell_type": "markdown",
   "metadata": {},
   "source": [
    "Finally, we can create data loaders for training & validation.\n",
    "\n",
    "**Q: Pick a batch size for the data loader.**"
   ]
  },
  {
   "cell_type": "code",
   "execution_count": 30,
   "metadata": {},
   "outputs": [],
   "source": [
    "batch_size = 64"
   ]
  },
  {
   "cell_type": "code",
   "execution_count": 31,
   "metadata": {},
   "outputs": [],
   "source": [
    "train_loader = DataLoader(train_ds, batch_size, shuffle=True)\n",
    "val_loader = DataLoader(val_ds, batch_size)"
   ]
  },
  {
   "cell_type": "markdown",
   "metadata": {},
   "source": [
    "Let's look at a batch of data to verify everything is working fine so far."
   ]
  },
  {
   "cell_type": "code",
   "execution_count": 32,
   "metadata": {},
   "outputs": [
    {
     "name": "stdout",
     "output_type": "stream",
     "text": [
      "inputs: tensor([[29.0000,  1.0000, 39.9003,  2.0000,  0.0000,  2.0000],\n",
      "        [19.0000,  1.0000, 21.8547,  0.0000,  0.0000,  1.0000],\n",
      "        [45.0000,  1.0000, 24.4977,  2.0000,  1.0000,  1.0000],\n",
      "        [62.0000,  1.0000, 34.3577,  0.0000,  0.0000,  0.0000],\n",
      "        [21.0000,  1.0000, 25.4125,  2.0000,  0.0000,  1.0000],\n",
      "        [44.0000,  0.0000, 39.0336,  0.0000,  0.0000,  0.0000],\n",
      "        [60.0000,  1.0000, 26.0224,  0.0000,  0.0000,  1.0000],\n",
      "        [38.0000,  1.0000, 37.1290,  2.0000,  0.0000,  3.0000],\n",
      "        [19.0000,  1.0000, 34.1544,  0.0000,  1.0000,  1.0000],\n",
      "        [55.0000,  0.0000, 34.6627,  1.0000,  0.0000,  0.0000],\n",
      "        [47.0000,  1.0000, 20.5333,  1.0000,  0.0000,  0.0000],\n",
      "        [58.0000,  0.0000, 35.7808,  0.0000,  0.0000,  1.0000],\n",
      "        [18.0000,  1.0000, 22.9729,  0.0000,  0.0000,  0.0000],\n",
      "        [20.0000,  0.0000, 35.6310,  0.0000,  0.0000,  3.0000],\n",
      "        [41.0000,  0.0000, 34.8820,  3.0000,  0.0000,  3.0000],\n",
      "        [26.0000,  1.0000, 33.2396,  0.0000,  0.0000,  1.0000],\n",
      "        [53.0000,  1.0000, 38.6270,  1.0000,  0.0000,  3.0000],\n",
      "        [34.0000,  1.0000, 27.0389,  1.0000,  0.0000,  1.0000],\n",
      "        [51.0000,  1.0000, 42.4790,  1.0000,  0.0000,  3.0000],\n",
      "        [54.0000,  0.0000, 29.5802,  1.0000,  0.0000,  1.0000],\n",
      "        [18.0000,  1.0000, 26.9373,  0.0000,  1.0000,  0.0000],\n",
      "        [53.0000,  0.0000, 24.1927,  3.0000,  1.0000,  0.0000],\n",
      "        [57.0000,  1.0000, 46.7590,  1.0000,  0.0000,  3.0000],\n",
      "        [39.0000,  1.0000, 34.6038,  2.0000,  0.0000,  2.0000],\n",
      "        [48.0000,  0.0000, 29.8851,  4.0000,  0.0000,  1.0000],\n",
      "        [26.0000,  1.0000, 35.2030,  2.0000,  1.0000,  3.0000],\n",
      "        [48.0000,  0.0000, 27.6595,  3.0000,  1.0000,  2.0000],\n",
      "        [58.0000,  1.0000, 32.4263,  0.0000,  0.0000,  0.0000],\n",
      "        [18.0000,  0.0000, 30.1901,  0.0000,  0.0000,  0.0000],\n",
      "        [59.0000,  1.0000, 29.4250,  1.0000,  0.0000,  3.0000],\n",
      "        [31.0000,  0.0000, 40.7617,  1.0000,  1.0000,  0.0000],\n",
      "        [53.0000,  1.0000, 36.4924,  0.0000,  1.0000,  0.0000],\n",
      "        [26.0000,  1.0000, 36.2891,  1.0000,  0.0000,  1.0000],\n",
      "        [45.0000,  1.0000, 32.3140,  1.0000,  0.0000,  3.0000],\n",
      "        [44.0000,  1.0000, 40.7242,  1.0000,  0.0000,  2.0000],\n",
      "        [33.0000,  0.0000, 23.6845,  1.0000,  0.0000,  0.0000],\n",
      "        [39.0000,  1.0000, 45.6409,  0.0000,  0.0000,  0.0000],\n",
      "        [19.0000,  0.0000, 43.3350,  0.0000,  0.0000,  3.0000],\n",
      "        [54.0000,  0.0000, 34.1330,  1.0000,  0.0000,  2.0000],\n",
      "        [59.0000,  1.0000, 27.2422,  1.0000,  0.0000,  0.0000],\n",
      "        [48.0000,  0.0000, 24.3960,  0.0000,  0.0000,  3.0000],\n",
      "        [48.0000,  1.0000, 33.6461,  1.0000,  0.0000,  0.0000],\n",
      "        [62.0000,  0.0000, 41.9440,  0.0000,  0.0000,  3.0000],\n",
      "        [35.0000,  1.0000, 39.2369,  1.0000,  1.0000,  0.0000],\n",
      "        [18.0000,  0.0000, 31.2066,  0.0000,  0.0000,  0.0000],\n",
      "        [53.0000,  1.0000, 22.8980,  1.0000,  0.0000,  3.0000],\n",
      "        [22.0000,  1.0000, 36.1339,  0.0000,  0.0000,  2.0000],\n",
      "        [47.0000,  0.0000, 38.5200,  1.0000,  0.0000,  3.0000],\n",
      "        [64.0000,  0.0000, 28.7670,  0.0000,  1.0000,  1.0000],\n",
      "        [61.0000,  1.0000, 36.2891,  0.0000,  0.0000,  0.0000],\n",
      "        [39.0000,  1.0000, 28.0554,  1.0000,  0.0000,  1.0000],\n",
      "        [31.0000,  1.0000, 21.8280,  0.0000,  0.0000,  3.0000],\n",
      "        [47.0000,  0.0000, 25.2520,  1.0000,  0.0000,  3.0000],\n",
      "        [50.0000,  0.0000, 47.8772,  0.0000,  0.0000,  0.0000],\n",
      "        [57.0000,  1.0000, 43.8111,  0.0000,  0.0000,  0.0000],\n",
      "        [20.0000,  1.0000, 29.8851,  0.0000,  0.0000,  0.0000],\n",
      "        [18.0000,  1.0000, 18.5003,  2.0000,  1.0000,  0.0000],\n",
      "        [60.0000,  1.0000, 31.7148,  0.0000,  0.0000,  0.0000],\n",
      "        [63.0000,  1.0000, 36.0162,  3.0000,  0.0000,  2.0000],\n",
      "        [22.0000,  1.0000, 38.0920,  0.0000,  1.0000,  3.0000],\n",
      "        [48.0000,  1.0000, 32.3140,  2.0000,  0.0000,  3.0000],\n",
      "        [51.0000,  0.0000, 19.3135,  0.0000,  0.0000,  1.0000],\n",
      "        [54.0000,  1.0000, 33.8120,  0.0000,  0.0000,  3.0000],\n",
      "        [20.0000,  0.0000, 33.6622,  0.0000,  0.0000,  2.0000]])\n",
      "targets: tensor([[ 4666.8335],\n",
      "        [ 1869.2488],\n",
      "        [24263.3379],\n",
      "        [15588.2559],\n",
      "        [ 3538.6599],\n",
      "        [14716.7910],\n",
      "        [14402.1455],\n",
      "        [ 6994.7656],\n",
      "        [38812.8359],\n",
      "        [13660.9697],\n",
      "        [ 9921.6719],\n",
      "        [14066.3555],\n",
      "        [ 1957.8236],\n",
      "        [ 2162.5601],\n",
      "        [ 9147.6943],\n",
      "        [ 3104.5037],\n",
      "        [11598.7227],\n",
      "        [ 5628.9663],\n",
      "        [10800.0479],\n",
      "        [13001.8252],\n",
      "        [17845.9082],\n",
      "        [28604.3926],\n",
      "        [13312.5498],\n",
      "        [ 7288.7871],\n",
      "        [12667.4512],\n",
      "        [41498.0000],\n",
      "        [27808.0742],\n",
      "        [13728.9941],\n",
      "        [ 2530.9556],\n",
      "        [14183.9023],\n",
      "        [67356.7344],\n",
      "        [49742.5820],\n",
      "        [ 3786.4094],\n",
      "        [ 8557.2109],\n",
      "        [ 8225.5723],\n",
      "        [ 6157.1860],\n",
      "        [ 6621.0254],\n",
      "        [ 2023.2386],\n",
      "        [12568.1768],\n",
      "        [14851.0908],\n",
      "        [ 9509.4004],\n",
      "        [10308.6699],\n",
      "        [15491.4893],\n",
      "        [45740.4180],\n",
      "        [ 8422.2949],\n",
      "        [11575.2246],\n",
      "        [ 1925.8271],\n",
      "        [ 9840.4434],\n",
      "        [33730.6289],\n",
      "        [15115.4443],\n",
      "        [ 7042.1040],\n",
      "        [ 3749.2288],\n",
      "        [ 9820.6221],\n",
      "        [10972.9502],\n",
      "        [13301.2461],\n",
      "        [ 2262.0762],\n",
      "        [14753.8730],\n",
      "        [14640.6494],\n",
      "        [17435.7637],\n",
      "        [40923.4141],\n",
      "        [10313.5791],\n",
      "        [11090.8906],\n",
      "        [11327.9971],\n",
      "        [ 2159.6189]])\n"
     ]
    }
   ],
   "source": [
    "for xb, yb in train_loader:\n",
    "    print(\"inputs:\", xb)\n",
    "    print(\"targets:\", yb)\n",
    "    break"
   ]
  },
  {
   "cell_type": "markdown",
   "metadata": {},
   "source": [
    "Let's save our work by committing to Jovian."
   ]
  },
  {
   "cell_type": "code",
   "execution_count": 33,
   "metadata": {},
   "outputs": [
    {
     "data": {
      "application/javascript": [
       "window.require && require([\"base/js/namespace\"],function(Jupyter){Jupyter.notebook.save_checkpoint()})"
      ],
      "text/plain": [
       "<IPython.core.display.Javascript object>"
      ]
     },
     "metadata": {},
     "output_type": "display_data"
    },
    {
     "name": "stdout",
     "output_type": "stream",
     "text": [
      "[jovian] Attempting to save notebook..\u001b[0m\n",
      "[jovian] Updating notebook \"imakshit/02-insurance-linear-regression\" on https://jovian.ml/\u001b[0m\n",
      "[jovian] Uploading notebook..\u001b[0m\n",
      "[jovian] Committed successfully! https://jovian.ml/imakshit/02-insurance-linear-regression\u001b[0m\n"
     ]
    },
    {
     "data": {
      "text/plain": [
       "'https://jovian.ml/imakshit/02-insurance-linear-regression'"
      ]
     },
     "execution_count": 33,
     "metadata": {},
     "output_type": "execute_result"
    }
   ],
   "source": [
    "jovian.commit(project=project_name, environment=None)"
   ]
  },
  {
   "cell_type": "markdown",
   "metadata": {},
   "source": [
    "## Step 3: Create a Linear Regression Model\n",
    "\n",
    "Our model itself is a fairly straightforward linear regression (we'll build more complex models in the next assignment). \n"
   ]
  },
  {
   "cell_type": "code",
   "execution_count": 34,
   "metadata": {},
   "outputs": [],
   "source": [
    "input_size = len(input_cols)\n",
    "output_size = len(output_cols)"
   ]
  },
  {
   "cell_type": "markdown",
   "metadata": {},
   "source": [
    "**Q: Complete the class definition below by filling out the constructor (`__init__`), `forward`, `training_step` and `validation_step` methods.**\n",
    "\n",
    "Hint: Think carefully about picking a good loss fuction (it's not cross entropy). Maybe try 2-3 of them and see which one works best. See https://pytorch.org/docs/stable/nn.functional.html#loss-functions"
   ]
  },
  {
   "cell_type": "code",
   "execution_count": 38,
   "metadata": {},
   "outputs": [],
   "source": [
    "class InsuranceModel(nn.Module):\n",
    "    def __init__(self):\n",
    "        super().__init__()\n",
    "        self.linear = nn.Linear(input_size, output_size)                  # fill this (hint: use input_size & output_size defined above)\n",
    "        \n",
    "    def forward(self, xb):\n",
    "        out = self.linear(xb)                       # fill this\n",
    "        return out\n",
    "    \n",
    "    def training_step(self, batch):\n",
    "        inputs, targets = batch \n",
    "        # Generate predictions\n",
    "        out = self(inputs)          \n",
    "        # Calcuate loss\n",
    "        loss = F.smooth_l1_loss(out, targets)                          # fill this\n",
    "        return loss\n",
    "    \n",
    "    def validation_step(self, batch):\n",
    "        inputs, targets = batch\n",
    "        # Generate predictions\n",
    "        out = self(inputs)\n",
    "        # Calculate loss\n",
    "        loss = F.smooth_l1_loss(out, targets)                           # fill this    \n",
    "        return {'val_loss': loss.detach()}\n",
    "        \n",
    "    def validation_epoch_end(self, outputs):\n",
    "        batch_losses = [x['val_loss'] for x in outputs]\n",
    "        epoch_loss = torch.stack(batch_losses).mean()   # Combine losses\n",
    "        return {'val_loss': epoch_loss.item()}\n",
    "    \n",
    "    def epoch_end(self, epoch, result, num_epochs):\n",
    "        # Print result every 20th epoch\n",
    "        if (epoch+1) % 20 == 0 or epoch == num_epochs-1:\n",
    "            print(\"Epoch [{}], val_loss: {:.4f}\".format(epoch+1, result['val_loss']))"
   ]
  },
  {
   "cell_type": "markdown",
   "metadata": {},
   "source": [
    "Let us create a model using the `InsuranceModel` class. You may need to come back later and re-run the next cell to reinitialize the model, in case the loss becomes `nan` or `infinity`."
   ]
  },
  {
   "cell_type": "code",
   "execution_count": 39,
   "metadata": {},
   "outputs": [],
   "source": [
    "model = InsuranceModel()"
   ]
  },
  {
   "cell_type": "markdown",
   "metadata": {},
   "source": [
    "Let's check out the weights and biases of the model using `model.parameters`."
   ]
  },
  {
   "cell_type": "code",
   "execution_count": 40,
   "metadata": {},
   "outputs": [
    {
     "data": {
      "text/plain": [
       "[Parameter containing:\n",
       " tensor([[-0.1534,  0.1815,  0.3413, -0.0936, -0.1887,  0.1762]],\n",
       "        requires_grad=True),\n",
       " Parameter containing:\n",
       " tensor([-0.2136], requires_grad=True)]"
      ]
     },
     "execution_count": 40,
     "metadata": {},
     "output_type": "execute_result"
    }
   ],
   "source": [
    "list(model.parameters())"
   ]
  },
  {
   "cell_type": "markdown",
   "metadata": {},
   "source": [
    "One final commit before we train the model."
   ]
  },
  {
   "cell_type": "code",
   "execution_count": 41,
   "metadata": {},
   "outputs": [
    {
     "data": {
      "application/javascript": [
       "window.require && require([\"base/js/namespace\"],function(Jupyter){Jupyter.notebook.save_checkpoint()})"
      ],
      "text/plain": [
       "<IPython.core.display.Javascript object>"
      ]
     },
     "metadata": {},
     "output_type": "display_data"
    },
    {
     "name": "stdout",
     "output_type": "stream",
     "text": [
      "[jovian] Attempting to save notebook..\u001b[0m\n",
      "[jovian] Updating notebook \"imakshit/02-insurance-linear-regression\" on https://jovian.ml/\u001b[0m\n",
      "[jovian] Uploading notebook..\u001b[0m\n",
      "[jovian] Committed successfully! https://jovian.ml/imakshit/02-insurance-linear-regression\u001b[0m\n"
     ]
    },
    {
     "data": {
      "text/plain": [
       "'https://jovian.ml/imakshit/02-insurance-linear-regression'"
      ]
     },
     "execution_count": 41,
     "metadata": {},
     "output_type": "execute_result"
    }
   ],
   "source": [
    "jovian.commit(project=project_name, environment=None)"
   ]
  },
  {
   "cell_type": "markdown",
   "metadata": {},
   "source": [
    "## Step 4: Train the model to fit the data\n",
    "\n",
    "To train our model, we'll use the same `fit` function explained in the lecture. That's the benefit of defining a generic training loop - you can use it for any problem."
   ]
  },
  {
   "cell_type": "code",
   "execution_count": 42,
   "metadata": {},
   "outputs": [],
   "source": [
    "def evaluate(model, val_loader):\n",
    "    outputs = [model.validation_step(batch) for batch in val_loader]\n",
    "    return model.validation_epoch_end(outputs)\n",
    "\n",
    "def fit(epochs, lr, model, train_loader, val_loader, opt_func=torch.optim.SGD):\n",
    "    history = []\n",
    "    optimizer = opt_func(model.parameters(), lr)\n",
    "    for epoch in range(epochs):\n",
    "        # Training Phase \n",
    "        for batch in train_loader:\n",
    "            loss = model.training_step(batch)\n",
    "            loss.backward()\n",
    "            optimizer.step()\n",
    "            optimizer.zero_grad()\n",
    "        # Validation phase\n",
    "        result = evaluate(model, val_loader)\n",
    "        model.epoch_end(epoch, result, epochs)\n",
    "        history.append(result)\n",
    "    return history"
   ]
  },
  {
   "cell_type": "markdown",
   "metadata": {},
   "source": [
    "**Q: Use the `evaluate` function to calculate the loss on the validation set before training.**"
   ]
  },
  {
   "cell_type": "code",
   "execution_count": 43,
   "metadata": {},
   "outputs": [
    {
     "name": "stdout",
     "output_type": "stream",
     "text": [
      "{'val_loss': 15767.6396484375}\n"
     ]
    }
   ],
   "source": [
    "result = evaluate(model, val_loader) # Use the the evaluate function\n",
    "print(result)"
   ]
  },
  {
   "cell_type": "markdown",
   "metadata": {},
   "source": [
    "\n",
    "We are now ready to train the model. You may need to run the training loop many times, for different number of epochs and with different learning rates, to get a good result. Also, if your loss becomes too large (or `nan`), you may have to re-initialize the model by running the cell `model = InsuranceModel()`. Experiment with this for a while, and try to get to as low a loss as possible."
   ]
  },
  {
   "cell_type": "markdown",
   "metadata": {},
   "source": [
    "**Q: Train the model 4-5 times with different learning rates & for different number of epochs.**\n",
    "\n",
    "Hint: Vary learning rates by orders of 10 (e.g. `1e-2`, `1e-3`, `1e-4`, `1e-5`, `1e-6`) to figure out what works."
   ]
  },
  {
   "cell_type": "code",
   "execution_count": 44,
   "metadata": {},
   "outputs": [
    {
     "name": "stdout",
     "output_type": "stream",
     "text": [
      "Epoch [20], val_loss: 15757.9053\n",
      "Epoch [40], val_loss: 15748.1748\n",
      "Epoch [60], val_loss: 15738.4385\n",
      "Epoch [80], val_loss: 15728.7070\n",
      "Epoch [100], val_loss: 15718.9756\n",
      "Epoch [120], val_loss: 15709.2412\n",
      "Epoch [140], val_loss: 15699.5029\n",
      "Epoch [160], val_loss: 15689.7627\n",
      "Epoch [180], val_loss: 15680.0273\n",
      "Epoch [200], val_loss: 15670.2920\n",
      "Epoch [220], val_loss: 15660.5518\n",
      "Epoch [240], val_loss: 15650.8164\n",
      "Epoch [260], val_loss: 15641.0791\n",
      "Epoch [280], val_loss: 15631.3438\n",
      "Epoch [300], val_loss: 15621.6123\n",
      "Epoch [320], val_loss: 15611.8799\n",
      "Epoch [340], val_loss: 15602.1475\n",
      "Epoch [360], val_loss: 15592.4180\n",
      "Epoch [380], val_loss: 15582.6846\n",
      "Epoch [400], val_loss: 15572.9521\n",
      "Epoch [420], val_loss: 15563.2148\n",
      "Epoch [440], val_loss: 15553.4795\n",
      "Epoch [460], val_loss: 15543.7432\n",
      "Epoch [480], val_loss: 15534.0117\n",
      "Epoch [500], val_loss: 15524.2725\n",
      "Epoch [520], val_loss: 15514.5469\n",
      "Epoch [540], val_loss: 15504.8164\n",
      "Epoch [560], val_loss: 15495.0820\n",
      "Epoch [580], val_loss: 15485.3477\n",
      "Epoch [600], val_loss: 15475.6094\n",
      "Epoch [620], val_loss: 15465.8760\n",
      "Epoch [640], val_loss: 15456.1475\n",
      "Epoch [660], val_loss: 15446.4102\n",
      "Epoch [680], val_loss: 15436.6797\n",
      "Epoch [700], val_loss: 15426.9502\n",
      "Epoch [720], val_loss: 15417.2178\n",
      "Epoch [740], val_loss: 15407.4844\n",
      "Epoch [760], val_loss: 15397.7500\n",
      "Epoch [780], val_loss: 15388.0146\n",
      "Epoch [800], val_loss: 15378.2822\n",
      "Epoch [820], val_loss: 15368.5479\n",
      "Epoch [840], val_loss: 15358.8174\n",
      "Epoch [860], val_loss: 15349.0898\n",
      "Epoch [880], val_loss: 15339.3516\n",
      "Epoch [900], val_loss: 15329.6162\n",
      "Epoch [920], val_loss: 15319.8789\n",
      "Epoch [940], val_loss: 15310.1484\n",
      "Epoch [960], val_loss: 15300.4170\n",
      "Epoch [980], val_loss: 15290.6846\n",
      "Epoch [1000], val_loss: 15280.9531\n",
      "Epoch [1020], val_loss: 15271.2188\n",
      "Epoch [1040], val_loss: 15261.4814\n",
      "Epoch [1060], val_loss: 15251.7451\n",
      "Epoch [1080], val_loss: 15242.0068\n",
      "Epoch [1100], val_loss: 15232.2695\n",
      "Epoch [1120], val_loss: 15222.5322\n",
      "Epoch [1140], val_loss: 15212.7969\n",
      "Epoch [1160], val_loss: 15203.0625\n",
      "Epoch [1180], val_loss: 15193.3242\n",
      "Epoch [1200], val_loss: 15183.5908\n",
      "Epoch [1220], val_loss: 15173.8525\n",
      "Epoch [1240], val_loss: 15164.1162\n",
      "Epoch [1260], val_loss: 15154.3838\n",
      "Epoch [1280], val_loss: 15144.6514\n",
      "Epoch [1300], val_loss: 15134.9209\n",
      "Epoch [1320], val_loss: 15125.1865\n",
      "Epoch [1340], val_loss: 15115.4541\n",
      "Epoch [1360], val_loss: 15105.7178\n",
      "Epoch [1380], val_loss: 15095.9814\n",
      "Epoch [1400], val_loss: 15086.2490\n",
      "Epoch [1420], val_loss: 15076.5195\n",
      "Epoch [1440], val_loss: 15066.7861\n",
      "Epoch [1460], val_loss: 15057.0537\n",
      "Epoch [1480], val_loss: 15047.3193\n",
      "Epoch [1500], val_loss: 15037.5889\n",
      "Epoch [1520], val_loss: 15027.8545\n",
      "Epoch [1540], val_loss: 15018.1211\n",
      "Epoch [1560], val_loss: 15008.3867\n",
      "Epoch [1580], val_loss: 14998.6514\n",
      "Epoch [1600], val_loss: 14988.9150\n",
      "Epoch [1620], val_loss: 14979.1807\n",
      "Epoch [1640], val_loss: 14969.4541\n",
      "Epoch [1660], val_loss: 14959.7227\n",
      "Epoch [1680], val_loss: 14949.9932\n",
      "Epoch [1700], val_loss: 14940.2617\n",
      "Epoch [1720], val_loss: 14930.5312\n",
      "Epoch [1740], val_loss: 14920.7959\n",
      "Epoch [1760], val_loss: 14911.0596\n",
      "Epoch [1780], val_loss: 14901.3252\n",
      "Epoch [1800], val_loss: 14891.5889\n",
      "Epoch [1820], val_loss: 14881.8564\n",
      "Epoch [1840], val_loss: 14872.1240\n",
      "Epoch [1860], val_loss: 14862.3857\n",
      "Epoch [1880], val_loss: 14852.6514\n",
      "Epoch [1900], val_loss: 14842.9150\n",
      "Epoch [1920], val_loss: 14833.1836\n",
      "Epoch [1940], val_loss: 14823.4531\n",
      "Epoch [1960], val_loss: 14813.7148\n",
      "Epoch [1980], val_loss: 14803.9795\n",
      "Epoch [2000], val_loss: 14794.2471\n",
      "Epoch [2020], val_loss: 14784.5127\n",
      "Epoch [2040], val_loss: 14774.7773\n",
      "Epoch [2060], val_loss: 14765.0439\n",
      "Epoch [2080], val_loss: 14755.3135\n",
      "Epoch [2100], val_loss: 14745.5811\n",
      "Epoch [2120], val_loss: 14735.8477\n",
      "Epoch [2140], val_loss: 14726.1162\n",
      "Epoch [2160], val_loss: 14716.3838\n",
      "Epoch [2180], val_loss: 14706.6514\n",
      "Epoch [2200], val_loss: 14696.9180\n",
      "Epoch [2220], val_loss: 14687.1865\n",
      "Epoch [2240], val_loss: 14677.4541\n",
      "Epoch [2260], val_loss: 14667.7197\n",
      "Epoch [2280], val_loss: 14657.9844\n",
      "Epoch [2300], val_loss: 14648.2529\n",
      "Epoch [2320], val_loss: 14638.5195\n",
      "Epoch [2340], val_loss: 14628.7842\n",
      "Epoch [2360], val_loss: 14619.0518\n",
      "Epoch [2380], val_loss: 14609.3203\n",
      "Epoch [2400], val_loss: 14599.5850\n",
      "Epoch [2420], val_loss: 14589.8506\n",
      "Epoch [2440], val_loss: 14580.1123\n",
      "Epoch [2460], val_loss: 14570.3789\n",
      "Epoch [2480], val_loss: 14560.6484\n",
      "Epoch [2500], val_loss: 14550.9141\n",
      "Epoch [2520], val_loss: 14541.1836\n",
      "Epoch [2540], val_loss: 14531.4502\n",
      "Epoch [2560], val_loss: 14521.7188\n",
      "Epoch [2580], val_loss: 14511.9854\n",
      "Epoch [2600], val_loss: 14502.2490\n",
      "Epoch [2620], val_loss: 14492.5195\n",
      "Epoch [2640], val_loss: 14482.7891\n",
      "Epoch [2660], val_loss: 14473.0586\n",
      "Epoch [2680], val_loss: 14463.3291\n",
      "Epoch [2700], val_loss: 14453.6006\n",
      "Epoch [2720], val_loss: 14443.8633\n",
      "Epoch [2740], val_loss: 14434.1299\n",
      "Epoch [2760], val_loss: 14424.4014\n",
      "Epoch [2780], val_loss: 14414.6650\n",
      "Epoch [2800], val_loss: 14404.9326\n",
      "Epoch [2820], val_loss: 14395.2031\n",
      "Epoch [2840], val_loss: 14385.4658\n",
      "Epoch [2860], val_loss: 14375.7451\n",
      "Epoch [2880], val_loss: 14366.0322\n",
      "Epoch [2900], val_loss: 14356.3135\n",
      "Epoch [2920], val_loss: 14346.5967\n",
      "Epoch [2940], val_loss: 14336.8818\n",
      "Epoch [2960], val_loss: 14327.1641\n",
      "Epoch [2980], val_loss: 14317.4482\n",
      "Epoch [3000], val_loss: 14307.7334\n",
      "Epoch [3020], val_loss: 14298.0146\n",
      "Epoch [3040], val_loss: 14288.3018\n",
      "Epoch [3060], val_loss: 14278.5869\n",
      "Epoch [3080], val_loss: 14268.8662\n",
      "Epoch [3100], val_loss: 14259.1514\n",
      "Epoch [3120], val_loss: 14249.4297\n",
      "Epoch [3140], val_loss: 14239.7119\n",
      "Epoch [3160], val_loss: 14229.9961\n",
      "Epoch [3180], val_loss: 14220.2812\n",
      "Epoch [3200], val_loss: 14210.5625\n",
      "Epoch [3220], val_loss: 14200.8467\n",
      "Epoch [3240], val_loss: 14191.1299\n",
      "Epoch [3260], val_loss: 14181.4131\n",
      "Epoch [3280], val_loss: 14171.7100\n",
      "Epoch [3300], val_loss: 14162.0068\n",
      "Epoch [3320], val_loss: 14152.3057\n",
      "Epoch [3340], val_loss: 14142.6025\n",
      "Epoch [3360], val_loss: 14132.9014\n",
      "Epoch [3380], val_loss: 14123.2100\n",
      "Epoch [3400], val_loss: 14113.5195\n",
      "Epoch [3420], val_loss: 14103.8359\n",
      "Epoch [3440], val_loss: 14094.1455\n",
      "Epoch [3460], val_loss: 14084.4600\n",
      "Epoch [3480], val_loss: 14074.7734\n",
      "Epoch [3500], val_loss: 14065.0889\n",
      "Epoch [3520], val_loss: 14055.3975\n",
      "Epoch [3540], val_loss: 14045.7100\n",
      "Epoch [3560], val_loss: 14036.0244\n",
      "Epoch [3580], val_loss: 14026.3320\n",
      "Epoch [3600], val_loss: 14016.6572\n",
      "Epoch [3620], val_loss: 14006.9814\n",
      "Epoch [3640], val_loss: 13997.3086\n",
      "Epoch [3660], val_loss: 13987.6328\n",
      "Epoch [3680], val_loss: 13977.9580\n",
      "Epoch [3700], val_loss: 13968.2812\n",
      "Epoch [3720], val_loss: 13958.6094\n",
      "Epoch [3740], val_loss: 13948.9326\n",
      "Epoch [3760], val_loss: 13939.2666\n",
      "Epoch [3780], val_loss: 13929.6641\n",
      "Epoch [3800], val_loss: 13920.0703\n",
      "Epoch [3820], val_loss: 13910.4844\n",
      "Epoch [3840], val_loss: 13900.9170\n",
      "Epoch [3860], val_loss: 13891.3506\n",
      "Epoch [3880], val_loss: 13881.7861\n",
      "Epoch [3900], val_loss: 13872.2188\n",
      "Epoch [3920], val_loss: 13862.6562\n",
      "Epoch [3940], val_loss: 13853.0889\n",
      "Epoch [3960], val_loss: 13843.5195\n",
      "Epoch [3980], val_loss: 13833.9609\n",
      "Epoch [4000], val_loss: 13824.3896\n",
      "Epoch [4020], val_loss: 13814.8271\n",
      "Epoch [4040], val_loss: 13805.2705\n",
      "Epoch [4060], val_loss: 13795.7178\n",
      "Epoch [4080], val_loss: 13786.1748\n",
      "Epoch [4100], val_loss: 13776.6396\n",
      "Epoch [4120], val_loss: 13767.1143\n",
      "Epoch [4140], val_loss: 13757.5947\n",
      "Epoch [4160], val_loss: 13748.0811\n",
      "Epoch [4180], val_loss: 13738.5654\n",
      "Epoch [4200], val_loss: 13729.0547\n",
      "Epoch [4220], val_loss: 13719.5312\n",
      "Epoch [4240], val_loss: 13710.0186\n",
      "Epoch [4260], val_loss: 13700.5000\n",
      "Epoch [4280], val_loss: 13690.9814\n",
      "Epoch [4300], val_loss: 13681.4697\n",
      "Epoch [4320], val_loss: 13671.9492\n",
      "Epoch [4340], val_loss: 13662.4307\n",
      "Epoch [4360], val_loss: 13652.9170\n",
      "Epoch [4380], val_loss: 13643.3994\n",
      "Epoch [4400], val_loss: 13633.8975\n",
      "Epoch [4420], val_loss: 13624.4482\n",
      "Epoch [4440], val_loss: 13615.0039\n",
      "Epoch [4460], val_loss: 13605.5596\n",
      "Epoch [4480], val_loss: 13596.1123\n",
      "Epoch [4500], val_loss: 13586.6641\n",
      "Epoch [4520], val_loss: 13577.2217\n",
      "Epoch [4540], val_loss: 13567.7822\n",
      "Epoch [4560], val_loss: 13558.3584\n",
      "Epoch [4580], val_loss: 13548.9307\n",
      "Epoch [4600], val_loss: 13539.5049\n",
      "Epoch [4620], val_loss: 13530.0850\n",
      "Epoch [4640], val_loss: 13520.6602\n",
      "Epoch [4660], val_loss: 13511.2471\n",
      "Epoch [4680], val_loss: 13501.8369\n",
      "Epoch [4700], val_loss: 13492.4268\n",
      "Epoch [4720], val_loss: 13483.0283\n"
     ]
    },
    {
     "name": "stdout",
     "output_type": "stream",
     "text": [
      "Epoch [4740], val_loss: 13473.6338\n",
      "Epoch [4760], val_loss: 13464.2432\n",
      "Epoch [4780], val_loss: 13454.8643\n",
      "Epoch [4800], val_loss: 13445.4922\n",
      "Epoch [4820], val_loss: 13436.1104\n",
      "Epoch [4840], val_loss: 13426.7305\n",
      "Epoch [4860], val_loss: 13417.3506\n",
      "Epoch [4880], val_loss: 13407.9736\n",
      "Epoch [4900], val_loss: 13398.6064\n",
      "Epoch [4920], val_loss: 13389.2744\n",
      "Epoch [4940], val_loss: 13379.9834\n",
      "Epoch [4960], val_loss: 13370.7139\n",
      "Epoch [4980], val_loss: 13361.4463\n",
      "Epoch [5000], val_loss: 13352.1787\n",
      "Epoch [5020], val_loss: 13342.9268\n",
      "Epoch [5040], val_loss: 13333.6787\n",
      "Epoch [5060], val_loss: 13324.4150\n",
      "Epoch [5080], val_loss: 13315.1650\n",
      "Epoch [5100], val_loss: 13305.9502\n",
      "Epoch [5120], val_loss: 13296.7295\n",
      "Epoch [5140], val_loss: 13287.5107\n",
      "Epoch [5160], val_loss: 13278.2920\n",
      "Epoch [5180], val_loss: 13269.0811\n",
      "Epoch [5200], val_loss: 13259.8799\n",
      "Epoch [5220], val_loss: 13250.6875\n",
      "Epoch [5240], val_loss: 13241.5068\n",
      "Epoch [5260], val_loss: 13232.3291\n",
      "Epoch [5280], val_loss: 13223.1455\n",
      "Epoch [5300], val_loss: 13213.9795\n",
      "Epoch [5320], val_loss: 13204.8057\n",
      "Epoch [5340], val_loss: 13195.6406\n",
      "Epoch [5360], val_loss: 13186.4717\n",
      "Epoch [5380], val_loss: 13177.3047\n",
      "Epoch [5400], val_loss: 13168.1436\n",
      "Epoch [5420], val_loss: 13158.9873\n",
      "Epoch [5440], val_loss: 13149.8271\n",
      "Epoch [5460], val_loss: 13140.6719\n",
      "Epoch [5480], val_loss: 13131.5283\n",
      "Epoch [5500], val_loss: 13122.3828\n",
      "Epoch [5520], val_loss: 13113.2432\n",
      "Epoch [5540], val_loss: 13104.1123\n",
      "Epoch [5560], val_loss: 13094.9844\n",
      "Epoch [5580], val_loss: 13085.8672\n",
      "Epoch [5600], val_loss: 13076.7451\n",
      "Epoch [5620], val_loss: 13067.6289\n",
      "Epoch [5640], val_loss: 13058.5088\n",
      "Epoch [5660], val_loss: 13049.3760\n",
      "Epoch [5680], val_loss: 13040.2529\n",
      "Epoch [5700], val_loss: 13031.1367\n",
      "Epoch [5720], val_loss: 13022.0322\n",
      "Epoch [5740], val_loss: 13012.9385\n",
      "Epoch [5760], val_loss: 13003.8438\n",
      "Epoch [5780], val_loss: 12994.7666\n",
      "Epoch [5800], val_loss: 12985.7891\n",
      "Epoch [5820], val_loss: 12976.8311\n",
      "Epoch [5840], val_loss: 12967.8682\n",
      "Epoch [5860], val_loss: 12958.9307\n",
      "Epoch [5880], val_loss: 12950.0000\n",
      "Epoch [5900], val_loss: 12941.0713\n",
      "Epoch [5920], val_loss: 12932.1494\n",
      "Epoch [5940], val_loss: 12923.2500\n",
      "Epoch [5960], val_loss: 12914.3623\n",
      "Epoch [5980], val_loss: 12905.4688\n",
      "Epoch [6000], val_loss: 12896.5732\n",
      "Epoch [6020], val_loss: 12887.6787\n",
      "Epoch [6040], val_loss: 12878.7861\n",
      "Epoch [6060], val_loss: 12869.8955\n",
      "Epoch [6080], val_loss: 12860.9990\n",
      "Epoch [6100], val_loss: 12852.1006\n",
      "Epoch [6120], val_loss: 12843.2100\n",
      "Epoch [6140], val_loss: 12834.3115\n",
      "Epoch [6160], val_loss: 12825.4229\n",
      "Epoch [6180], val_loss: 12816.5312\n",
      "Epoch [6200], val_loss: 12807.6514\n",
      "Epoch [6220], val_loss: 12798.7852\n",
      "Epoch [6240], val_loss: 12789.9561\n",
      "Epoch [6260], val_loss: 12781.1709\n",
      "Epoch [6280], val_loss: 12772.3877\n",
      "Epoch [6300], val_loss: 12763.6104\n",
      "Epoch [6320], val_loss: 12754.8467\n",
      "Epoch [6340], val_loss: 12746.0713\n",
      "Epoch [6360], val_loss: 12737.3076\n",
      "Epoch [6380], val_loss: 12728.6162\n",
      "Epoch [6400], val_loss: 12719.9619\n",
      "Epoch [6420], val_loss: 12711.3359\n",
      "Epoch [6440], val_loss: 12702.7188\n",
      "Epoch [6460], val_loss: 12694.1123\n",
      "Epoch [6480], val_loss: 12685.5088\n",
      "Epoch [6500], val_loss: 12676.9170\n",
      "Epoch [6520], val_loss: 12668.3350\n",
      "Epoch [6540], val_loss: 12659.7510\n",
      "Epoch [6560], val_loss: 12651.1562\n",
      "Epoch [6580], val_loss: 12642.5830\n",
      "Epoch [6600], val_loss: 12634.0234\n",
      "Epoch [6620], val_loss: 12625.4756\n",
      "Epoch [6640], val_loss: 12616.9287\n",
      "Epoch [6660], val_loss: 12608.4570\n",
      "Epoch [6680], val_loss: 12599.9951\n",
      "Epoch [6700], val_loss: 12591.5381\n",
      "Epoch [6720], val_loss: 12583.0859\n",
      "Epoch [6740], val_loss: 12574.6494\n",
      "Epoch [6760], val_loss: 12566.2236\n",
      "Epoch [6780], val_loss: 12557.7939\n",
      "Epoch [6800], val_loss: 12549.3750\n",
      "Epoch [6820], val_loss: 12540.9775\n",
      "Epoch [6840], val_loss: 12532.5791\n",
      "Epoch [6860], val_loss: 12524.2002\n",
      "Epoch [6880], val_loss: 12515.8350\n",
      "Epoch [6900], val_loss: 12507.4717\n",
      "Epoch [6920], val_loss: 12499.1055\n",
      "Epoch [6940], val_loss: 12490.7686\n",
      "Epoch [6960], val_loss: 12482.4346\n",
      "Epoch [6980], val_loss: 12474.0928\n",
      "Epoch [7000], val_loss: 12465.7627\n",
      "Epoch [7020], val_loss: 12457.4443\n",
      "Epoch [7040], val_loss: 12449.1436\n",
      "Epoch [7060], val_loss: 12440.8438\n",
      "Epoch [7080], val_loss: 12432.5459\n",
      "Epoch [7100], val_loss: 12424.2432\n",
      "Epoch [7120], val_loss: 12415.9443\n",
      "Epoch [7140], val_loss: 12407.6416\n",
      "Epoch [7160], val_loss: 12399.3359\n",
      "Epoch [7180], val_loss: 12391.0420\n",
      "Epoch [7200], val_loss: 12382.7627\n",
      "Epoch [7220], val_loss: 12374.5127\n",
      "Epoch [7240], val_loss: 12366.2549\n",
      "Epoch [7260], val_loss: 12358.0117\n",
      "Epoch [7280], val_loss: 12349.7900\n",
      "Epoch [7300], val_loss: 12341.5811\n",
      "Epoch [7320], val_loss: 12333.3867\n",
      "Epoch [7340], val_loss: 12325.1865\n",
      "Epoch [7360], val_loss: 12316.9971\n",
      "Epoch [7380], val_loss: 12308.8291\n",
      "Epoch [7400], val_loss: 12300.6807\n",
      "Epoch [7420], val_loss: 12292.5576\n",
      "Epoch [7440], val_loss: 12284.4424\n",
      "Epoch [7460], val_loss: 12276.3477\n",
      "Epoch [7480], val_loss: 12268.2656\n",
      "Epoch [7500], val_loss: 12260.1748\n",
      "Epoch [7520], val_loss: 12252.0977\n",
      "Epoch [7540], val_loss: 12244.0195\n",
      "Epoch [7560], val_loss: 12235.9492\n",
      "Epoch [7580], val_loss: 12227.8838\n",
      "Epoch [7600], val_loss: 12219.8203\n",
      "Epoch [7620], val_loss: 12211.7734\n",
      "Epoch [7640], val_loss: 12203.7295\n",
      "Epoch [7660], val_loss: 12195.6885\n",
      "Epoch [7680], val_loss: 12187.6992\n",
      "Epoch [7700], val_loss: 12179.7539\n",
      "Epoch [7720], val_loss: 12171.8203\n",
      "Epoch [7740], val_loss: 12163.8867\n",
      "Epoch [7760], val_loss: 12155.9717\n",
      "Epoch [7780], val_loss: 12148.0586\n",
      "Epoch [7800], val_loss: 12140.1680\n",
      "Epoch [7820], val_loss: 12132.2842\n",
      "Epoch [7840], val_loss: 12124.4072\n",
      "Epoch [7860], val_loss: 12116.5391\n",
      "Epoch [7880], val_loss: 12108.6650\n",
      "Epoch [7900], val_loss: 12100.8008\n",
      "Epoch [7920], val_loss: 12092.9307\n",
      "Epoch [7940], val_loss: 12085.0625\n",
      "Epoch [7960], val_loss: 12077.1943\n",
      "Epoch [7980], val_loss: 12069.3291\n",
      "Epoch [8000], val_loss: 12061.5195\n",
      "Epoch [8020], val_loss: 12053.7080\n",
      "Epoch [8040], val_loss: 12045.9053\n",
      "Epoch [8060], val_loss: 12038.1104\n",
      "Epoch [8080], val_loss: 12030.3076\n",
      "Epoch [8100], val_loss: 12022.5156\n",
      "Epoch [8120], val_loss: 12014.7266\n",
      "Epoch [8140], val_loss: 12006.9453\n",
      "Epoch [8160], val_loss: 11999.1797\n",
      "Epoch [8180], val_loss: 11991.4229\n",
      "Epoch [8200], val_loss: 11983.6562\n",
      "Epoch [8220], val_loss: 11975.9033\n",
      "Epoch [8240], val_loss: 11968.1562\n",
      "Epoch [8260], val_loss: 11960.4033\n",
      "Epoch [8280], val_loss: 11952.6875\n",
      "Epoch [8300], val_loss: 11944.9873\n",
      "Epoch [8320], val_loss: 11937.3115\n",
      "Epoch [8340], val_loss: 11929.6445\n",
      "Epoch [8360], val_loss: 11921.9805\n",
      "Epoch [8380], val_loss: 11914.3232\n",
      "Epoch [8400], val_loss: 11906.6602\n",
      "Epoch [8420], val_loss: 11899.0146\n",
      "Epoch [8440], val_loss: 11891.3662\n",
      "Epoch [8460], val_loss: 11883.7158\n",
      "Epoch [8480], val_loss: 11876.0654\n",
      "Epoch [8500], val_loss: 11868.4062\n",
      "Epoch [8520], val_loss: 11860.7705\n",
      "Epoch [8540], val_loss: 11853.1553\n",
      "Epoch [8560], val_loss: 11845.5225\n",
      "Epoch [8580], val_loss: 11837.9219\n",
      "Epoch [8600], val_loss: 11830.3174\n",
      "Epoch [8620], val_loss: 11822.7119\n",
      "Epoch [8640], val_loss: 11815.1260\n",
      "Epoch [8660], val_loss: 11807.5283\n",
      "Epoch [8680], val_loss: 11799.9424\n",
      "Epoch [8700], val_loss: 11792.3564\n",
      "Epoch [8720], val_loss: 11784.7969\n",
      "Epoch [8740], val_loss: 11777.2227\n",
      "Epoch [8760], val_loss: 11769.6602\n",
      "Epoch [8780], val_loss: 11762.0947\n",
      "Epoch [8800], val_loss: 11754.5244\n",
      "Epoch [8820], val_loss: 11746.9717\n",
      "Epoch [8840], val_loss: 11739.4307\n",
      "Epoch [8860], val_loss: 11731.9307\n",
      "Epoch [8880], val_loss: 11724.4805\n",
      "Epoch [8900], val_loss: 11717.0322\n",
      "Epoch [8920], val_loss: 11709.5908\n",
      "Epoch [8940], val_loss: 11702.1475\n",
      "Epoch [8960], val_loss: 11694.7656\n",
      "Epoch [8980], val_loss: 11687.3818\n",
      "Epoch [9000], val_loss: 11680.0156\n",
      "Epoch [9020], val_loss: 11672.6289\n",
      "Epoch [9040], val_loss: 11665.2568\n",
      "Epoch [9060], val_loss: 11657.8857\n",
      "Epoch [9080], val_loss: 11650.5156\n",
      "Epoch [9100], val_loss: 11643.1709\n",
      "Epoch [9120], val_loss: 11635.8203\n",
      "Epoch [9140], val_loss: 11628.4883\n",
      "Epoch [9160], val_loss: 11621.1719\n",
      "Epoch [9180], val_loss: 11613.8682\n",
      "Epoch [9200], val_loss: 11606.5928\n",
      "Epoch [9220], val_loss: 11599.3203\n",
      "Epoch [9240], val_loss: 11592.0615\n",
      "Epoch [9260], val_loss: 11584.8018\n",
      "Epoch [9280], val_loss: 11577.5498\n",
      "Epoch [9300], val_loss: 11570.3896\n",
      "Epoch [9320], val_loss: 11563.3281\n",
      "Epoch [9340], val_loss: 11556.2852\n",
      "Epoch [9360], val_loss: 11549.2607\n",
      "Epoch [9380], val_loss: 11542.2373\n",
      "Epoch [9400], val_loss: 11535.2227\n",
      "Epoch [9420], val_loss: 11528.2031\n"
     ]
    },
    {
     "name": "stdout",
     "output_type": "stream",
     "text": [
      "Epoch [9440], val_loss: 11521.2031\n",
      "Epoch [9460], val_loss: 11514.2188\n",
      "Epoch [9480], val_loss: 11507.2471\n",
      "Epoch [9500], val_loss: 11500.2881\n",
      "Epoch [9520], val_loss: 11493.3252\n",
      "Epoch [9540], val_loss: 11486.3594\n",
      "Epoch [9560], val_loss: 11479.4375\n",
      "Epoch [9580], val_loss: 11472.4971\n",
      "Epoch [9600], val_loss: 11465.6221\n",
      "Epoch [9620], val_loss: 11458.7930\n",
      "Epoch [9640], val_loss: 11451.9688\n",
      "Epoch [9660], val_loss: 11445.1846\n",
      "Epoch [9680], val_loss: 11438.4014\n",
      "Epoch [9700], val_loss: 11431.6279\n",
      "Epoch [9720], val_loss: 11424.8701\n",
      "Epoch [9740], val_loss: 11418.1123\n",
      "Epoch [9760], val_loss: 11411.3486\n",
      "Epoch [9780], val_loss: 11404.5947\n",
      "Epoch [9800], val_loss: 11397.8203\n",
      "Epoch [9820], val_loss: 11391.0479\n",
      "Epoch [9840], val_loss: 11384.2881\n",
      "Epoch [9860], val_loss: 11377.5361\n",
      "Epoch [9880], val_loss: 11370.7783\n",
      "Epoch [9900], val_loss: 11364.0127\n",
      "Epoch [9920], val_loss: 11357.2617\n",
      "Epoch [9940], val_loss: 11350.5010\n",
      "Epoch [9960], val_loss: 11343.7344\n",
      "Epoch [9980], val_loss: 11336.9834\n",
      "Epoch [10000], val_loss: 11330.2373\n"
     ]
    }
   ],
   "source": [
    "epochs = 10000\n",
    "lr = 1e-5\n",
    "history1 = fit(epochs, lr, model, train_loader, val_loader)"
   ]
  },
  {
   "cell_type": "code",
   "execution_count": 46,
   "metadata": {},
   "outputs": [],
   "source": [
    "def graph_loss(history):\n",
    "    loss = []\n",
    "    for x in history:\n",
    "        loss.append(x['val_loss'])\n",
    "    plt.plot(loss)"
   ]
  },
  {
   "cell_type": "code",
   "execution_count": 47,
   "metadata": {},
   "outputs": [
    {
     "data": {
      "image/png": "[encoded data removed]",
      "text/plain": [
       "<Figure size 432x288 with 1 Axes>"
      ]
     },
     "metadata": {
      "needs_background": "light"
     },
     "output_type": "display_data"
    }
   ],
   "source": [
    "graph_loss(history1)"
   ]
  },
  {
   "cell_type": "code",
   "execution_count": 52,
   "metadata": {},
   "outputs": [
    {
     "name": "stdout",
     "output_type": "stream",
     "text": [
      "Epoch [20], val_loss: 7544.1470\n",
      "Epoch [40], val_loss: 7544.1411\n",
      "Epoch [60], val_loss: 7544.1118\n",
      "Epoch [80], val_loss: 7544.1040\n",
      "Epoch [100], val_loss: 7543.9941\n",
      "Epoch [120], val_loss: 7544.0156\n",
      "Epoch [140], val_loss: 7544.0293\n",
      "Epoch [160], val_loss: 7544.0356\n",
      "Epoch [180], val_loss: 7543.9453\n",
      "Epoch [200], val_loss: 7543.9868\n",
      "Epoch [220], val_loss: 7543.9629\n",
      "Epoch [240], val_loss: 7543.9575\n",
      "Epoch [260], val_loss: 7543.8892\n",
      "Epoch [280], val_loss: 7543.7876\n",
      "Epoch [300], val_loss: 7543.8003\n",
      "Epoch [320], val_loss: 7543.7007\n",
      "Epoch [340], val_loss: 7543.6030\n",
      "Epoch [360], val_loss: 7543.5234\n",
      "Epoch [380], val_loss: 7543.5664\n",
      "Epoch [400], val_loss: 7543.6108\n",
      "Epoch [420], val_loss: 7543.5278\n",
      "Epoch [440], val_loss: 7543.5063\n",
      "Epoch [460], val_loss: 7543.5015\n",
      "Epoch [480], val_loss: 7543.5210\n",
      "Epoch [500], val_loss: 7543.3516\n",
      "Epoch [520], val_loss: 7543.3521\n",
      "Epoch [540], val_loss: 7543.3120\n",
      "Epoch [560], val_loss: 7543.3301\n",
      "Epoch [580], val_loss: 7543.3398\n",
      "Epoch [600], val_loss: 7543.3398\n",
      "Epoch [620], val_loss: 7543.2466\n",
      "Epoch [640], val_loss: 7543.1401\n",
      "Epoch [660], val_loss: 7543.1284\n",
      "Epoch [680], val_loss: 7543.1274\n",
      "Epoch [700], val_loss: 7543.0649\n",
      "Epoch [720], val_loss: 7543.0708\n",
      "Epoch [740], val_loss: 7543.0513\n",
      "Epoch [760], val_loss: 7542.9624\n",
      "Epoch [780], val_loss: 7542.8267\n",
      "Epoch [800], val_loss: 7542.7710\n",
      "Epoch [820], val_loss: 7542.8169\n",
      "Epoch [840], val_loss: 7542.7695\n",
      "Epoch [860], val_loss: 7542.6528\n",
      "Epoch [880], val_loss: 7542.5249\n",
      "Epoch [900], val_loss: 7542.4009\n",
      "Epoch [920], val_loss: 7542.3208\n",
      "Epoch [940], val_loss: 7542.2173\n",
      "Epoch [960], val_loss: 7542.1523\n",
      "Epoch [980], val_loss: 7542.0820\n",
      "Epoch [1000], val_loss: 7541.9551\n",
      "Epoch [1020], val_loss: 7541.9438\n",
      "Epoch [1040], val_loss: 7541.7891\n",
      "Epoch [1060], val_loss: 7541.6655\n",
      "Epoch [1080], val_loss: 7541.5640\n",
      "Epoch [1100], val_loss: 7541.4688\n",
      "Epoch [1120], val_loss: 7541.3848\n",
      "Epoch [1140], val_loss: 7541.2769\n",
      "Epoch [1160], val_loss: 7541.2632\n",
      "Epoch [1180], val_loss: 7541.2695\n",
      "Epoch [1200], val_loss: 7541.2070\n",
      "Epoch [1220], val_loss: 7541.1035\n",
      "Epoch [1240], val_loss: 7541.0122\n",
      "Epoch [1260], val_loss: 7540.9312\n",
      "Epoch [1280], val_loss: 7540.8184\n",
      "Epoch [1300], val_loss: 7540.8008\n",
      "Epoch [1320], val_loss: 7540.7266\n",
      "Epoch [1340], val_loss: 7540.5757\n",
      "Epoch [1360], val_loss: 7540.5522\n",
      "Epoch [1380], val_loss: 7540.4722\n",
      "Epoch [1400], val_loss: 7540.4204\n",
      "Epoch [1420], val_loss: 7540.3755\n",
      "Epoch [1440], val_loss: 7540.3906\n",
      "Epoch [1460], val_loss: 7540.2896\n",
      "Epoch [1480], val_loss: 7540.1509\n",
      "Epoch [1500], val_loss: 7540.1743\n",
      "Epoch [1520], val_loss: 7540.1665\n",
      "Epoch [1540], val_loss: 7540.1587\n",
      "Epoch [1560], val_loss: 7540.1431\n",
      "Epoch [1580], val_loss: 7540.0161\n",
      "Epoch [1600], val_loss: 7539.8945\n",
      "Epoch [1620], val_loss: 7539.9160\n",
      "Epoch [1640], val_loss: 7539.9043\n",
      "Epoch [1660], val_loss: 7539.8452\n",
      "Epoch [1680], val_loss: 7539.7886\n",
      "Epoch [1700], val_loss: 7539.6660\n",
      "Epoch [1720], val_loss: 7539.6328\n",
      "Epoch [1740], val_loss: 7539.5840\n",
      "Epoch [1760], val_loss: 7539.5957\n",
      "Epoch [1780], val_loss: 7539.5347\n",
      "Epoch [1800], val_loss: 7539.4805\n",
      "Epoch [1820], val_loss: 7539.4453\n",
      "Epoch [1840], val_loss: 7539.3521\n",
      "Epoch [1860], val_loss: 7539.3628\n",
      "Epoch [1880], val_loss: 7539.3320\n",
      "Epoch [1900], val_loss: 7539.2974\n",
      "Epoch [1920], val_loss: 7539.1938\n",
      "Epoch [1940], val_loss: 7539.1206\n",
      "Epoch [1960], val_loss: 7539.0972\n",
      "Epoch [1980], val_loss: 7538.9624\n",
      "Epoch [2000], val_loss: 7538.9272\n",
      "Epoch [2020], val_loss: 7538.8608\n",
      "Epoch [2040], val_loss: 7538.8091\n",
      "Epoch [2060], val_loss: 7538.7954\n",
      "Epoch [2080], val_loss: 7538.7192\n",
      "Epoch [2100], val_loss: 7538.6558\n",
      "Epoch [2120], val_loss: 7538.5996\n",
      "Epoch [2140], val_loss: 7538.5581\n",
      "Epoch [2160], val_loss: 7538.4634\n",
      "Epoch [2180], val_loss: 7538.3804\n",
      "Epoch [2200], val_loss: 7538.3457\n",
      "Epoch [2220], val_loss: 7538.2480\n",
      "Epoch [2240], val_loss: 7538.1860\n",
      "Epoch [2260], val_loss: 7538.1602\n",
      "Epoch [2280], val_loss: 7538.1294\n",
      "Epoch [2300], val_loss: 7538.0625\n",
      "Epoch [2320], val_loss: 7537.9531\n",
      "Epoch [2340], val_loss: 7537.9741\n",
      "Epoch [2360], val_loss: 7537.8867\n",
      "Epoch [2380], val_loss: 7537.7773\n",
      "Epoch [2400], val_loss: 7537.6860\n",
      "Epoch [2420], val_loss: 7537.6113\n",
      "Epoch [2440], val_loss: 7537.5645\n",
      "Epoch [2460], val_loss: 7537.5469\n",
      "Epoch [2480], val_loss: 7537.5142\n",
      "Epoch [2500], val_loss: 7537.4727\n",
      "Epoch [2520], val_loss: 7537.3242\n",
      "Epoch [2540], val_loss: 7537.2871\n",
      "Epoch [2560], val_loss: 7537.1914\n",
      "Epoch [2580], val_loss: 7537.1831\n",
      "Epoch [2600], val_loss: 7537.1089\n",
      "Epoch [2620], val_loss: 7537.1133\n",
      "Epoch [2640], val_loss: 7537.2739\n",
      "Epoch [2660], val_loss: 7537.1108\n",
      "Epoch [2680], val_loss: 7537.0742\n",
      "Epoch [2700], val_loss: 7537.0435\n",
      "Epoch [2720], val_loss: 7537.0957\n",
      "Epoch [2740], val_loss: 7536.9321\n",
      "Epoch [2760], val_loss: 7536.8047\n",
      "Epoch [2780], val_loss: 7536.6519\n",
      "Epoch [2800], val_loss: 7536.5977\n",
      "Epoch [2820], val_loss: 7536.5308\n",
      "Epoch [2840], val_loss: 7536.4194\n",
      "Epoch [2860], val_loss: 7536.2349\n",
      "Epoch [2880], val_loss: 7536.1519\n",
      "Epoch [2900], val_loss: 7536.1152\n",
      "Epoch [2920], val_loss: 7535.9595\n",
      "Epoch [2940], val_loss: 7536.0317\n",
      "Epoch [2960], val_loss: 7535.9644\n",
      "Epoch [2980], val_loss: 7535.9624\n",
      "Epoch [3000], val_loss: 7535.7905\n",
      "Epoch [3020], val_loss: 7535.6719\n",
      "Epoch [3040], val_loss: 7535.6797\n",
      "Epoch [3060], val_loss: 7535.5562\n",
      "Epoch [3080], val_loss: 7535.4395\n",
      "Epoch [3100], val_loss: 7535.3872\n",
      "Epoch [3120], val_loss: 7535.3823\n",
      "Epoch [3140], val_loss: 7535.3413\n",
      "Epoch [3160], val_loss: 7535.3022\n",
      "Epoch [3180], val_loss: 7535.3813\n",
      "Epoch [3200], val_loss: 7535.4185\n",
      "Epoch [3220], val_loss: 7535.2993\n",
      "Epoch [3240], val_loss: 7535.2437\n",
      "Epoch [3260], val_loss: 7535.2202\n",
      "Epoch [3280], val_loss: 7535.1548\n",
      "Epoch [3300], val_loss: 7535.0679\n",
      "Epoch [3320], val_loss: 7535.1274\n",
      "Epoch [3340], val_loss: 7535.0815\n",
      "Epoch [3360], val_loss: 7534.9863\n",
      "Epoch [3380], val_loss: 7534.8555\n",
      "Epoch [3400], val_loss: 7534.7310\n",
      "Epoch [3420], val_loss: 7534.6655\n",
      "Epoch [3440], val_loss: 7534.7007\n",
      "Epoch [3460], val_loss: 7534.6055\n",
      "Epoch [3480], val_loss: 7534.5254\n",
      "Epoch [3500], val_loss: 7534.3491\n",
      "Epoch [3520], val_loss: 7534.3516\n",
      "Epoch [3540], val_loss: 7534.2388\n",
      "Epoch [3560], val_loss: 7534.1724\n",
      "Epoch [3580], val_loss: 7534.1665\n",
      "Epoch [3600], val_loss: 7534.1509\n",
      "Epoch [3620], val_loss: 7534.0571\n",
      "Epoch [3640], val_loss: 7533.9058\n",
      "Epoch [3660], val_loss: 7533.8774\n",
      "Epoch [3680], val_loss: 7533.8374\n",
      "Epoch [3700], val_loss: 7533.8022\n",
      "Epoch [3720], val_loss: 7533.7505\n",
      "Epoch [3740], val_loss: 7533.6680\n",
      "Epoch [3760], val_loss: 7533.6255\n",
      "Epoch [3780], val_loss: 7533.6646\n",
      "Epoch [3800], val_loss: 7533.5176\n",
      "Epoch [3820], val_loss: 7533.4004\n",
      "Epoch [3840], val_loss: 7533.4395\n",
      "Epoch [3860], val_loss: 7533.3501\n",
      "Epoch [3880], val_loss: 7533.2812\n",
      "Epoch [3900], val_loss: 7533.2090\n",
      "Epoch [3920], val_loss: 7533.1353\n",
      "Epoch [3940], val_loss: 7533.0859\n",
      "Epoch [3960], val_loss: 7532.9526\n",
      "Epoch [3980], val_loss: 7532.9316\n",
      "Epoch [4000], val_loss: 7532.8813\n",
      "Epoch [4020], val_loss: 7532.8809\n",
      "Epoch [4040], val_loss: 7532.8477\n",
      "Epoch [4060], val_loss: 7532.7520\n",
      "Epoch [4080], val_loss: 7532.7500\n",
      "Epoch [4100], val_loss: 7532.5884\n",
      "Epoch [4120], val_loss: 7532.6479\n",
      "Epoch [4140], val_loss: 7532.5522\n",
      "Epoch [4160], val_loss: 7532.4570\n",
      "Epoch [4180], val_loss: 7532.4087\n",
      "Epoch [4200], val_loss: 7532.3384\n",
      "Epoch [4220], val_loss: 7532.2656\n",
      "Epoch [4240], val_loss: 7532.3345\n",
      "Epoch [4260], val_loss: 7532.2788\n",
      "Epoch [4280], val_loss: 7532.2651\n",
      "Epoch [4300], val_loss: 7532.1597\n",
      "Epoch [4320], val_loss: 7532.0610\n",
      "Epoch [4340], val_loss: 7532.0527\n",
      "Epoch [4360], val_loss: 7531.9937\n",
      "Epoch [4380], val_loss: 7531.9438\n",
      "Epoch [4400], val_loss: 7531.8633\n",
      "Epoch [4420], val_loss: 7531.8359\n",
      "Epoch [4440], val_loss: 7531.7612\n",
      "Epoch [4460], val_loss: 7531.7378\n",
      "Epoch [4480], val_loss: 7531.6558\n",
      "Epoch [4500], val_loss: 7531.5610\n",
      "Epoch [4520], val_loss: 7531.5703\n",
      "Epoch [4540], val_loss: 7531.4888\n",
      "Epoch [4560], val_loss: 7531.4312\n",
      "Epoch [4580], val_loss: 7531.4004\n",
      "Epoch [4600], val_loss: 7531.3750\n",
      "Epoch [4620], val_loss: 7531.3228\n",
      "Epoch [4640], val_loss: 7531.3003\n",
      "Epoch [4660], val_loss: 7531.2202\n",
      "Epoch [4680], val_loss: 7531.1724\n",
      "Epoch [4700], val_loss: 7531.0859\n",
      "Epoch [4720], val_loss: 7531.0366\n",
      "Epoch [4740], val_loss: 7530.9336\n",
      "Epoch [4760], val_loss: 7530.8267\n",
      "Epoch [4780], val_loss: 7530.8608\n",
      "Epoch [4800], val_loss: 7530.8599\n",
      "Epoch [4820], val_loss: 7530.6763\n",
      "Epoch [4840], val_loss: 7530.6763\n",
      "Epoch [4860], val_loss: 7530.6353\n"
     ]
    },
    {
     "name": "stdout",
     "output_type": "stream",
     "text": [
      "Epoch [4880], val_loss: 7530.6001\n",
      "Epoch [4900], val_loss: 7530.5933\n",
      "Epoch [4920], val_loss: 7530.4995\n",
      "Epoch [4940], val_loss: 7530.3418\n",
      "Epoch [4960], val_loss: 7530.3750\n",
      "Epoch [4980], val_loss: 7530.3535\n",
      "Epoch [5000], val_loss: 7530.2090\n",
      "Epoch [5020], val_loss: 7530.1147\n",
      "Epoch [5040], val_loss: 7530.1753\n",
      "Epoch [5060], val_loss: 7530.0552\n",
      "Epoch [5080], val_loss: 7529.9849\n",
      "Epoch [5100], val_loss: 7529.9575\n",
      "Epoch [5120], val_loss: 7529.8770\n",
      "Epoch [5140], val_loss: 7529.8120\n",
      "Epoch [5160], val_loss: 7529.7642\n",
      "Epoch [5180], val_loss: 7529.6792\n",
      "Epoch [5200], val_loss: 7529.7437\n",
      "Epoch [5220], val_loss: 7529.5952\n",
      "Epoch [5240], val_loss: 7529.5435\n",
      "Epoch [5260], val_loss: 7529.5098\n",
      "Epoch [5280], val_loss: 7529.4419\n",
      "Epoch [5300], val_loss: 7529.3364\n",
      "Epoch [5320], val_loss: 7529.2383\n",
      "Epoch [5340], val_loss: 7529.3130\n",
      "Epoch [5360], val_loss: 7529.3281\n",
      "Epoch [5380], val_loss: 7529.1138\n",
      "Epoch [5400], val_loss: 7529.0659\n",
      "Epoch [5420], val_loss: 7529.0444\n",
      "Epoch [5440], val_loss: 7528.9370\n",
      "Epoch [5460], val_loss: 7528.9077\n",
      "Epoch [5480], val_loss: 7528.8867\n",
      "Epoch [5500], val_loss: 7528.7661\n",
      "Epoch [5520], val_loss: 7528.6597\n",
      "Epoch [5540], val_loss: 7528.6636\n",
      "Epoch [5560], val_loss: 7528.6206\n",
      "Epoch [5580], val_loss: 7528.5996\n",
      "Epoch [5600], val_loss: 7528.5601\n",
      "Epoch [5620], val_loss: 7528.5483\n",
      "Epoch [5640], val_loss: 7528.4419\n",
      "Epoch [5660], val_loss: 7528.4434\n",
      "Epoch [5680], val_loss: 7528.3496\n",
      "Epoch [5700], val_loss: 7528.2656\n",
      "Epoch [5720], val_loss: 7528.2241\n",
      "Epoch [5740], val_loss: 7528.1196\n",
      "Epoch [5760], val_loss: 7528.1353\n",
      "Epoch [5780], val_loss: 7528.0620\n",
      "Epoch [5800], val_loss: 7528.0630\n",
      "Epoch [5820], val_loss: 7527.9976\n",
      "Epoch [5840], val_loss: 7527.9214\n",
      "Epoch [5860], val_loss: 7527.8125\n",
      "Epoch [5880], val_loss: 7527.7910\n",
      "Epoch [5900], val_loss: 7527.6704\n",
      "Epoch [5920], val_loss: 7527.6392\n",
      "Epoch [5940], val_loss: 7527.5898\n",
      "Epoch [5960], val_loss: 7527.5938\n",
      "Epoch [5980], val_loss: 7527.3652\n",
      "Epoch [6000], val_loss: 7527.3052\n",
      "Epoch [6020], val_loss: 7527.2056\n",
      "Epoch [6040], val_loss: 7527.1270\n",
      "Epoch [6060], val_loss: 7527.1001\n",
      "Epoch [6080], val_loss: 7527.1470\n",
      "Epoch [6100], val_loss: 7527.0259\n",
      "Epoch [6120], val_loss: 7527.0181\n",
      "Epoch [6140], val_loss: 7527.0630\n",
      "Epoch [6160], val_loss: 7526.9946\n",
      "Epoch [6180], val_loss: 7526.8657\n",
      "Epoch [6200], val_loss: 7526.7222\n",
      "Epoch [6220], val_loss: 7526.6851\n",
      "Epoch [6240], val_loss: 7526.6777\n",
      "Epoch [6260], val_loss: 7526.5132\n",
      "Epoch [6280], val_loss: 7526.4839\n",
      "Epoch [6300], val_loss: 7526.3286\n",
      "Epoch [6320], val_loss: 7526.2573\n",
      "Epoch [6340], val_loss: 7526.2983\n",
      "Epoch [6360], val_loss: 7526.2563\n",
      "Epoch [6380], val_loss: 7526.1636\n",
      "Epoch [6400], val_loss: 7526.1587\n",
      "Epoch [6420], val_loss: 7526.1211\n",
      "Epoch [6440], val_loss: 7526.0718\n",
      "Epoch [6460], val_loss: 7525.9839\n",
      "Epoch [6480], val_loss: 7525.9692\n",
      "Epoch [6500], val_loss: 7525.8325\n",
      "Epoch [6520], val_loss: 7525.8716\n",
      "Epoch [6540], val_loss: 7525.7603\n",
      "Epoch [6560], val_loss: 7525.7632\n",
      "Epoch [6580], val_loss: 7525.5938\n",
      "Epoch [6600], val_loss: 7525.6079\n",
      "Epoch [6620], val_loss: 7525.5415\n",
      "Epoch [6640], val_loss: 7525.4487\n",
      "Epoch [6660], val_loss: 7525.3789\n",
      "Epoch [6680], val_loss: 7525.2441\n",
      "Epoch [6700], val_loss: 7525.2383\n",
      "Epoch [6720], val_loss: 7525.1992\n",
      "Epoch [6740], val_loss: 7525.0630\n",
      "Epoch [6760], val_loss: 7525.0332\n",
      "Epoch [6780], val_loss: 7524.8823\n",
      "Epoch [6800], val_loss: 7524.9062\n",
      "Epoch [6820], val_loss: 7524.8306\n",
      "Epoch [6840], val_loss: 7524.7632\n",
      "Epoch [6860], val_loss: 7524.7251\n",
      "Epoch [6880], val_loss: 7524.6431\n",
      "Epoch [6900], val_loss: 7524.5942\n",
      "Epoch [6920], val_loss: 7524.5024\n",
      "Epoch [6940], val_loss: 7524.5063\n",
      "Epoch [6960], val_loss: 7524.4106\n",
      "Epoch [6980], val_loss: 7524.4038\n",
      "Epoch [7000], val_loss: 7524.3452\n"
     ]
    }
   ],
   "source": [
    "epochs = 7000\n",
    "lr = 1e-3\n",
    "history2 = fit(epochs, lr, model, train_loader, val_loader)"
   ]
  },
  {
   "cell_type": "code",
   "execution_count": 53,
   "metadata": {},
   "outputs": [
    {
     "data": {
      "image/png": "[encoded data removed]",
      "text/plain": [
       "<Figure size 432x288 with 1 Axes>"
      ]
     },
     "metadata": {
      "needs_background": "light"
     },
     "output_type": "display_data"
    }
   ],
   "source": [
    "graph_loss(history2)"
   ]
  },
  {
   "cell_type": "code",
   "execution_count": 56,
   "metadata": {},
   "outputs": [
    {
     "name": "stdout",
     "output_type": "stream",
     "text": [
      "Epoch [20], val_loss: 7522.2500\n",
      "Epoch [40], val_loss: 7522.2437\n",
      "Epoch [60], val_loss: 7522.2344\n",
      "Epoch [80], val_loss: 7522.2329\n",
      "Epoch [100], val_loss: 7522.2310\n",
      "Epoch [120], val_loss: 7522.2241\n",
      "Epoch [140], val_loss: 7522.2251\n",
      "Epoch [160], val_loss: 7522.2109\n",
      "Epoch [180], val_loss: 7522.2085\n",
      "Epoch [200], val_loss: 7522.2129\n",
      "Epoch [220], val_loss: 7522.2095\n",
      "Epoch [240], val_loss: 7522.1890\n",
      "Epoch [260], val_loss: 7522.1875\n",
      "Epoch [280], val_loss: 7522.1714\n",
      "Epoch [300], val_loss: 7522.1655\n",
      "Epoch [320], val_loss: 7522.1646\n",
      "Epoch [340], val_loss: 7522.1567\n",
      "Epoch [360], val_loss: 7522.1562\n",
      "Epoch [380], val_loss: 7522.1470\n",
      "Epoch [400], val_loss: 7522.1470\n",
      "Epoch [420], val_loss: 7522.1309\n",
      "Epoch [440], val_loss: 7522.1255\n",
      "Epoch [460], val_loss: 7522.1235\n",
      "Epoch [480], val_loss: 7522.1157\n",
      "Epoch [500], val_loss: 7522.1133\n",
      "Epoch [520], val_loss: 7522.1055\n",
      "Epoch [540], val_loss: 7522.1050\n",
      "Epoch [560], val_loss: 7522.0874\n",
      "Epoch [580], val_loss: 7522.0894\n",
      "Epoch [600], val_loss: 7522.0786\n",
      "Epoch [620], val_loss: 7522.0801\n",
      "Epoch [640], val_loss: 7522.0669\n",
      "Epoch [660], val_loss: 7522.0698\n",
      "Epoch [680], val_loss: 7522.0688\n",
      "Epoch [700], val_loss: 7522.0547\n",
      "Epoch [720], val_loss: 7522.0430\n",
      "Epoch [740], val_loss: 7522.0366\n",
      "Epoch [760], val_loss: 7522.0366\n",
      "Epoch [780], val_loss: 7522.0259\n",
      "Epoch [800], val_loss: 7522.0132\n",
      "Epoch [820], val_loss: 7522.0083\n",
      "Epoch [840], val_loss: 7521.9961\n",
      "Epoch [860], val_loss: 7521.9878\n",
      "Epoch [880], val_loss: 7521.9800\n",
      "Epoch [900], val_loss: 7521.9805\n",
      "Epoch [920], val_loss: 7521.9805\n",
      "Epoch [940], val_loss: 7521.9790\n",
      "Epoch [960], val_loss: 7521.9824\n",
      "Epoch [980], val_loss: 7521.9688\n",
      "Epoch [1000], val_loss: 7521.9634\n",
      "Epoch [1020], val_loss: 7521.9546\n",
      "Epoch [1040], val_loss: 7521.9419\n",
      "Epoch [1060], val_loss: 7521.9512\n",
      "Epoch [1080], val_loss: 7521.9355\n",
      "Epoch [1100], val_loss: 7521.9263\n",
      "Epoch [1120], val_loss: 7521.9282\n",
      "Epoch [1140], val_loss: 7521.9102\n",
      "Epoch [1160], val_loss: 7521.9087\n",
      "Epoch [1180], val_loss: 7521.9141\n",
      "Epoch [1200], val_loss: 7521.9043\n",
      "Epoch [1220], val_loss: 7521.9038\n",
      "Epoch [1240], val_loss: 7521.8926\n",
      "Epoch [1260], val_loss: 7521.8833\n",
      "Epoch [1280], val_loss: 7521.8716\n",
      "Epoch [1300], val_loss: 7521.8711\n",
      "Epoch [1320], val_loss: 7521.8833\n",
      "Epoch [1340], val_loss: 7521.8726\n",
      "Epoch [1360], val_loss: 7521.8633\n",
      "Epoch [1380], val_loss: 7521.8477\n",
      "Epoch [1400], val_loss: 7521.8462\n",
      "Epoch [1420], val_loss: 7521.8306\n",
      "Epoch [1440], val_loss: 7521.8247\n",
      "Epoch [1460], val_loss: 7521.8223\n",
      "Epoch [1480], val_loss: 7521.8184\n",
      "Epoch [1500], val_loss: 7521.8218\n",
      "Epoch [1520], val_loss: 7521.8149\n",
      "Epoch [1540], val_loss: 7521.8091\n",
      "Epoch [1560], val_loss: 7521.8003\n",
      "Epoch [1580], val_loss: 7521.8013\n",
      "Epoch [1600], val_loss: 7521.8027\n",
      "Epoch [1620], val_loss: 7521.7935\n",
      "Epoch [1640], val_loss: 7521.7910\n",
      "Epoch [1660], val_loss: 7521.7891\n",
      "Epoch [1680], val_loss: 7521.7847\n",
      "Epoch [1700], val_loss: 7521.7739\n",
      "Epoch [1720], val_loss: 7521.7637\n",
      "Epoch [1740], val_loss: 7521.7476\n",
      "Epoch [1760], val_loss: 7521.7446\n",
      "Epoch [1780], val_loss: 7521.7231\n",
      "Epoch [1800], val_loss: 7521.7261\n",
      "Epoch [1820], val_loss: 7521.7148\n",
      "Epoch [1840], val_loss: 7521.7036\n",
      "Epoch [1860], val_loss: 7521.7017\n",
      "Epoch [1880], val_loss: 7521.7095\n",
      "Epoch [1900], val_loss: 7521.6968\n",
      "Epoch [1920], val_loss: 7521.6821\n",
      "Epoch [1940], val_loss: 7521.6724\n",
      "Epoch [1960], val_loss: 7521.6763\n",
      "Epoch [1980], val_loss: 7521.6597\n",
      "Epoch [2000], val_loss: 7521.6499\n"
     ]
    }
   ],
   "source": [
    "epochs = 2000\n",
    "lr = 1e-4\n",
    "history3 = fit(epochs, lr, model, train_loader, val_loader)"
   ]
  },
  {
   "cell_type": "code",
   "execution_count": 57,
   "metadata": {},
   "outputs": [
    {
     "data": {
      "image/png": "[encoded data removed]",
      "text/plain": [
       "<Figure size 432x288 with 1 Axes>"
      ]
     },
     "metadata": {
      "needs_background": "light"
     },
     "output_type": "display_data"
    }
   ],
   "source": [
    "graph_loss(history3)"
   ]
  },
  {
   "cell_type": "code",
   "execution_count": 58,
   "metadata": {},
   "outputs": [
    {
     "name": "stdout",
     "output_type": "stream",
     "text": [
      "Epoch [20], val_loss: 7521.2012\n",
      "Epoch [40], val_loss: 7520.8765\n",
      "Epoch [60], val_loss: 7520.3438\n",
      "Epoch [80], val_loss: 7519.4419\n",
      "Epoch [100], val_loss: 7519.9819\n",
      "Epoch [120], val_loss: 7518.9360\n",
      "Epoch [140], val_loss: 7518.0239\n",
      "Epoch [160], val_loss: 7518.0786\n",
      "Epoch [180], val_loss: 7516.5723\n",
      "Epoch [200], val_loss: 7515.6401\n",
      "Epoch [220], val_loss: 7515.3477\n",
      "Epoch [240], val_loss: 7514.4922\n",
      "Epoch [260], val_loss: 7514.3218\n",
      "Epoch [280], val_loss: 7513.7456\n",
      "Epoch [300], val_loss: 7513.1304\n",
      "Epoch [320], val_loss: 7513.2539\n",
      "Epoch [340], val_loss: 7512.7285\n",
      "Epoch [360], val_loss: 7512.4023\n",
      "Epoch [380], val_loss: 7511.9219\n",
      "Epoch [400], val_loss: 7511.3911\n",
      "Epoch [420], val_loss: 7511.1406\n",
      "Epoch [440], val_loss: 7510.7593\n",
      "Epoch [460], val_loss: 7509.7310\n",
      "Epoch [480], val_loss: 7508.9106\n",
      "Epoch [500], val_loss: 7508.6372\n",
      "Epoch [520], val_loss: 7508.4771\n",
      "Epoch [540], val_loss: 7508.1133\n",
      "Epoch [560], val_loss: 7508.1001\n",
      "Epoch [580], val_loss: 7507.2134\n",
      "Epoch [600], val_loss: 7506.5918\n",
      "Epoch [620], val_loss: 7505.4839\n",
      "Epoch [640], val_loss: 7504.0405\n",
      "Epoch [660], val_loss: 7504.1367\n",
      "Epoch [680], val_loss: 7503.7827\n",
      "Epoch [700], val_loss: 7502.9263\n",
      "Epoch [720], val_loss: 7503.5894\n",
      "Epoch [740], val_loss: 7502.2227\n",
      "Epoch [760], val_loss: 7502.2246\n",
      "Epoch [780], val_loss: 7500.6724\n",
      "Epoch [800], val_loss: 7500.2476\n",
      "Epoch [820], val_loss: 7499.5742\n",
      "Epoch [840], val_loss: 7499.8706\n",
      "Epoch [860], val_loss: 7499.2212\n",
      "Epoch [880], val_loss: 7498.8433\n",
      "Epoch [900], val_loss: 7498.3281\n",
      "Epoch [920], val_loss: 7497.8638\n",
      "Epoch [940], val_loss: 7498.1060\n",
      "Epoch [960], val_loss: 7497.1191\n",
      "Epoch [980], val_loss: 7497.0464\n",
      "Epoch [1000], val_loss: 7495.5737\n"
     ]
    }
   ],
   "source": [
    "epochs = 1000\n",
    "lr = 1e-2\n",
    "history4 = fit(epochs, lr, model, train_loader, val_loader)"
   ]
  },
  {
   "cell_type": "code",
   "execution_count": 59,
   "metadata": {},
   "outputs": [
    {
     "data": {
      "image/png": "[encoded data removed]",
      "text/plain": [
       "<Figure size 432x288 with 1 Axes>"
      ]
     },
     "metadata": {
      "needs_background": "light"
     },
     "output_type": "display_data"
    }
   ],
   "source": [
    "graph_loss(history4)"
   ]
  },
  {
   "cell_type": "code",
   "execution_count": 67,
   "metadata": {},
   "outputs": [
    {
     "name": "stdout",
     "output_type": "stream",
     "text": [
      "Epoch [20], val_loss: 6930.3501\n",
      "Epoch [40], val_loss: 6929.9624\n",
      "Epoch [60], val_loss: 6929.9478\n",
      "Epoch [80], val_loss: 6929.5918\n",
      "Epoch [100], val_loss: 6929.4097\n",
      "Epoch [120], val_loss: 6929.2778\n",
      "Epoch [140], val_loss: 6929.2310\n",
      "Epoch [160], val_loss: 6929.0742\n",
      "Epoch [180], val_loss: 6929.0015\n",
      "Epoch [200], val_loss: 6928.9058\n",
      "Epoch [220], val_loss: 6928.6948\n",
      "Epoch [240], val_loss: 6928.3540\n",
      "Epoch [260], val_loss: 6928.3892\n",
      "Epoch [280], val_loss: 6928.0845\n",
      "Epoch [300], val_loss: 6927.8120\n",
      "Epoch [320], val_loss: 6928.0059\n",
      "Epoch [340], val_loss: 6927.9238\n",
      "Epoch [360], val_loss: 6927.3101\n",
      "Epoch [380], val_loss: 6927.0708\n",
      "Epoch [400], val_loss: 6927.5054\n",
      "Epoch [420], val_loss: 6926.8164\n",
      "Epoch [440], val_loss: 6926.7847\n",
      "Epoch [460], val_loss: 6926.4194\n",
      "Epoch [480], val_loss: 6926.8101\n",
      "Epoch [500], val_loss: 6926.1880\n",
      "Epoch [520], val_loss: 6926.1245\n",
      "Epoch [540], val_loss: 6925.9219\n",
      "Epoch [560], val_loss: 6925.6699\n",
      "Epoch [580], val_loss: 6925.8188\n",
      "Epoch [600], val_loss: 6925.5859\n",
      "Epoch [620], val_loss: 6925.3569\n",
      "Epoch [640], val_loss: 6925.0312\n",
      "Epoch [660], val_loss: 6924.9824\n",
      "Epoch [680], val_loss: 6924.8984\n",
      "Epoch [700], val_loss: 6924.4741\n",
      "Epoch [720], val_loss: 6924.4937\n",
      "Epoch [740], val_loss: 6923.9165\n",
      "Epoch [760], val_loss: 6924.2173\n",
      "Epoch [780], val_loss: 6923.9780\n",
      "Epoch [800], val_loss: 6924.0000\n",
      "Epoch [820], val_loss: 6923.4194\n",
      "Epoch [840], val_loss: 6923.2788\n",
      "Epoch [860], val_loss: 6923.3833\n",
      "Epoch [880], val_loss: 6922.8457\n",
      "Epoch [900], val_loss: 6923.0112\n",
      "Epoch [920], val_loss: 6922.9058\n",
      "Epoch [940], val_loss: 6922.7637\n",
      "Epoch [960], val_loss: 6922.0532\n",
      "Epoch [980], val_loss: 6922.2651\n",
      "Epoch [1000], val_loss: 6921.9746\n",
      "Epoch [1020], val_loss: 6921.8159\n",
      "Epoch [1040], val_loss: 6921.4492\n",
      "Epoch [1060], val_loss: 6921.6426\n",
      "Epoch [1080], val_loss: 6921.2578\n",
      "Epoch [1100], val_loss: 6921.2715\n",
      "Epoch [1120], val_loss: 6920.9902\n",
      "Epoch [1140], val_loss: 6920.6450\n",
      "Epoch [1160], val_loss: 6920.5552\n",
      "Epoch [1180], val_loss: 6920.4937\n",
      "Epoch [1200], val_loss: 6920.3145\n",
      "Epoch [1220], val_loss: 6920.5396\n",
      "Epoch [1240], val_loss: 6919.9863\n",
      "Epoch [1260], val_loss: 6919.7739\n",
      "Epoch [1280], val_loss: 6919.5845\n",
      "Epoch [1300], val_loss: 6919.8423\n",
      "Epoch [1320], val_loss: 6919.2515\n",
      "Epoch [1340], val_loss: 6919.2578\n",
      "Epoch [1360], val_loss: 6918.9165\n",
      "Epoch [1380], val_loss: 6919.0620\n",
      "Epoch [1400], val_loss: 6918.5474\n",
      "Epoch [1420], val_loss: 6918.6880\n",
      "Epoch [1440], val_loss: 6918.3296\n",
      "Epoch [1460], val_loss: 6918.1294\n",
      "Epoch [1480], val_loss: 6917.8667\n",
      "Epoch [1500], val_loss: 6917.9219\n",
      "Epoch [1520], val_loss: 6917.8394\n",
      "Epoch [1540], val_loss: 6917.8042\n",
      "Epoch [1560], val_loss: 6917.4570\n",
      "Epoch [1580], val_loss: 6917.3418\n",
      "Epoch [1600], val_loss: 6917.0649\n",
      "Epoch [1620], val_loss: 6916.6406\n",
      "Epoch [1640], val_loss: 6916.8433\n",
      "Epoch [1660], val_loss: 6916.5210\n",
      "Epoch [1680], val_loss: 6916.5508\n",
      "Epoch [1700], val_loss: 6916.3325\n",
      "Epoch [1720], val_loss: 6916.2056\n",
      "Epoch [1740], val_loss: 6916.0532\n",
      "Epoch [1760], val_loss: 6916.0474\n",
      "Epoch [1780], val_loss: 6915.7905\n",
      "Epoch [1800], val_loss: 6915.2847\n",
      "Epoch [1820], val_loss: 6915.3911\n",
      "Epoch [1840], val_loss: 6915.2456\n",
      "Epoch [1860], val_loss: 6914.6655\n",
      "Epoch [1880], val_loss: 6914.6055\n",
      "Epoch [1900], val_loss: 6914.2446\n",
      "Epoch [1920], val_loss: 6914.2852\n",
      "Epoch [1940], val_loss: 6913.9805\n",
      "Epoch [1960], val_loss: 6914.1294\n",
      "Epoch [1980], val_loss: 6913.8535\n",
      "Epoch [2000], val_loss: 6913.5552\n",
      "Epoch [2020], val_loss: 6913.8950\n",
      "Epoch [2040], val_loss: 6913.4185\n",
      "Epoch [2060], val_loss: 6912.8945\n",
      "Epoch [2080], val_loss: 6913.3809\n",
      "Epoch [2100], val_loss: 6912.5415\n",
      "Epoch [2120], val_loss: 6912.6382\n",
      "Epoch [2140], val_loss: 6912.6294\n",
      "Epoch [2160], val_loss: 6912.4380\n",
      "Epoch [2180], val_loss: 6912.1265\n",
      "Epoch [2200], val_loss: 6911.8188\n",
      "Epoch [2220], val_loss: 6911.9165\n",
      "Epoch [2240], val_loss: 6911.6797\n",
      "Epoch [2260], val_loss: 6911.7500\n",
      "Epoch [2280], val_loss: 6911.3940\n",
      "Epoch [2300], val_loss: 6911.0757\n",
      "Epoch [2320], val_loss: 6911.1465\n",
      "Epoch [2340], val_loss: 6910.7993\n",
      "Epoch [2360], val_loss: 6910.6812\n",
      "Epoch [2380], val_loss: 6910.1958\n",
      "Epoch [2400], val_loss: 6910.5063\n",
      "Epoch [2420], val_loss: 6910.1914\n",
      "Epoch [2440], val_loss: 6909.8706\n",
      "Epoch [2460], val_loss: 6909.8398\n",
      "Epoch [2480], val_loss: 6909.8394\n",
      "Epoch [2500], val_loss: 6909.5337\n",
      "Epoch [2520], val_loss: 6909.5957\n",
      "Epoch [2540], val_loss: 6909.0591\n",
      "Epoch [2560], val_loss: 6908.7222\n",
      "Epoch [2580], val_loss: 6909.0239\n",
      "Epoch [2600], val_loss: 6908.7007\n",
      "Epoch [2620], val_loss: 6908.9956\n",
      "Epoch [2640], val_loss: 6908.0977\n",
      "Epoch [2660], val_loss: 6908.4077\n",
      "Epoch [2680], val_loss: 6907.9316\n",
      "Epoch [2700], val_loss: 6908.2090\n",
      "Epoch [2720], val_loss: 6907.4292\n",
      "Epoch [2740], val_loss: 6907.6509\n",
      "Epoch [2760], val_loss: 6907.4824\n",
      "Epoch [2780], val_loss: 6906.9419\n",
      "Epoch [2800], val_loss: 6907.1309\n",
      "Epoch [2820], val_loss: 6906.7534\n",
      "Epoch [2840], val_loss: 6906.4536\n",
      "Epoch [2860], val_loss: 6906.4497\n",
      "Epoch [2880], val_loss: 6906.5210\n",
      "Epoch [2900], val_loss: 6906.1948\n",
      "Epoch [2920], val_loss: 6905.8887\n",
      "Epoch [2940], val_loss: 6905.8169\n",
      "Epoch [2960], val_loss: 6905.6992\n",
      "Epoch [2980], val_loss: 6905.3638\n",
      "Epoch [3000], val_loss: 6904.8667\n",
      "Epoch [3020], val_loss: 6905.0293\n",
      "Epoch [3040], val_loss: 6905.0581\n",
      "Epoch [3060], val_loss: 6904.7524\n",
      "Epoch [3080], val_loss: 6904.5845\n",
      "Epoch [3100], val_loss: 6904.3179\n",
      "Epoch [3120], val_loss: 6904.1489\n",
      "Epoch [3140], val_loss: 6904.1841\n",
      "Epoch [3160], val_loss: 6904.0996\n",
      "Epoch [3180], val_loss: 6903.8354\n",
      "Epoch [3200], val_loss: 6904.0195\n",
      "Epoch [3220], val_loss: 6903.2642\n",
      "Epoch [3240], val_loss: 6903.0874\n",
      "Epoch [3260], val_loss: 6903.1577\n",
      "Epoch [3280], val_loss: 6903.1011\n",
      "Epoch [3300], val_loss: 6902.7524\n",
      "Epoch [3320], val_loss: 6902.7993\n",
      "Epoch [3340], val_loss: 6902.5547\n",
      "Epoch [3360], val_loss: 6902.3691\n",
      "Epoch [3380], val_loss: 6902.1328\n",
      "Epoch [3400], val_loss: 6901.7739\n",
      "Epoch [3420], val_loss: 6901.9116\n",
      "Epoch [3440], val_loss: 6901.7700\n",
      "Epoch [3460], val_loss: 6901.6411\n",
      "Epoch [3480], val_loss: 6901.2891\n",
      "Epoch [3500], val_loss: 6901.1797\n",
      "Epoch [3520], val_loss: 6900.8989\n",
      "Epoch [3540], val_loss: 6900.7070\n",
      "Epoch [3560], val_loss: 6900.7031\n",
      "Epoch [3580], val_loss: 6900.5464\n",
      "Epoch [3600], val_loss: 6900.2720\n",
      "Epoch [3620], val_loss: 6900.4751\n",
      "Epoch [3640], val_loss: 6899.9126\n",
      "Epoch [3660], val_loss: 6899.8008\n",
      "Epoch [3680], val_loss: 6899.5679\n",
      "Epoch [3700], val_loss: 6899.1890\n",
      "Epoch [3720], val_loss: 6899.6626\n",
      "Epoch [3740], val_loss: 6899.2261\n",
      "Epoch [3760], val_loss: 6898.9780\n",
      "Epoch [3780], val_loss: 6898.7446\n",
      "Epoch [3800], val_loss: 6899.0513\n",
      "Epoch [3820], val_loss: 6898.1738\n",
      "Epoch [3840], val_loss: 6898.2051\n",
      "Epoch [3860], val_loss: 6898.2773\n",
      "Epoch [3880], val_loss: 6898.1973\n",
      "Epoch [3900], val_loss: 6897.5767\n",
      "Epoch [3920], val_loss: 6897.3379\n",
      "Epoch [3940], val_loss: 6897.2485\n",
      "Epoch [3960], val_loss: 6897.1167\n",
      "Epoch [3980], val_loss: 6897.1313\n",
      "Epoch [4000], val_loss: 6896.7896\n",
      "Epoch [4020], val_loss: 6896.6987\n",
      "Epoch [4040], val_loss: 6896.4883\n",
      "Epoch [4060], val_loss: 6896.3872\n",
      "Epoch [4080], val_loss: 6896.4360\n",
      "Epoch [4100], val_loss: 6896.8496\n",
      "Epoch [4120], val_loss: 6895.9453\n",
      "Epoch [4140], val_loss: 6895.7969\n",
      "Epoch [4160], val_loss: 6896.0859\n",
      "Epoch [4180], val_loss: 6895.3921\n",
      "Epoch [4200], val_loss: 6895.1675\n",
      "Epoch [4220], val_loss: 6895.3867\n",
      "Epoch [4240], val_loss: 6895.1348\n",
      "Epoch [4260], val_loss: 6894.8770\n",
      "Epoch [4280], val_loss: 6894.5845\n",
      "Epoch [4300], val_loss: 6894.6304\n",
      "Epoch [4320], val_loss: 6894.0132\n",
      "Epoch [4340], val_loss: 6893.8247\n",
      "Epoch [4360], val_loss: 6894.0430\n",
      "Epoch [4380], val_loss: 6893.8130\n",
      "Epoch [4400], val_loss: 6893.6440\n",
      "Epoch [4420], val_loss: 6893.6255\n",
      "Epoch [4440], val_loss: 6893.5483\n",
      "Epoch [4460], val_loss: 6893.3530\n",
      "Epoch [4480], val_loss: 6893.3828\n",
      "Epoch [4500], val_loss: 6893.0190\n",
      "Epoch [4520], val_loss: 6892.7769\n",
      "Epoch [4540], val_loss: 6892.5776\n",
      "Epoch [4560], val_loss: 6892.3491\n",
      "Epoch [4580], val_loss: 6891.9907\n",
      "Epoch [4600], val_loss: 6892.0991\n",
      "Epoch [4620], val_loss: 6892.0972\n",
      "Epoch [4640], val_loss: 6891.6157\n",
      "Epoch [4660], val_loss: 6891.7144\n",
      "Epoch [4680], val_loss: 6891.3999\n",
      "Epoch [4700], val_loss: 6891.2812\n",
      "Epoch [4720], val_loss: 6891.1470\n",
      "Epoch [4740], val_loss: 6891.0669\n",
      "Epoch [4760], val_loss: 6890.7729\n",
      "Epoch [4780], val_loss: 6890.8208\n",
      "Epoch [4800], val_loss: 6890.4004\n",
      "Epoch [4820], val_loss: 6890.2583\n",
      "Epoch [4840], val_loss: 6890.2622\n",
      "Epoch [4860], val_loss: 6889.7856\n"
     ]
    },
    {
     "name": "stdout",
     "output_type": "stream",
     "text": [
      "Epoch [4880], val_loss: 6889.4087\n",
      "Epoch [4900], val_loss: 6889.6450\n",
      "Epoch [4920], val_loss: 6889.2661\n",
      "Epoch [4940], val_loss: 6889.0356\n",
      "Epoch [4960], val_loss: 6888.8945\n",
      "Epoch [4980], val_loss: 6888.9878\n",
      "Epoch [5000], val_loss: 6888.8926\n",
      "Epoch [5020], val_loss: 6888.5425\n",
      "Epoch [5040], val_loss: 6888.0171\n",
      "Epoch [5060], val_loss: 6888.0586\n",
      "Epoch [5080], val_loss: 6888.0718\n",
      "Epoch [5100], val_loss: 6887.8569\n",
      "Epoch [5120], val_loss: 6887.9272\n",
      "Epoch [5140], val_loss: 6887.5659\n",
      "Epoch [5160], val_loss: 6887.2754\n",
      "Epoch [5180], val_loss: 6887.4038\n",
      "Epoch [5200], val_loss: 6887.0156\n",
      "Epoch [5220], val_loss: 6886.8477\n",
      "Epoch [5240], val_loss: 6886.7798\n",
      "Epoch [5260], val_loss: 6886.4272\n",
      "Epoch [5280], val_loss: 6886.4565\n",
      "Epoch [5300], val_loss: 6885.9497\n",
      "Epoch [5320], val_loss: 6885.7827\n",
      "Epoch [5340], val_loss: 6885.9321\n",
      "Epoch [5360], val_loss: 6885.8965\n",
      "Epoch [5380], val_loss: 6885.6074\n",
      "Epoch [5400], val_loss: 6885.1641\n",
      "Epoch [5420], val_loss: 6885.2993\n",
      "Epoch [5440], val_loss: 6884.8691\n",
      "Epoch [5460], val_loss: 6884.8320\n",
      "Epoch [5480], val_loss: 6884.6079\n",
      "Epoch [5500], val_loss: 6884.2690\n",
      "Epoch [5520], val_loss: 6884.1372\n",
      "Epoch [5540], val_loss: 6883.8867\n",
      "Epoch [5560], val_loss: 6883.9258\n",
      "Epoch [5580], val_loss: 6884.0210\n",
      "Epoch [5600], val_loss: 6883.5493\n",
      "Epoch [5620], val_loss: 6883.7583\n",
      "Epoch [5640], val_loss: 6883.6206\n",
      "Epoch [5660], val_loss: 6883.3672\n",
      "Epoch [5680], val_loss: 6882.7612\n",
      "Epoch [5700], val_loss: 6882.6968\n",
      "Epoch [5720], val_loss: 6882.5801\n",
      "Epoch [5740], val_loss: 6882.3804\n",
      "Epoch [5760], val_loss: 6882.5503\n",
      "Epoch [5780], val_loss: 6882.1313\n",
      "Epoch [5800], val_loss: 6882.1094\n",
      "Epoch [5820], val_loss: 6881.7676\n",
      "Epoch [5840], val_loss: 6881.2896\n",
      "Epoch [5860], val_loss: 6881.5757\n",
      "Epoch [5880], val_loss: 6881.2690\n",
      "Epoch [5900], val_loss: 6881.1870\n",
      "Epoch [5920], val_loss: 6880.9204\n",
      "Epoch [5940], val_loss: 6880.7910\n",
      "Epoch [5960], val_loss: 6880.7031\n",
      "Epoch [5980], val_loss: 6880.5176\n",
      "Epoch [6000], val_loss: 6880.3008\n",
      "Epoch [6020], val_loss: 6880.0259\n",
      "Epoch [6040], val_loss: 6879.8022\n",
      "Epoch [6060], val_loss: 6879.6167\n",
      "Epoch [6080], val_loss: 6879.6016\n",
      "Epoch [6100], val_loss: 6879.4595\n",
      "Epoch [6120], val_loss: 6879.4507\n",
      "Epoch [6140], val_loss: 6879.2734\n",
      "Epoch [6160], val_loss: 6878.8027\n",
      "Epoch [6180], val_loss: 6878.5210\n",
      "Epoch [6200], val_loss: 6878.5620\n",
      "Epoch [6220], val_loss: 6878.4766\n",
      "Epoch [6240], val_loss: 6878.2056\n",
      "Epoch [6260], val_loss: 6878.0923\n",
      "Epoch [6280], val_loss: 6877.9922\n",
      "Epoch [6300], val_loss: 6877.7891\n",
      "Epoch [6320], val_loss: 6877.6069\n",
      "Epoch [6340], val_loss: 6877.2832\n",
      "Epoch [6360], val_loss: 6877.4692\n",
      "Epoch [6380], val_loss: 6877.0254\n",
      "Epoch [6400], val_loss: 6876.8481\n",
      "Epoch [6420], val_loss: 6877.1870\n",
      "Epoch [6440], val_loss: 6876.4702\n",
      "Epoch [6460], val_loss: 6876.2222\n",
      "Epoch [6480], val_loss: 6876.2715\n",
      "Epoch [6500], val_loss: 6876.0688\n",
      "Epoch [6520], val_loss: 6875.8535\n",
      "Epoch [6540], val_loss: 6875.6089\n",
      "Epoch [6560], val_loss: 6875.3770\n",
      "Epoch [6580], val_loss: 6875.4380\n",
      "Epoch [6600], val_loss: 6875.3433\n",
      "Epoch [6620], val_loss: 6875.1147\n",
      "Epoch [6640], val_loss: 6874.5991\n",
      "Epoch [6660], val_loss: 6874.7935\n",
      "Epoch [6680], val_loss: 6874.7603\n",
      "Epoch [6700], val_loss: 6874.5024\n",
      "Epoch [6720], val_loss: 6874.2397\n",
      "Epoch [6740], val_loss: 6874.1489\n",
      "Epoch [6760], val_loss: 6873.8872\n",
      "Epoch [6780], val_loss: 6873.6655\n",
      "Epoch [6800], val_loss: 6874.0879\n",
      "Epoch [6820], val_loss: 6873.3384\n",
      "Epoch [6840], val_loss: 6873.2983\n",
      "Epoch [6860], val_loss: 6873.0879\n",
      "Epoch [6880], val_loss: 6872.9038\n",
      "Epoch [6900], val_loss: 6872.8091\n",
      "Epoch [6920], val_loss: 6872.4429\n",
      "Epoch [6940], val_loss: 6872.4922\n",
      "Epoch [6960], val_loss: 6872.1470\n",
      "Epoch [6980], val_loss: 6872.0942\n",
      "Epoch [7000], val_loss: 6871.8560\n",
      "Epoch [7020], val_loss: 6871.8516\n",
      "Epoch [7040], val_loss: 6871.4966\n",
      "Epoch [7060], val_loss: 6871.5229\n",
      "Epoch [7080], val_loss: 6871.1958\n",
      "Epoch [7100], val_loss: 6871.1050\n",
      "Epoch [7120], val_loss: 6870.8931\n",
      "Epoch [7140], val_loss: 6870.6968\n",
      "Epoch [7160], val_loss: 6870.6392\n",
      "Epoch [7180], val_loss: 6870.1431\n",
      "Epoch [7200], val_loss: 6870.0605\n",
      "Epoch [7220], val_loss: 6869.9238\n",
      "Epoch [7240], val_loss: 6869.9004\n",
      "Epoch [7260], val_loss: 6869.7183\n",
      "Epoch [7280], val_loss: 6869.6304\n",
      "Epoch [7300], val_loss: 6869.3633\n",
      "Epoch [7320], val_loss: 6869.1909\n",
      "Epoch [7340], val_loss: 6868.8267\n",
      "Epoch [7360], val_loss: 6869.0376\n",
      "Epoch [7380], val_loss: 6868.7617\n",
      "Epoch [7400], val_loss: 6868.7207\n",
      "Epoch [7420], val_loss: 6868.3730\n",
      "Epoch [7440], val_loss: 6868.2222\n",
      "Epoch [7460], val_loss: 6867.8008\n",
      "Epoch [7480], val_loss: 6867.6265\n",
      "Epoch [7500], val_loss: 6867.7368\n",
      "Epoch [7520], val_loss: 6867.6582\n",
      "Epoch [7540], val_loss: 6867.5903\n",
      "Epoch [7560], val_loss: 6867.4434\n",
      "Epoch [7580], val_loss: 6867.1172\n",
      "Epoch [7600], val_loss: 6866.6646\n",
      "Epoch [7620], val_loss: 6866.7495\n",
      "Epoch [7640], val_loss: 6866.2109\n",
      "Epoch [7660], val_loss: 6866.3345\n",
      "Epoch [7680], val_loss: 6866.1675\n",
      "Epoch [7700], val_loss: 6865.9517\n",
      "Epoch [7720], val_loss: 6865.8843\n",
      "Epoch [7740], val_loss: 6865.5308\n",
      "Epoch [7760], val_loss: 6865.4414\n",
      "Epoch [7780], val_loss: 6865.3516\n",
      "Epoch [7800], val_loss: 6865.0132\n",
      "Epoch [7820], val_loss: 6864.9102\n",
      "Epoch [7840], val_loss: 6864.9180\n",
      "Epoch [7860], val_loss: 6864.7852\n",
      "Epoch [7880], val_loss: 6864.6133\n",
      "Epoch [7900], val_loss: 6864.2124\n",
      "Epoch [7920], val_loss: 6864.0132\n",
      "Epoch [7940], val_loss: 6864.0669\n",
      "Epoch [7960], val_loss: 6863.9355\n",
      "Epoch [7980], val_loss: 6863.7437\n",
      "Epoch [8000], val_loss: 6863.5181\n",
      "Epoch [8020], val_loss: 6863.2065\n",
      "Epoch [8040], val_loss: 6863.1812\n",
      "Epoch [8060], val_loss: 6862.9644\n",
      "Epoch [8080], val_loss: 6862.9263\n",
      "Epoch [8100], val_loss: 6862.6890\n",
      "Epoch [8120], val_loss: 6862.6509\n",
      "Epoch [8140], val_loss: 6862.3579\n",
      "Epoch [8160], val_loss: 6862.1880\n",
      "Epoch [8180], val_loss: 6862.1313\n",
      "Epoch [8200], val_loss: 6862.0181\n",
      "Epoch [8220], val_loss: 6861.8452\n",
      "Epoch [8240], val_loss: 6861.6392\n",
      "Epoch [8260], val_loss: 6861.3242\n",
      "Epoch [8280], val_loss: 6861.2603\n",
      "Epoch [8300], val_loss: 6860.9102\n",
      "Epoch [8320], val_loss: 6860.9336\n",
      "Epoch [8340], val_loss: 6860.7290\n",
      "Epoch [8360], val_loss: 6860.4727\n",
      "Epoch [8380], val_loss: 6860.2661\n",
      "Epoch [8400], val_loss: 6860.3169\n",
      "Epoch [8420], val_loss: 6859.9858\n",
      "Epoch [8440], val_loss: 6859.8516\n",
      "Epoch [8460], val_loss: 6859.6890\n",
      "Epoch [8480], val_loss: 6859.6060\n",
      "Epoch [8500], val_loss: 6859.2520\n",
      "Epoch [8520], val_loss: 6859.1655\n",
      "Epoch [8540], val_loss: 6858.9243\n",
      "Epoch [8560], val_loss: 6858.9546\n",
      "Epoch [8580], val_loss: 6858.6968\n",
      "Epoch [8600], val_loss: 6858.4961\n",
      "Epoch [8620], val_loss: 6858.0620\n",
      "Epoch [8640], val_loss: 6858.2246\n",
      "Epoch [8660], val_loss: 6857.6753\n",
      "Epoch [8680], val_loss: 6857.8022\n",
      "Epoch [8700], val_loss: 6857.5078\n",
      "Epoch [8720], val_loss: 6857.4390\n",
      "Epoch [8740], val_loss: 6857.1616\n",
      "Epoch [8760], val_loss: 6857.3403\n",
      "Epoch [8780], val_loss: 6856.9727\n",
      "Epoch [8800], val_loss: 6856.8770\n",
      "Epoch [8820], val_loss: 6856.8120\n",
      "Epoch [8840], val_loss: 6856.5464\n",
      "Epoch [8860], val_loss: 6856.3750\n",
      "Epoch [8880], val_loss: 6856.2969\n",
      "Epoch [8900], val_loss: 6856.1001\n",
      "Epoch [8920], val_loss: 6855.9590\n",
      "Epoch [8940], val_loss: 6855.6733\n",
      "Epoch [8960], val_loss: 6855.3511\n",
      "Epoch [8980], val_loss: 6855.1797\n",
      "Epoch [9000], val_loss: 6855.1050\n",
      "Epoch [9020], val_loss: 6854.9761\n",
      "Epoch [9040], val_loss: 6854.7578\n",
      "Epoch [9060], val_loss: 6854.6406\n",
      "Epoch [9080], val_loss: 6854.3110\n",
      "Epoch [9100], val_loss: 6854.2729\n",
      "Epoch [9120], val_loss: 6853.8794\n",
      "Epoch [9140], val_loss: 6854.1367\n",
      "Epoch [9160], val_loss: 6853.6099\n",
      "Epoch [9180], val_loss: 6853.8911\n",
      "Epoch [9200], val_loss: 6853.2266\n",
      "Epoch [9220], val_loss: 6853.1406\n",
      "Epoch [9240], val_loss: 6852.9121\n",
      "Epoch [9260], val_loss: 6852.9976\n",
      "Epoch [9280], val_loss: 6852.6772\n",
      "Epoch [9300], val_loss: 6852.6899\n",
      "Epoch [9320], val_loss: 6852.4263\n",
      "Epoch [9340], val_loss: 6852.2017\n",
      "Epoch [9360], val_loss: 6852.0815\n",
      "Epoch [9380], val_loss: 6851.8140\n",
      "Epoch [9400], val_loss: 6851.7974\n",
      "Epoch [9420], val_loss: 6851.5522\n",
      "Epoch [9440], val_loss: 6851.2773\n",
      "Epoch [9460], val_loss: 6851.4878\n",
      "Epoch [9480], val_loss: 6850.8726\n",
      "Epoch [9500], val_loss: 6850.9800\n",
      "Epoch [9520], val_loss: 6850.8320\n",
      "Epoch [9540], val_loss: 6850.3521\n",
      "Epoch [9560], val_loss: 6850.6753\n",
      "Epoch [9580], val_loss: 6850.2456\n",
      "Epoch [9600], val_loss: 6849.9766\n",
      "Epoch [9620], val_loss: 6850.0308\n",
      "Epoch [9640], val_loss: 6849.7090\n",
      "Epoch [9660], val_loss: 6849.2612\n",
      "Epoch [9680], val_loss: 6849.5386\n"
     ]
    },
    {
     "name": "stdout",
     "output_type": "stream",
     "text": [
      "Epoch [9700], val_loss: 6849.3169\n",
      "Epoch [9720], val_loss: 6849.0767\n",
      "Epoch [9740], val_loss: 6848.9458\n",
      "Epoch [9760], val_loss: 6848.7720\n",
      "Epoch [9780], val_loss: 6848.7261\n",
      "Epoch [9800], val_loss: 6848.6211\n",
      "Epoch [9820], val_loss: 6848.3140\n",
      "Epoch [9840], val_loss: 6848.1030\n",
      "Epoch [9860], val_loss: 6847.6187\n",
      "Epoch [9880], val_loss: 6847.5591\n",
      "Epoch [9900], val_loss: 6847.5371\n",
      "Epoch [9920], val_loss: 6847.4546\n",
      "Epoch [9940], val_loss: 6847.3589\n",
      "Epoch [9960], val_loss: 6847.0747\n",
      "Epoch [9980], val_loss: 6846.8257\n",
      "Epoch [10000], val_loss: 6846.8208\n"
     ]
    }
   ],
   "source": [
    "epochs = 10000\n",
    "lr = 1e-2\n",
    "history5 = fit(epochs, lr, model, train_loader, val_loader)"
   ]
  },
  {
   "cell_type": "code",
   "execution_count": 68,
   "metadata": {},
   "outputs": [
    {
     "data": {
      "image/png": "[encoded data removed]",
      "text/plain": [
       "<Figure size 432x288 with 1 Axes>"
      ]
     },
     "metadata": {
      "needs_background": "light"
     },
     "output_type": "display_data"
    }
   ],
   "source": [
    "graph_loss(history5)"
   ]
  },
  {
   "cell_type": "code",
   "execution_count": 69,
   "metadata": {},
   "outputs": [
    {
     "data": {
      "text/plain": [
       "{'val_loss': 6846.82080078125}"
      ]
     },
     "execution_count": 69,
     "metadata": {},
     "output_type": "execute_result"
    }
   ],
   "source": [
    "val_loss = history5[-1]\n",
    "val_loss"
   ]
  },
  {
   "cell_type": "markdown",
   "metadata": {},
   "source": [
    "Let's log the final validation loss to Jovian and commit the notebook"
   ]
  },
  {
   "cell_type": "code",
   "execution_count": 70,
   "metadata": {},
   "outputs": [
    {
     "name": "stdout",
     "output_type": "stream",
     "text": [
      "[jovian] Metrics logged.\u001b[0m\n"
     ]
    }
   ],
   "source": [
    "jovian.log_metrics(val_loss=val_loss)"
   ]
  },
  {
   "cell_type": "code",
   "execution_count": 71,
   "metadata": {},
   "outputs": [
    {
     "data": {
      "application/javascript": [
       "window.require && require([\"base/js/namespace\"],function(Jupyter){Jupyter.notebook.save_checkpoint()})"
      ],
      "text/plain": [
       "<IPython.core.display.Javascript object>"
      ]
     },
     "metadata": {},
     "output_type": "display_data"
    },
    {
     "name": "stdout",
     "output_type": "stream",
     "text": [
      "[jovian] Attempting to save notebook..\u001b[0m\n",
      "[jovian] Updating notebook \"imakshit/02-insurance-linear-regression\" on https://jovian.ml/\u001b[0m\n",
      "[jovian] Uploading notebook..\u001b[0m\n",
      "[jovian] Attaching records (metrics, hyperparameters, dataset etc.)\u001b[0m\n",
      "[jovian] Committed successfully! https://jovian.ml/imakshit/02-insurance-linear-regression\u001b[0m\n"
     ]
    },
    {
     "data": {
      "text/plain": [
       "'https://jovian.ml/imakshit/02-insurance-linear-regression'"
      ]
     },
     "execution_count": 71,
     "metadata": {},
     "output_type": "execute_result"
    }
   ],
   "source": [
    "jovian.commit(project=project_name, environment=None)"
   ]
  },
  {
   "cell_type": "markdown",
   "metadata": {},
   "source": [
    "Now scroll back up, re-initialize the model, and try different set of values for batch size, number of epochs, learning rate etc. Commit each experiment and use the \"Compare\" and \"View Diff\" options on Jovian to compare the different results."
   ]
  },
  {
   "cell_type": "markdown",
   "metadata": {},
   "source": [
    "## Step 5: Make predictions using the trained model\n",
    "\n",
    "**Q: Complete the following function definition to make predictions on a single input**"
   ]
  },
  {
   "cell_type": "code",
   "execution_count": 72,
   "metadata": {},
   "outputs": [],
   "source": [
    "def predict_single(input, target, model):\n",
    "    inputs = input.unsqueeze(0)\n",
    "    predictions = model(inputs)                # fill this\n",
    "    prediction = predictions[0].detach()\n",
    "    print(\"Input:\", input)\n",
    "    print(\"Target:\", target)\n",
    "    print(\"Prediction:\", prediction)"
   ]
  },
  {
   "cell_type": "code",
   "execution_count": 73,
   "metadata": {},
   "outputs": [
    {
     "name": "stdout",
     "output_type": "stream",
     "text": [
      "Input: tensor([34.0000,  0.0000, 31.3082,  3.0000,  0.0000,  2.0000])\n",
      "Target: tensor([7111.9443])\n",
      "Prediction: tensor([7920.9741])\n"
     ]
    }
   ],
   "source": [
    "input, target = val_ds[0]\n",
    "predict_single(input, target, model)"
   ]
  },
  {
   "cell_type": "code",
   "execution_count": 74,
   "metadata": {},
   "outputs": [
    {
     "name": "stdout",
     "output_type": "stream",
     "text": [
      "Input: tensor([29.0000,  0.0000, 41.5481,  3.0000,  0.0000,  2.0000])\n",
      "Target: tensor([5908.9951])\n",
      "Prediction: tensor([5862.7451])\n"
     ]
    }
   ],
   "source": [
    "input, target = val_ds[10]\n",
    "predict_single(input, target, model)"
   ]
  },
  {
   "cell_type": "code",
   "execution_count": 75,
   "metadata": {},
   "outputs": [
    {
     "name": "stdout",
     "output_type": "stream",
     "text": [
      "Input: tensor([42.0000,  0.0000, 35.1709,  0.0000,  0.0000,  0.0000])\n",
      "Target: tensor([8107.5244])\n",
      "Prediction: tensor([9483.9277])\n"
     ]
    }
   ],
   "source": [
    "input, target = val_ds[23]\n",
    "predict_single(input, target, model)"
   ]
  },
  {
   "cell_type": "markdown",
   "metadata": {},
   "source": [
    "Are you happy with your model's predictions? Try to improve them further."
   ]
  },
  {
   "cell_type": "markdown",
   "metadata": {},
   "source": [
    "## (Optional) Step 6: Try another dataset & blog about it\n",
    "\n",
    "While this last step is optional for the submission of your assignment, we highly recommend that you do it. Try to clean up & replicate this notebook (or [this one](https://jovian.ml/aakashns/housing-linear-minimal), or [this one](https://jovian.ml/aakashns/mnist-logistic-minimal) ) for a different linear regression or logistic regression problem. This will help solidify your understanding, and give you a chance to differentiate the generic patters in machine learning from problem-specific details.\n",
    "\n",
    "Here are some sources to find good datasets:\n",
    "\n",
    "- https://lionbridge.ai/datasets/10-open-datasets-for-linear-regression/\n",
    "- https://www.kaggle.com/rtatman/datasets-for-regression-analysis\n",
    "- https://archive.ics.uci.edu/ml/datasets.php?format=&task=reg&att=&area=&numAtt=&numIns=&type=&sort=nameUp&view=table\n",
    "- https://people.sc.fsu.edu/~jburkardt/datasets/regression/regression.html\n",
    "- https://archive.ics.uci.edu/ml/datasets/wine+quality\n",
    "- https://pytorch.org/docs/stable/torchvision/datasets.html\n",
    "\n",
    "We also recommend that you write a blog about your approach to the problem. Here is a suggested structure for your post (feel free to experiment with it):\n",
    "\n",
    "- Interesting title & subtitle\n",
    "- Overview of what the blog covers (which dataset, linear regression or logistic regression, intro to PyTorch)\n",
    "- Downloading & exploring the data\n",
    "- Preparing the data for training\n",
    "- Creating a model using PyTorch\n",
    "- Training the model to fit the data\n",
    "- Your thoughts on how to experiment with different hyperparmeters to reduce loss\n",
    "- Making predictions using the model\n",
    "\n",
    "As with the previous assignment, you can [embed Juptyer notebook cells & outputs from Jovian](https://medium.com/jovianml/share-and-embed-jupyter-notebooks-online-with-jovian-ml-df709a03064e) into your blog. \n",
    "\n",
    "Don't forget to share your work on the forum: https://jovian.ml/forum/t/share-your-work-here-assignment-2/4931"
   ]
  },
  {
   "cell_type": "code",
   "execution_count": null,
   "metadata": {},
   "outputs": [
    {
     "data": {
      "application/javascript": [
       "window.require && require([\"base/js/namespace\"],function(Jupyter){Jupyter.notebook.save_checkpoint()})"
      ],
      "text/plain": [
       "<IPython.core.display.Javascript object>"
      ]
     },
     "metadata": {},
     "output_type": "display_data"
    },
    {
     "name": "stdout",
     "output_type": "stream",
     "text": [
      "[jovian] Attempting to save notebook..\u001b[0m\n",
      "[jovian] Updating notebook \"imakshit/02-insurance-linear-regression\" on https://jovian.ml/\u001b[0m\n",
      "[jovian] Uploading notebook..\u001b[0m\n",
      "[jovian] Attaching records (metrics, hyperparameters, dataset etc.)\u001b[0m\n",
      "[jovian] Committed successfully! https://jovian.ml/imakshit/02-insurance-linear-regression\u001b[0m\n"
     ]
    },
    {
     "data": {
      "application/javascript": [
       "window.require && require([\"base/js/namespace\"],function(Jupyter){Jupyter.notebook.save_checkpoint()})"
      ],
      "text/plain": [
       "<IPython.core.display.Javascript object>"
      ]
     },
     "metadata": {},
     "output_type": "display_data"
    },
    {
     "name": "stdout",
     "output_type": "stream",
     "text": [
      "[jovian] Attempting to save notebook..\u001b[0m\n"
     ]
    }
   ],
   "source": [
    "jovian.commit(project=project_name, environment=None)\n",
    "jovian.commit(project=project_name, environment=None) # try again, kaggle fails sometimes"
   ]
  },
  {
   "cell_type": "code",
   "execution_count": null,
   "metadata": {},
   "outputs": [],
   "source": []
  },
  {
   "cell_type": "code",
   "execution_count": null,
   "metadata": {},
   "outputs": [],
   "source": []
  },
  {
   "cell_type": "code",
   "execution_count": null,
   "metadata": {},
   "outputs": [],
   "source": []
  }
 ],
 "metadata": {
  "kernelspec": {
   "display_name": "Python 3",
   "language": "python",
   "name": "python3"
  },
  "language_info": {
   "codemirror_mode": {
    "name": "ipython",
    "version": 3
   },
   "file_extension": ".py",
   "mimetype": "text/x-python",
   "name": "python",
   "nbconvert_exporter": "python",
   "pygments_lexer": "ipython3",
   "version": "3.6.4"
  }
 },
 "nbformat": 4,
 "nbformat_minor": 4
}
