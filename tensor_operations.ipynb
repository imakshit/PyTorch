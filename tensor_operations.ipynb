{
  "nbformat": 4,
  "nbformat_minor": 0,
  "metadata": {
    "kernelspec": {
      "display_name": "Python 3",
      "language": "python",
      "name": "python3"
    },
    "language_info": {
      "codemirror_mode": {
        "name": "ipython",
        "version": 3
      },
      "file_extension": ".py",
      "mimetype": "text/x-python",
      "name": "python",
      "nbconvert_exporter": "python",
      "pygments_lexer": "ipython3",
      "version": "3.7.6"
    },
    "colab": {
      "name": "tensor-operations.ipynb",
      "provenance": [],
      "collapsed_sections": []
    }
  },
  "cells": [
    {
      "cell_type": "markdown",
      "metadata": {
        "id": "dfUlc9RUV_2I",
        "colab_type": "text"
      },
      "source": [
        "# BASICS OF PYTORCH\n",
        "\n",
        "### Welcome to the notebook\n",
        "\n",
        "PyTorch is an open source machine learning library based on the Torch library, used for applications such as computer vision and natural language processing, primarily developed by Facebook's AI Research lab. It is free and open-source software released under the Modified BSD license.\n",
        "\n",
        "In this notebook we will be covering basics of pytorch and five functions of pytorch namely - \n",
        "- new_ones\n",
        "- function 2\n",
        "- function 3\n",
        "- function 4\n",
        "- function 5"
      ]
    },
    {
      "cell_type": "code",
      "metadata": {
        "id": "hlwWYBoCV_2J",
        "colab_type": "code",
        "colab": {}
      },
      "source": [
        "# Import torch and other required modules\n",
        "import torch"
      ],
      "execution_count": 0,
      "outputs": []
    },
    {
      "cell_type": "markdown",
      "metadata": {
        "id": "_ul9Agv3aVKJ",
        "colab_type": "text"
      },
      "source": [
        "##  Function 1 "
      ]
    },
    {
      "cell_type": "markdown",
      "metadata": {
        "id": "P-2w-wwHV_2N",
        "colab_type": "text"
      },
      "source": [
        "##new_ones \n",
        "\n",
        "Returns a Tensor of size \"size\" filled with 1. By default, the returned Tensor has the same torch.dtype and torch.device as this tensor."
      ]
    },
    {
      "cell_type": "code",
      "metadata": {
        "id": "furjvH6GV_2O",
        "colab_type": "code",
        "outputId": "ef6b6f2e-c3a4-4bdf-d5c6-f840911a2a2d",
        "colab": {
          "base_uri": "https://localhost:8080/",
          "height": 51
        }
      },
      "source": [
        "# Example 1 \n",
        "tensor = torch.tensor((), dtype = torch.float64)\n",
        "tensor.new_ones((2,3))"
      ],
      "execution_count": 0,
      "outputs": [
        {
          "output_type": "execute_result",
          "data": {
            "text/plain": [
              "tensor([[1., 1., 1.],\n",
              "        [1., 1., 1.]], dtype=torch.float64)"
            ]
          },
          "metadata": {
            "tags": []
          },
          "execution_count": 2
        }
      ]
    },
    {
      "cell_type": "markdown",
      "metadata": {
        "id": "WqSIiySwV_2S",
        "colab_type": "text"
      },
      "source": [
        "we get a tensor of size 2x3 filled with 1's."
      ]
    },
    {
      "cell_type": "code",
      "metadata": {
        "id": "wLHWPxu-V_2U",
        "colab_type": "code",
        "outputId": "54b192c8-6439-4b95-a6c4-787320257162",
        "colab": {
          "base_uri": "https://localhost:8080/",
          "height": 187
        }
      },
      "source": [
        "# Example 2 \n",
        "tensor2 = torch.tensor(() , dtype = torch.float64)\n",
        "tensor2.new_ones((10,2))"
      ],
      "execution_count": 0,
      "outputs": [
        {
          "output_type": "execute_result",
          "data": {
            "text/plain": [
              "tensor([[1., 1.],\n",
              "        [1., 1.],\n",
              "        [1., 1.],\n",
              "        [1., 1.],\n",
              "        [1., 1.],\n",
              "        [1., 1.],\n",
              "        [1., 1.],\n",
              "        [1., 1.],\n",
              "        [1., 1.],\n",
              "        [1., 1.]], dtype=torch.float64)"
            ]
          },
          "metadata": {
            "tags": []
          },
          "execution_count": 3
        }
      ]
    },
    {
      "cell_type": "markdown",
      "metadata": {
        "id": "f3Lv4V0QV_2Z",
        "colab_type": "text"
      },
      "source": [
        "We get a tensor of 10x2 filled with 1's"
      ]
    },
    {
      "cell_type": "code",
      "metadata": {
        "id": "5wqiVBd0V_2Z",
        "colab_type": "code",
        "outputId": "41e74563-f4aa-4d86-829b-e48ce9347836",
        "colab": {
          "base_uri": "https://localhost:8080/",
          "height": 197
        }
      },
      "source": [
        "# Example 3 - breaking (to illustrate when it breaks)\n",
        "tensor3 = torch.tensor(() , dtype = torch.float64)\n",
        "tensor3.new_ones(10.2)"
      ],
      "execution_count": 0,
      "outputs": [
        {
          "output_type": "error",
          "ename": "TypeError",
          "evalue": "ignored",
          "traceback": [
            "\u001b[0;31m---------------------------------------------------------------------------\u001b[0m",
            "\u001b[0;31mTypeError\u001b[0m                                 Traceback (most recent call last)",
            "\u001b[0;32m<ipython-input-4-b8aa75de1bb3>\u001b[0m in \u001b[0;36m<module>\u001b[0;34m()\u001b[0m\n\u001b[1;32m      1\u001b[0m \u001b[0;31m# Example 3 - breaking (to illustrate when it breaks)\u001b[0m\u001b[0;34m\u001b[0m\u001b[0;34m\u001b[0m\u001b[0;34m\u001b[0m\u001b[0m\n\u001b[1;32m      2\u001b[0m \u001b[0mtensor3\u001b[0m \u001b[0;34m=\u001b[0m \u001b[0mtorch\u001b[0m\u001b[0;34m.\u001b[0m\u001b[0mtensor\u001b[0m\u001b[0;34m(\u001b[0m\u001b[0;34m(\u001b[0m\u001b[0;34m)\u001b[0m \u001b[0;34m,\u001b[0m \u001b[0mdtype\u001b[0m \u001b[0;34m=\u001b[0m \u001b[0mtorch\u001b[0m\u001b[0;34m.\u001b[0m\u001b[0mfloat64\u001b[0m\u001b[0;34m)\u001b[0m\u001b[0;34m\u001b[0m\u001b[0;34m\u001b[0m\u001b[0m\n\u001b[0;32m----> 3\u001b[0;31m \u001b[0mtensor3\u001b[0m\u001b[0;34m.\u001b[0m\u001b[0mnew_ones\u001b[0m\u001b[0;34m(\u001b[0m\u001b[0;36m10.2\u001b[0m\u001b[0;34m)\u001b[0m\u001b[0;34m\u001b[0m\u001b[0;34m\u001b[0m\u001b[0m\n\u001b[0m",
            "\u001b[0;31mTypeError\u001b[0m: new_ones(): argument 'size' (position 1) must be tuple of ints, not float"
          ]
        }
      ]
    },
    {
      "cell_type": "markdown",
      "metadata": {
        "id": "WlILGYuBV_2f",
        "colab_type": "text"
      },
      "source": [
        "The size argument passed in the function must be an integer."
      ]
    },
    {
      "cell_type": "markdown",
      "metadata": {
        "id": "2DBYVLyXV_2i",
        "colab_type": "text"
      },
      "source": [
        "**When to use this function**\n",
        "\n",
        "use this function to easily initialise your tensor with 1's"
      ]
    },
    {
      "cell_type": "markdown",
      "metadata": {
        "id": "JLoEjV7EZTGj",
        "colab_type": "text"
      },
      "source": [
        "## Function 2"
      ]
    },
    {
      "cell_type": "markdown",
      "metadata": {
        "id": "sKM87EhBV_2j",
        "colab_type": "text"
      },
      "source": [
        "## torch.Tensor.item()\n",
        "\n",
        "It is used to get a python number from a tensor containing a single value."
      ]
    },
    {
      "cell_type": "code",
      "metadata": {
        "id": "UKpb5WQTV_2k",
        "colab_type": "code",
        "outputId": "39610cec-e50d-4533-c3c5-c08120b88e7d",
        "colab": {
          "base_uri": "https://localhost:8080/",
          "height": 34
        }
      },
      "source": [
        "# Example 1 \n",
        "x = torch.tensor([5])\n",
        "x.item()"
      ],
      "execution_count": 0,
      "outputs": [
        {
          "output_type": "execute_result",
          "data": {
            "text/plain": [
              "5"
            ]
          },
          "metadata": {
            "tags": []
          },
          "execution_count": 5
        }
      ]
    },
    {
      "cell_type": "markdown",
      "metadata": {
        "id": "8qztAG1NV_2r",
        "colab_type": "text"
      },
      "source": [
        "we get output as 5 which was stored in tensor x"
      ]
    },
    {
      "cell_type": "code",
      "metadata": {
        "id": "qAS9xczEV_2s",
        "colab_type": "code",
        "outputId": "69fea088-9ba8-4737-f047-1be6fd2d7eb6",
        "colab": {
          "base_uri": "https://localhost:8080/",
          "height": 34
        }
      },
      "source": [
        "# Example 2 \n",
        "x = torch.tensor(11.5)\n",
        "x.item()"
      ],
      "execution_count": 0,
      "outputs": [
        {
          "output_type": "execute_result",
          "data": {
            "text/plain": [
              "11.5"
            ]
          },
          "metadata": {
            "tags": []
          },
          "execution_count": 6
        }
      ]
    },
    {
      "cell_type": "markdown",
      "metadata": {
        "id": "o6YutFJ7V_2y",
        "colab_type": "text"
      },
      "source": [
        "we get output as 11.5 which was stored in tensor x"
      ]
    },
    {
      "cell_type": "code",
      "metadata": {
        "id": "niTcmxWwV_20",
        "colab_type": "code",
        "outputId": "586234b2-33b3-443b-bbfb-10b145ce43f3",
        "colab": {
          "base_uri": "https://localhost:8080/",
          "height": 197
        }
      },
      "source": [
        "# Example 3 - breaking (to illustrate when it breaks)\n",
        "x = torch.tensor([11,2])\n",
        "x.item()"
      ],
      "execution_count": 0,
      "outputs": [
        {
          "output_type": "error",
          "ename": "ValueError",
          "evalue": "ignored",
          "traceback": [
            "\u001b[0;31m---------------------------------------------------------------------------\u001b[0m",
            "\u001b[0;31mValueError\u001b[0m                                Traceback (most recent call last)",
            "\u001b[0;32m<ipython-input-7-fdf9cc93eb50>\u001b[0m in \u001b[0;36m<module>\u001b[0;34m()\u001b[0m\n\u001b[1;32m      1\u001b[0m \u001b[0;31m# Example 3 - breaking (to illustrate when it breaks)\u001b[0m\u001b[0;34m\u001b[0m\u001b[0;34m\u001b[0m\u001b[0;34m\u001b[0m\u001b[0m\n\u001b[1;32m      2\u001b[0m \u001b[0mx\u001b[0m \u001b[0;34m=\u001b[0m \u001b[0mtorch\u001b[0m\u001b[0;34m.\u001b[0m\u001b[0mtensor\u001b[0m\u001b[0;34m(\u001b[0m\u001b[0;34m[\u001b[0m\u001b[0;36m11\u001b[0m\u001b[0;34m,\u001b[0m\u001b[0;36m2\u001b[0m\u001b[0;34m]\u001b[0m\u001b[0;34m)\u001b[0m\u001b[0;34m\u001b[0m\u001b[0;34m\u001b[0m\u001b[0m\n\u001b[0;32m----> 3\u001b[0;31m \u001b[0mx\u001b[0m\u001b[0;34m.\u001b[0m\u001b[0mitem\u001b[0m\u001b[0;34m(\u001b[0m\u001b[0;34m)\u001b[0m\u001b[0;34m\u001b[0m\u001b[0;34m\u001b[0m\u001b[0m\n\u001b[0m",
            "\u001b[0;31mValueError\u001b[0m: only one element tensors can be converted to Python scalars"
          ]
        }
      ]
    },
    {
      "cell_type": "markdown",
      "metadata": {
        "id": "DnKw5Nf5V_24",
        "colab_type": "text"
      },
      "source": [
        "This function can only be used to get a python number from a tensor containing a single value"
      ]
    },
    {
      "cell_type": "markdown",
      "metadata": {
        "id": "ZLN1dYzXV_24",
        "colab_type": "text"
      },
      "source": [
        "**When to use this function**\n",
        "\n",
        "Use torch.Tensor.item() to get a Python number from a tensor containing a single value"
      ]
    },
    {
      "cell_type": "markdown",
      "metadata": {
        "id": "xLUdELVhaiGF",
        "colab_type": "text"
      },
      "source": [
        "## Function 3\n"
      ]
    },
    {
      "cell_type": "markdown",
      "metadata": {
        "id": "wuu4cGs9V_25",
        "colab_type": "text"
      },
      "source": [
        "## torch.autograd\n",
        "\n",
        "A tensor can be created with requires_grad=True so that torch.autograd records operations on them for automatic differentiation."
      ]
    },
    {
      "cell_type": "code",
      "metadata": {
        "id": "9jJiqpDlV_26",
        "colab_type": "code",
        "outputId": "05f9d834-6ab3-40e7-c1e2-8fcf2a1d95bb",
        "colab": {
          "base_uri": "https://localhost:8080/",
          "height": 68
        }
      },
      "source": [
        "# Example 1 \n",
        "x = torch.tensor([5.], requires_grad=True)\n",
        "y = torch.tensor([3.], requires_grad=False)#acts as a constant\n",
        "b = torch.tensor([2.] , requires_grad=True)\n",
        "z = x@y+b\n",
        "z.backward()\n",
        "print(\"dz/dx\" , x.grad)\n",
        "print(\"dz/dy\" , y.grad)\n",
        "print(\"dz/db\" , b.grad)"
      ],
      "execution_count": 0,
      "outputs": [
        {
          "output_type": "stream",
          "text": [
            "dz/dx tensor([3.])\n",
            "dz/dy None\n",
            "dz/db tensor([1.])\n"
          ],
          "name": "stdout"
        }
      ]
    },
    {
      "cell_type": "markdown",
      "metadata": {
        "id": "ZtELMs0CV_2_",
        "colab_type": "text"
      },
      "source": [
        "autograd records the operations for automatic differnetiation."
      ]
    },
    {
      "cell_type": "code",
      "metadata": {
        "id": "NNBsyEboV_2_",
        "colab_type": "code",
        "outputId": "3097ebc8-ef51-4c51-d3a7-2d27a385b5e0",
        "colab": {
          "base_uri": "https://localhost:8080/",
          "height": 68
        }
      },
      "source": [
        "# Example 2 \n",
        "x = torch.tensor([5.], requires_grad=True)\n",
        "y = torch.tensor([3.], requires_grad=True)\n",
        "b = torch.tensor([2.] , requires_grad=False)#acts as a constant\n",
        "z = y*b-x\n",
        "z.backward()\n",
        "print(\"dz/dx\" , x.grad)\n",
        "print(\"dz/dy\" , y.grad)\n",
        "print(\"dz/db\" , b.grad)\n",
        "\n"
      ],
      "execution_count": 0,
      "outputs": [
        {
          "output_type": "stream",
          "text": [
            "dz/dx tensor([-1.])\n",
            "dz/dy tensor([2.])\n",
            "dz/db None\n"
          ],
          "name": "stdout"
        }
      ]
    },
    {
      "cell_type": "markdown",
      "metadata": {
        "id": "fIGqVQEDV_3E",
        "colab_type": "text"
      },
      "source": [
        "autograd records the operations for automatic differnetiation."
      ]
    },
    {
      "cell_type": "code",
      "metadata": {
        "id": "6CiPvhHoV_3H",
        "colab_type": "code",
        "outputId": "904ab607-a3bf-4514-ded6-758d0959168c",
        "colab": {
          "base_uri": "https://localhost:8080/",
          "height": 374
        }
      },
      "source": [
        "# Example 3 - breaking (to illustrate when it breaks)\n",
        "# Example 2 \n",
        "# Example 1 \n",
        "x = torch.tensor([5.], requires_grad=False)#acts as a constant\n",
        "y = torch.tensor([3.], requires_grad=False)#acts as a constant\n",
        "b = torch.tensor([2.] , requires_grad=False)#acts as a constant\n",
        "z = y*b-x\n",
        "z.backward()\n",
        "print(\"dz/dx\" , x.grad)\n",
        "print(\"dz/dy\" , y.grad)\n",
        "print(\"dz/db\" , b.grad)\n",
        "\n",
        "#b.grad\n",
        "#output.grad\n"
      ],
      "execution_count": 0,
      "outputs": [
        {
          "output_type": "error",
          "ename": "RuntimeError",
          "evalue": "ignored",
          "traceback": [
            "\u001b[0;31m---------------------------------------------------------------------------\u001b[0m",
            "\u001b[0;31mRuntimeError\u001b[0m                              Traceback (most recent call last)",
            "\u001b[0;32m<ipython-input-10-054a579d56c1>\u001b[0m in \u001b[0;36m<module>\u001b[0;34m()\u001b[0m\n\u001b[1;32m      6\u001b[0m \u001b[0mb\u001b[0m \u001b[0;34m=\u001b[0m \u001b[0mtorch\u001b[0m\u001b[0;34m.\u001b[0m\u001b[0mtensor\u001b[0m\u001b[0;34m(\u001b[0m\u001b[0;34m[\u001b[0m\u001b[0;36m2.\u001b[0m\u001b[0;34m]\u001b[0m \u001b[0;34m,\u001b[0m \u001b[0mrequires_grad\u001b[0m\u001b[0;34m=\u001b[0m\u001b[0;32mFalse\u001b[0m\u001b[0;34m)\u001b[0m\u001b[0;31m#acts as a constant\u001b[0m\u001b[0;34m\u001b[0m\u001b[0;34m\u001b[0m\u001b[0m\n\u001b[1;32m      7\u001b[0m \u001b[0mz\u001b[0m \u001b[0;34m=\u001b[0m \u001b[0my\u001b[0m\u001b[0;34m*\u001b[0m\u001b[0mb\u001b[0m\u001b[0;34m-\u001b[0m\u001b[0mx\u001b[0m\u001b[0;34m\u001b[0m\u001b[0;34m\u001b[0m\u001b[0m\n\u001b[0;32m----> 8\u001b[0;31m \u001b[0mz\u001b[0m\u001b[0;34m.\u001b[0m\u001b[0mbackward\u001b[0m\u001b[0;34m(\u001b[0m\u001b[0;34m)\u001b[0m\u001b[0;34m\u001b[0m\u001b[0;34m\u001b[0m\u001b[0m\n\u001b[0m\u001b[1;32m      9\u001b[0m \u001b[0mprint\u001b[0m\u001b[0;34m(\u001b[0m\u001b[0;34m\"dz/dx\"\u001b[0m \u001b[0;34m,\u001b[0m \u001b[0mx\u001b[0m\u001b[0;34m.\u001b[0m\u001b[0mgrad\u001b[0m\u001b[0;34m)\u001b[0m\u001b[0;34m\u001b[0m\u001b[0;34m\u001b[0m\u001b[0m\n\u001b[1;32m     10\u001b[0m \u001b[0mprint\u001b[0m\u001b[0;34m(\u001b[0m\u001b[0;34m\"dz/dy\"\u001b[0m \u001b[0;34m,\u001b[0m \u001b[0my\u001b[0m\u001b[0;34m.\u001b[0m\u001b[0mgrad\u001b[0m\u001b[0;34m)\u001b[0m\u001b[0;34m\u001b[0m\u001b[0;34m\u001b[0m\u001b[0m\n",
            "\u001b[0;32m/usr/local/lib/python3.6/dist-packages/torch/tensor.py\u001b[0m in \u001b[0;36mbackward\u001b[0;34m(self, gradient, retain_graph, create_graph)\u001b[0m\n\u001b[1;32m    196\u001b[0m                 \u001b[0mproducts\u001b[0m\u001b[0;34m.\u001b[0m \u001b[0mDefaults\u001b[0m \u001b[0mto\u001b[0m\u001b[0;31m \u001b[0m\u001b[0;31m`\u001b[0m\u001b[0;31m`\u001b[0m\u001b[0;32mFalse\u001b[0m\u001b[0;31m`\u001b[0m\u001b[0;31m`\u001b[0m\u001b[0;34m.\u001b[0m\u001b[0;34m\u001b[0m\u001b[0;34m\u001b[0m\u001b[0m\n\u001b[1;32m    197\u001b[0m         \"\"\"\n\u001b[0;32m--> 198\u001b[0;31m         \u001b[0mtorch\u001b[0m\u001b[0;34m.\u001b[0m\u001b[0mautograd\u001b[0m\u001b[0;34m.\u001b[0m\u001b[0mbackward\u001b[0m\u001b[0;34m(\u001b[0m\u001b[0mself\u001b[0m\u001b[0;34m,\u001b[0m \u001b[0mgradient\u001b[0m\u001b[0;34m,\u001b[0m \u001b[0mretain_graph\u001b[0m\u001b[0;34m,\u001b[0m \u001b[0mcreate_graph\u001b[0m\u001b[0;34m)\u001b[0m\u001b[0;34m\u001b[0m\u001b[0;34m\u001b[0m\u001b[0m\n\u001b[0m\u001b[1;32m    199\u001b[0m \u001b[0;34m\u001b[0m\u001b[0m\n\u001b[1;32m    200\u001b[0m     \u001b[0;32mdef\u001b[0m \u001b[0mregister_hook\u001b[0m\u001b[0;34m(\u001b[0m\u001b[0mself\u001b[0m\u001b[0;34m,\u001b[0m \u001b[0mhook\u001b[0m\u001b[0;34m)\u001b[0m\u001b[0;34m:\u001b[0m\u001b[0;34m\u001b[0m\u001b[0;34m\u001b[0m\u001b[0m\n",
            "\u001b[0;32m/usr/local/lib/python3.6/dist-packages/torch/autograd/__init__.py\u001b[0m in \u001b[0;36mbackward\u001b[0;34m(tensors, grad_tensors, retain_graph, create_graph, grad_variables)\u001b[0m\n\u001b[1;32m     98\u001b[0m     Variable._execution_engine.run_backward(\n\u001b[1;32m     99\u001b[0m         \u001b[0mtensors\u001b[0m\u001b[0;34m,\u001b[0m \u001b[0mgrad_tensors\u001b[0m\u001b[0;34m,\u001b[0m \u001b[0mretain_graph\u001b[0m\u001b[0;34m,\u001b[0m \u001b[0mcreate_graph\u001b[0m\u001b[0;34m,\u001b[0m\u001b[0;34m\u001b[0m\u001b[0;34m\u001b[0m\u001b[0m\n\u001b[0;32m--> 100\u001b[0;31m         allow_unreachable=True)  # allow_unreachable flag\n\u001b[0m\u001b[1;32m    101\u001b[0m \u001b[0;34m\u001b[0m\u001b[0m\n\u001b[1;32m    102\u001b[0m \u001b[0;34m\u001b[0m\u001b[0m\n",
            "\u001b[0;31mRuntimeError\u001b[0m: element 0 of tensors does not require grad and does not have a grad_fn"
          ]
        }
      ]
    },
    {
      "cell_type": "markdown",
      "metadata": {
        "id": "uHXtWyzAV_3L",
        "colab_type": "text"
      },
      "source": [
        "None of the tensors have 'requires_grad=True' "
      ]
    },
    {
      "cell_type": "markdown",
      "metadata": {
        "id": "OPw5ItawV_3M",
        "colab_type": "text"
      },
      "source": [
        "**When to use this function**\n",
        "\n",
        "A tensor can be created with requires_grad=True so that torch.autograd records operations on them for automatic differentiation."
      ]
    },
    {
      "cell_type": "markdown",
      "metadata": {
        "id": "yQQDovUzgYOd",
        "colab_type": "text"
      },
      "source": [
        "## Function 4 "
      ]
    },
    {
      "cell_type": "markdown",
      "metadata": {
        "id": "ZBaRqEXBV_3N",
        "colab_type": "text"
      },
      "source": [
        "torch.bincount(input, weights=None, minlength=0) → Tensor\n",
        "\n",
        "Count the frequency of each value in an array of non-negative ints."
      ]
    },
    {
      "cell_type": "code",
      "metadata": {
        "id": "4MaMA3Y6V_3N",
        "colab_type": "code",
        "outputId": "83826e2f-eaf4-48e0-c0df-a91679fea502",
        "colab": {
          "base_uri": "https://localhost:8080/",
          "height": 34
        }
      },
      "source": [
        "# Example 1\n",
        "x = torch.tensor([0,1,4,4])\n",
        "torch.bincount(x)"
      ],
      "execution_count": 0,
      "outputs": [
        {
          "output_type": "execute_result",
          "data": {
            "text/plain": [
              "tensor([1, 1, 0, 0, 2])"
            ]
          },
          "metadata": {
            "tags": []
          },
          "execution_count": 11
        }
      ]
    },
    {
      "cell_type": "markdown",
      "metadata": {
        "id": "GaB-BMFtV_3R",
        "colab_type": "text"
      },
      "source": [
        "returns the count of each digit in the tensor\n",
        "\n",
        "for eg \n",
        "\n",
        "2's count is 0\n",
        "\n",
        "4's count is 2"
      ]
    },
    {
      "cell_type": "code",
      "metadata": {
        "id": "ays9nEv4V_3S",
        "colab_type": "code",
        "outputId": "e58c5325-6f32-4c43-fc71-530832a6e5d9",
        "colab": {
          "base_uri": "https://localhost:8080/",
          "height": 34
        }
      },
      "source": [
        "# Example 2 \n",
        "x = torch.tensor([],dtype=torch.int64)\n",
        "torch.bincount(x,minlength=4)"
      ],
      "execution_count": 0,
      "outputs": [
        {
          "output_type": "execute_result",
          "data": {
            "text/plain": [
              "tensor([0, 0, 0, 0])"
            ]
          },
          "metadata": {
            "tags": []
          },
          "execution_count": 12
        }
      ]
    },
    {
      "cell_type": "markdown",
      "metadata": {
        "id": "xNpyxM2sV_3Z",
        "colab_type": "text"
      },
      "source": [
        "If input is empty, then output is tensor of size minlength filled with zeros"
      ]
    },
    {
      "cell_type": "code",
      "metadata": {
        "id": "C_duK6n8V_3a",
        "colab_type": "code",
        "outputId": "41ec517f-c266-4809-d4f7-f05fbaad252e",
        "colab": {
          "base_uri": "https://localhost:8080/",
          "height": 191
        }
      },
      "source": [
        "# Example 3 - breaking (to illustrate when it breaks)\n",
        "x =  torch.tensor([1.,2.,4.])\n",
        "torch.bincount(x)"
      ],
      "execution_count": 3,
      "outputs": [
        {
          "output_type": "error",
          "ename": "RuntimeError",
          "evalue": "ignored",
          "traceback": [
            "\u001b[0;31m---------------------------------------------------------------------------\u001b[0m",
            "\u001b[0;31mRuntimeError\u001b[0m                              Traceback (most recent call last)",
            "\u001b[0;32m<ipython-input-3-5543e5e8dd29>\u001b[0m in \u001b[0;36m<module>\u001b[0;34m()\u001b[0m\n\u001b[1;32m      1\u001b[0m \u001b[0;31m# Example 3 - breaking (to illustrate when it breaks)\u001b[0m\u001b[0;34m\u001b[0m\u001b[0;34m\u001b[0m\u001b[0;34m\u001b[0m\u001b[0m\n\u001b[1;32m      2\u001b[0m \u001b[0mx\u001b[0m \u001b[0;34m=\u001b[0m  \u001b[0mtorch\u001b[0m\u001b[0;34m.\u001b[0m\u001b[0mtensor\u001b[0m\u001b[0;34m(\u001b[0m\u001b[0;34m[\u001b[0m\u001b[0;36m1.\u001b[0m\u001b[0;34m,\u001b[0m\u001b[0;36m2.\u001b[0m\u001b[0;34m,\u001b[0m\u001b[0;36m4.\u001b[0m\u001b[0;34m]\u001b[0m\u001b[0;34m)\u001b[0m\u001b[0;34m\u001b[0m\u001b[0;34m\u001b[0m\u001b[0m\n\u001b[0;32m----> 3\u001b[0;31m \u001b[0mtorch\u001b[0m\u001b[0;34m.\u001b[0m\u001b[0mbincount\u001b[0m\u001b[0;34m(\u001b[0m\u001b[0mx\u001b[0m\u001b[0;34m)\u001b[0m\u001b[0;34m\u001b[0m\u001b[0;34m\u001b[0m\u001b[0m\n\u001b[0m",
            "\u001b[0;31mRuntimeError\u001b[0m: \"bincount_cpu\" not implemented for 'Float'"
          ]
        }
      ]
    },
    {
      "cell_type": "markdown",
      "metadata": {
        "id": "GqlVwujVV_3h",
        "colab_type": "text"
      },
      "source": [
        "The function returns the frequency of each value in an array of non-negative INTS"
      ]
    },
    {
      "cell_type": "markdown",
      "metadata": {
        "id": "-Vr-WOe0V_3i",
        "colab_type": "text"
      },
      "source": [
        "**When to use this function**\n",
        "\n",
        "It can be used to count the frequency of each value in an array of non-negative ints\n"
      ]
    },
    {
      "cell_type": "markdown",
      "metadata": {
        "id": "zFjpXuxwjwmQ",
        "colab_type": "text"
      },
      "source": [
        "## Function 5 "
      ]
    },
    {
      "cell_type": "markdown",
      "metadata": {
        "id": "nhQNLXKpV_3j",
        "colab_type": "text"
      },
      "source": [
        "torch.ceil(input, out=None) → Tensor\n",
        "\n",
        "Returns a new tensor with the ceil of the elements of input, the smallest integer greater than or equal to each element."
      ]
    },
    {
      "cell_type": "code",
      "metadata": {
        "id": "pbEq7IGkV_3k",
        "colab_type": "code",
        "outputId": "eb640b0e-07f7-414d-e756-0da9e9b0daab",
        "colab": {
          "base_uri": "https://localhost:8080/",
          "height": 51
        }
      },
      "source": [
        "# Example 1 \n",
        "a = torch.randn(4)\n",
        "print(a)\n",
        "print(\"values after ceil: \",torch.ceil(a))"
      ],
      "execution_count": 0,
      "outputs": [
        {
          "output_type": "stream",
          "text": [
            "tensor([ 0.4786, -0.2044, -2.0745,  1.0624])\n",
            "values after ceil:  tensor([ 1., -0., -2.,  2.])\n"
          ],
          "name": "stdout"
        }
      ]
    },
    {
      "cell_type": "markdown",
      "metadata": {
        "id": "IvRxr2SXV_3o",
        "colab_type": "text"
      },
      "source": [
        "rounds off the input values"
      ]
    },
    {
      "cell_type": "code",
      "metadata": {
        "id": "1fKlrKUjV_3p",
        "colab_type": "code",
        "outputId": "9b6f9ec8-3727-4af3-ae55-54608ca9a1f0",
        "colab": {
          "base_uri": "https://localhost:8080/",
          "height": 34
        }
      },
      "source": [
        "# Example 2 \n",
        "a = torch.tensor([1.4,-4.5,9.0])\n",
        "torch.ceil(a)\n"
      ],
      "execution_count": 0,
      "outputs": [
        {
          "output_type": "execute_result",
          "data": {
            "text/plain": [
              "tensor([ 2., -4.,  9.])"
            ]
          },
          "metadata": {
            "tags": []
          },
          "execution_count": 15
        }
      ]
    },
    {
      "cell_type": "markdown",
      "metadata": {
        "id": "vWyAx_2iV_3u",
        "colab_type": "text"
      },
      "source": [
        "rounds off the input values"
      ]
    },
    {
      "cell_type": "code",
      "metadata": {
        "id": "T0KODrJuV_3v",
        "colab_type": "code",
        "outputId": "fa66257b-9bea-42d7-d92b-68470a3e4bd9",
        "colab": {
          "base_uri": "https://localhost:8080/",
          "height": 197
        }
      },
      "source": [
        "# Example 3 - breaking (to illustrate when it breaks)\n",
        "a = torch.tensor([1,2,3,4])\n",
        "torch.ceil(a)\n"
      ],
      "execution_count": 0,
      "outputs": [
        {
          "output_type": "error",
          "ename": "RuntimeError",
          "evalue": "ignored",
          "traceback": [
            "\u001b[0;31m---------------------------------------------------------------------------\u001b[0m",
            "\u001b[0;31mRuntimeError\u001b[0m                              Traceback (most recent call last)",
            "\u001b[0;32m<ipython-input-16-c26da525ad76>\u001b[0m in \u001b[0;36m<module>\u001b[0;34m()\u001b[0m\n\u001b[1;32m      1\u001b[0m \u001b[0;31m# Example 3 - breaking (to illustrate when it breaks)\u001b[0m\u001b[0;34m\u001b[0m\u001b[0;34m\u001b[0m\u001b[0;34m\u001b[0m\u001b[0m\n\u001b[1;32m      2\u001b[0m \u001b[0ma\u001b[0m \u001b[0;34m=\u001b[0m \u001b[0mtorch\u001b[0m\u001b[0;34m.\u001b[0m\u001b[0mtensor\u001b[0m\u001b[0;34m(\u001b[0m\u001b[0;34m[\u001b[0m\u001b[0;36m1\u001b[0m\u001b[0;34m,\u001b[0m\u001b[0;36m2\u001b[0m\u001b[0;34m,\u001b[0m\u001b[0;36m3\u001b[0m\u001b[0;34m,\u001b[0m\u001b[0;36m4\u001b[0m\u001b[0;34m]\u001b[0m\u001b[0;34m)\u001b[0m\u001b[0;34m\u001b[0m\u001b[0;34m\u001b[0m\u001b[0m\n\u001b[0;32m----> 3\u001b[0;31m \u001b[0mtorch\u001b[0m\u001b[0;34m.\u001b[0m\u001b[0mceil\u001b[0m\u001b[0;34m(\u001b[0m\u001b[0ma\u001b[0m\u001b[0;34m)\u001b[0m\u001b[0;34m\u001b[0m\u001b[0;34m\u001b[0m\u001b[0m\n\u001b[0m",
            "\u001b[0;31mRuntimeError\u001b[0m: ceil_vml_cpu not implemented for 'Long'"
          ]
        }
      ]
    },
    {
      "cell_type": "markdown",
      "metadata": {
        "id": "0VpgC7PVV_3y",
        "colab_type": "text"
      },
      "source": [
        "torch.ceil() works on float inputs\n"
      ]
    },
    {
      "cell_type": "markdown",
      "metadata": {
        "id": "nSxP5pJcV_3z",
        "colab_type": "text"
      },
      "source": [
        "**When to use this function**\n",
        "\n",
        "It can be used to calculate the ceil of given number of inputs of type flaot.\n",
        "\n"
      ]
    },
    {
      "cell_type": "markdown",
      "metadata": {
        "id": "G0fWEnFtV_3z",
        "colab_type": "text"
      },
      "source": [
        "## Conclusion\n",
        "\n",
        "AT THE END, I WOULD LIKE  TO SUMMARIZE WHAT WE HAVE COVERED SO FAR!\n",
        "\n",
        "1. PyTorch is an open source machine learning library based on the Torch library, used for applications such as computer vision, natural language processing etc.\n",
        "\n",
        "2. We covered 5 functions of pytorch namely -\n",
        "\n",
        "    * new_ones()\n",
        "\n",
        "    * Torch.tensor.items()\n",
        "\n",
        "    * Torch.auto_grad\n",
        "\n",
        "    * Torch.bincount()\n",
        "\n",
        "    * Torch.ceil()"
      ]
    },
    {
      "cell_type": "markdown",
      "metadata": {
        "id": "_h6OEzkxV_31",
        "colab_type": "text"
      },
      "source": [
        "## Reference Links\n",
        "For more information about pytorch and tensors visit - \n",
        "* Official documentation for `torch.Tensor`: https://pytorch.org/docs/stable/tensors.html\n"
      ]
    },
    {
      "cell_type": "code",
      "metadata": {
        "id": "SyguaD1vV_32",
        "colab_type": "code",
        "outputId": "4edf8640-99ef-4c06-a71f-5d6da3488c9f",
        "colab": {
          "base_uri": "https://localhost:8080/",
          "height": 51
        }
      },
      "source": [
        "!pip install jovian --upgrade --quiet"
      ],
      "execution_count": 0,
      "outputs": [
        {
          "output_type": "stream",
          "text": [
            "\u001b[?25l\r\u001b[K     |████                            | 10kB 23.3MB/s eta 0:00:01\r\u001b[K     |███████▉                        | 20kB 3.1MB/s eta 0:00:01\r\u001b[K     |███████████▉                    | 30kB 3.8MB/s eta 0:00:01\r\u001b[K     |███████████████▊                | 40kB 4.1MB/s eta 0:00:01\r\u001b[K     |███████████████████▋            | 51kB 3.6MB/s eta 0:00:01\r\u001b[K     |███████████████████████▋        | 61kB 4.0MB/s eta 0:00:01\r\u001b[K     |███████████████████████████▌    | 71kB 4.2MB/s eta 0:00:01\r\u001b[K     |███████████████████████████████▍| 81kB 4.6MB/s eta 0:00:01\r\u001b[K     |████████████████████████████████| 92kB 3.6MB/s \n",
            "\u001b[?25h  Building wheel for uuid (setup.py) ... \u001b[?25l\u001b[?25hdone\n"
          ],
          "name": "stdout"
        }
      ]
    },
    {
      "cell_type": "code",
      "metadata": {
        "id": "Sr7t14SAV_38",
        "colab_type": "code",
        "colab": {}
      },
      "source": [
        "import jovian"
      ],
      "execution_count": 0,
      "outputs": []
    },
    {
      "cell_type": "code",
      "metadata": {
        "id": "WD02jUJqV_3_",
        "colab_type": "code",
        "outputId": "6e577c3b-1999-4a43-e62f-24ee368cf4e8",
        "colab": {
          "base_uri": "https://localhost:8080/",
          "height": 34
        }
      },
      "source": [
        "a = torch.tensor([1,2,3], dtype = torch.float64)"
      ],
      "execution_count": 0,
      "outputs": [
        {
          "output_type": "stream",
          "text": [
            "\u001b[31m[jovian] Error: Failed to detect Jupyter notebook or Python script. Skipping..\u001b[0m\n"
          ],
          "name": "stderr"
        }
      ]
    },
    {
      "cell_type": "code",
      "metadata": {
        "id": "Kcr8P08RJAY_",
        "colab_type": "code",
        "colab": {}
      },
      "source": [
        ""
      ],
      "execution_count": 0,
      "outputs": []
    }
  ]
}